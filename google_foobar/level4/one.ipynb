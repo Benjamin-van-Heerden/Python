{
 "cells": [
  {
   "cell_type": "code",
   "execution_count": 37,
   "source": [
    "import numpy as np\r\n",
    "import seaborn as sns\r\n",
    "sns.set_style(\"darkgrid\")\r\n",
    "import matplotlib.pyplot as plt"
   ],
   "outputs": [],
   "metadata": {}
  },
  {
   "cell_type": "code",
   "execution_count": 69,
   "source": [
    "dimensions = [3,2]\r\n",
    "your_position = [1, 1]\r\n",
    "trainer_position = [2, 1]\r\n",
    "distance = 4"
   ],
   "outputs": [],
   "metadata": {}
  },
  {
   "cell_type": "code",
   "execution_count": 70,
   "source": [
    "x_boundary = dimensions[0]\r\n",
    "y_boundary = dimensions[1]\r\n",
    "plt.axhline(y=y_boundary, color=\"red\")\r\n",
    "plt.axhline(y=0, color=\"red\")\r\n",
    "plt.axvline(x=x_boundary, color=\"red\")\r\n",
    "plt.axvline(x=0, color=\"red\")\r\n",
    "plt.plot(*your_position, \"gx\")\r\n",
    "plt.plot(*trainer_position, \"bx\")\r\n",
    "plt.show()"
   ],
   "outputs": [
    {
     "output_type": "display_data",
     "data": {
      "image/png": "[encoded data removed]",
      "text/plain": [
       "<Figure size 432x288 with 1 Axes>"
      ]
     },
     "metadata": {}
    }
   ],
   "metadata": {}
  },
  {
   "cell_type": "code",
   "execution_count": 88,
   "source": [
    "import math\r\n",
    "\r\n",
    "def find_line(origin_x, origin_y, x_boundary, y_boundary, target_x, target_y, direction_vector_x, direction_vector_y, max_length, x_hits=[], y_hits=[], current_length=0):\r\n",
    "    # find the angles corresponding to the triangular quadrants from the \r\n",
    "    # origin to determine where the line will hit the boundary\r\n",
    "    # angles always measured from the first quadrant going counterclockwise as per convention\r\n",
    "    angle_top_right, angle_top_left, angle_bottom_left, angle_bottom_right = calc_perspective_quadrants(origin_x, origin_y, x_boundary, y_boundary) \r\n",
    "    print(angle_top_right, angle_top_left, angle_bottom_left, angle_bottom_right)\r\n",
    "    line_angle = calc_angle_from_vector(direction_vector_x, direction_vector_y)\r\n",
    "    print(line_angle)\r\n",
    "    boundary_will_hit = boundary_hit(line_angle, angle_top_right, angle_top_left, angle_bottom_left, angle_bottom_right)\r\n",
    "    print(boundary_will_hit)\r\n",
    "\r\n",
    "    \r\n",
    "\r\n",
    "def boundary_hit(line_angle, angle_top_right, angle_top_left, angle_bottom_left, angle_bottom_right):\r\n",
    "    # now we check the angle provided to see where it will hit\r\n",
    "    if line_angle > angle_top_right and line_angle < angle_top_left:\r\n",
    "        # this means it will hit the top boundary\r\n",
    "        return \"top\"\r\n",
    "    elif line_angle > angle_top_left and line_angle < angle_bottom_left:\r\n",
    "        # this means it will hit the left boundary\r\n",
    "        return \"left\"\r\n",
    "    elif line_angle > angle_bottom_left and line_angle < angle_bottom_right:\r\n",
    "        # this means it will hit the bottom boundary\r\n",
    "        return \"bottom\"\r\n",
    "    elif (line_angle < angle_top_right and line_angle >= 0) or (line_angle > angle_bottom_right):\r\n",
    "        # this means it will hit the right boundary\r\n",
    "        return \"right\"\r\n",
    "    else:\r\n",
    "        # otherwise it hits a corner\r\n",
    "        return \"corner\"\r\n",
    "\r\n",
    "def calc_angle_from_vector(v_x, v_y):\r\n",
    "    # calculate the angle produced by the direction vector\r\n",
    "    if v_x >= 0 and v_y >= 0:\r\n",
    "        # 1st quadrant\r\n",
    "        return math.degrees(math.atan(v_y/v_x))\r\n",
    "    elif v_x < 0 and v_y >= 0:\r\n",
    "        # 2nd quadrant\r\n",
    "        return math.degrees(math.pi + math.atan(v_y/v_x))\r\n",
    "    elif v_x < 0 and v_y < 0:\r\n",
    "        # 3rd quadrant\r\n",
    "        return math.degrees(math.pi + math.atan(v_y/v_x))\r\n",
    "    elif v_x >= 0 and v_y < 0:\r\n",
    "        # 4th quadrant\r\n",
    "        return math.degrees(2*math.pi + math.atan(v_y/v_x))\r\n",
    "\r\n",
    "def calc_perspective_quadrants(origin_x, origin_y, x_boundary, y_boundary):\r\n",
    "    # top-right: [origin_x, origin_y] -> [x_boundary, y_boundary], 1st quadrant\r\n",
    "    angle_top_right = math.degrees(math.atan((y_boundary - origin_y)/(x_boundary - origin_x)))\r\n",
    "    # top-left: [origin_x, origin_y] -> [0, y_boundary], 2nd quadrant\r\n",
    "    angle_top_left = math.degrees(math.pi + math.atan((y_boundary - origin_y)/(0 - origin_x)))\r\n",
    "    # bottom-left: [origin_x, origin_y] -> [0, 0], 3rd quadrant\r\n",
    "    angle_bottom_left = math.degrees(math.pi + math.atan((0 - origin_y)/(0 - origin_x)))\r\n",
    "    # bottom-right: [origin_x, origin_y] -> [x_boundary, 0], 4th quadrant\r\n",
    "    angle_bottom_right = math.degrees(2*math.pi + math.atan((0 - origin_y)/(x_boundary - origin_x)))\r\n",
    "\r\n",
    "    return angle_top_right, angle_top_left, angle_bottom_left, angle_bottom_right\r\n",
    "        \r\n",
    "         \r\n",
    "    \r\n",
    "\r\n",
    "find_line(your_position[0], your_position[1], x_boundary, y_boundary, trainer_position[0], trainer_position[1], 1, 0, distance, x_hits=[], y_hits=[], current_length=0)\r\n",
    "\r\n",
    "\r\n"
   ],
   "outputs": [
    {
     "output_type": "stream",
     "name": "stdout",
     "text": [
      "26.56505117707799 135.0 225.0 333.434948822922\n",
      "0.0\n",
      "right\n"
     ]
    }
   ],
   "metadata": {}
  },
  {
   "cell_type": "code",
   "execution_count": 89,
   "source": [
    "2**3"
   ],
   "outputs": [
    {
     "output_type": "execute_result",
     "data": {
      "text/plain": [
       "8"
      ]
     },
     "metadata": {},
     "execution_count": 89
    }
   ],
   "metadata": {}
  },
  {
   "cell_type": "code",
   "execution_count": 92,
   "source": [
    "import math\r\n",
    "math.tan(math.radians(45))"
   ],
   "outputs": [
    {
     "output_type": "execute_result",
     "data": {
      "text/plain": [
       "0.9999999999999999"
      ]
     },
     "metadata": {},
     "execution_count": 92
    }
   ],
   "metadata": {}
  },
  {
   "cell_type": "code",
   "execution_count": 1,
   "source": [
    "s = set()"
   ],
   "outputs": [],
   "metadata": {}
  },
  {
   "cell_type": "code",
   "execution_count": 8,
   "source": [
    "s.add((1, 2))\r\n",
    "s.add((1, 2))\r\n",
    "s.add((3, 4))\r\n",
    "s"
   ],
   "outputs": [
    {
     "output_type": "execute_result",
     "data": {
      "text/plain": [
       "{(1, 2), (3, 4)}"
      ]
     },
     "metadata": {},
     "execution_count": 8
    }
   ],
   "metadata": {}
  },
  {
   "cell_type": "code",
   "execution_count": 1,
   "source": [
    "import math\r\n",
    "\r\n",
    "math.dist([1, 1], [4,4])"
   ],
   "outputs": [
    {
     "output_type": "execute_result",
     "data": {
      "text/plain": [
       "4.242640687119286"
      ]
     },
     "metadata": {},
     "execution_count": 1
    }
   ],
   "metadata": {}
  },
  {
   "cell_type": "code",
   "execution_count": 17,
   "source": [
    "a = {\"[1, 2]\": 3, \"[3, 4]\": 4, \"[5, 6]\": 7}\r\n",
    "b = {\"[2, 2]\": 4, \"[3, 4]\": 5, \"[5, 6]\": 8, \"[7, 6]\": 9}\r\n",
    "\r\n",
    "if \"[2, 2]\" in b:\r\n",
    "    print(\"s\")\r\n",
    "\r\n",
    "print(b[\"[2, 2]\"])"
   ],
   "outputs": [
    {
     "output_type": "stream",
     "name": "stdout",
     "text": [
      "s\n",
      "4\n"
     ]
    }
   ],
   "metadata": {}
  },
  {
   "cell_type": "code",
   "execution_count": null,
   "source": [],
   "outputs": [],
   "metadata": {}
  },
  {
   "cell_type": "code",
   "execution_count": null,
   "source": [],
   "outputs": [],
   "metadata": {}
  },
  {
   "cell_type": "code",
   "execution_count": null,
   "source": [],
   "outputs": [],
   "metadata": {}
  }
 ],
 "metadata": {
  "orig_nbformat": 4,
  "language_info": {
   "name": "python",
   "version": "3.9.7",
   "mimetype": "text/x-python",
   "codemirror_mode": {
    "name": "ipython",
    "version": 3
   },
   "pygments_lexer": "ipython3",
   "nbconvert_exporter": "python",
   "file_extension": ".py"
  },
  "kernelspec": {
   "name": "python3",
   "display_name": "Python 3.9.7 64-bit"
  },
  "interpreter": {
   "hash": "63fd5069d213b44bf678585dea6b12cceca9941eaf7f819626cde1f2670de90d"
  }
 },
 "nbformat": 4,
 "nbformat_minor": 2
}
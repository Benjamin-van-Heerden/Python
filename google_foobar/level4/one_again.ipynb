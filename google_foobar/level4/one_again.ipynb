{
 "cells": [
  {
   "cell_type": "code",
   "execution_count": 2,
   "source": [
    "import matplotlib.pyplot as plt\r\n",
    "import seaborn as sns\r\n",
    "sns.set_style(\"darkgrid\")"
   ],
   "outputs": [],
   "metadata": {}
  },
  {
   "cell_type": "code",
   "execution_count": 3,
   "source": [
    "dimensions = [3,3]\r\n",
    "your_position = [1, 1]\r\n",
    "trainer_position = [2, 2]\r\n",
    "distance = 4"
   ],
   "outputs": [],
   "metadata": {}
  },
  {
   "cell_type": "code",
   "execution_count": 4,
   "source": [
    "x_boundary = dimensions[0]\r\n",
    "y_boundary = dimensions[1]\r\n",
    "plt.axhline(y=y_boundary, color=\"red\")\r\n",
    "plt.axhline(y=0, color=\"red\")\r\n",
    "plt.axvline(x=x_boundary, color=\"red\")\r\n",
    "plt.axvline(x=0, color=\"red\")\r\n",
    "plt.plot(*your_position, \"gx\")\r\n",
    "plt.plot(*trainer_position, \"bo\")\r\n",
    "plt.show()"
   ],
   "outputs": [
    {
     "output_type": "display_data",
     "data": {
      "image/png": "[encoded data removed]",
      "text/plain": [
       "<Figure size 432x288 with 1 Axes>"
      ]
     },
     "metadata": {}
    }
   ],
   "metadata": {}
  },
  {
   "cell_type": "code",
   "execution_count": 5,
   "source": [
    "import math\r\n",
    "\r\n",
    "# math.dist(p, q) -> euclidean distance\r\n",
    "\r\n",
    "def gen_vertical_points(your_position, trainer_position, dimensions, distance):\r\n",
    "    reflected_replicates_trainer = [trainer_position]\r\n",
    "    reflected_replicates_your = [your_position]\r\n",
    "    hlines = []\r\n",
    "    your_distance_to_top = dimensions[1] - your_position[1]\r\n",
    "    your_distance_from_bottom = your_position[1]\r\n",
    "    trainer_distance_to_top = dimensions[1] - trainer_position[1]\r\n",
    "    trainer_distance_from_bottom = trainer_position[1]\r\n",
    "\r\n",
    "    # first go upwards from the base cell\r\n",
    "    sign = 1\r\n",
    "    i = 0\r\n",
    "    dist = 0\r\n",
    "    # for vertical reflections the x coordinate does not chenge\r\n",
    "    trainer_new_x = trainer_position[0]\r\n",
    "    your_new_x = your_position[0]\r\n",
    "    while True: \r\n",
    "        if sign == 1:\r\n",
    "            trainer_new_y = i*dimensions[1] + trainer_distance_from_bottom\r\n",
    "            your_new_y = i*dimensions[1] + your_distance_from_bottom\r\n",
    "        else:\r\n",
    "            trainer_new_y = i*dimensions[1] + trainer_distance_to_top\r\n",
    "            your_new_y = i*dimensions[1] + your_distance_to_top\r\n",
    "            \r\n",
    "        \r\n",
    "        dist = math.dist(your_position, [trainer_new_x, trainer_new_y])\r\n",
    "\r\n",
    "        if dist <= distance:\r\n",
    "            reflected_replicates_trainer.append([trainer_new_x, trainer_new_y])\r\n",
    "            reflected_replicates_your.append([your_new_x, your_new_y])\r\n",
    "            hlines.append(i*dimensions[1])\r\n",
    "            sign *= -1\r\n",
    "            i += 1\r\n",
    "        else:\r\n",
    "            hlines.append(i*dimensions[1])\r\n",
    "            break\r\n",
    "\r\n",
    "    # now go downwards from the base cell\r\n",
    "    sign = -1\r\n",
    "    i = -1\r\n",
    "    dist = 0\r\n",
    "    # for vertical reflections the x coordinate does not chenge\r\n",
    "    trainer_new_x = trainer_position[0]\r\n",
    "    your_new_x = your_position[0]\r\n",
    "    while True: \r\n",
    "        if sign == 1:\r\n",
    "            trainer_new_y = i*dimensions[1] + trainer_distance_from_bottom\r\n",
    "            your_new_y = i*dimensions[1] + your_distance_from_bottom\r\n",
    "        else:\r\n",
    "            trainer_new_y = i*dimensions[1] + trainer_distance_to_top\r\n",
    "            your_new_y = i*dimensions[1] + your_distance_to_top\r\n",
    "            \r\n",
    "        \r\n",
    "        dist = math.dist(your_position, [trainer_new_x, trainer_new_y])\r\n",
    "\r\n",
    "        if dist <= distance:\r\n",
    "            reflected_replicates_trainer.append([trainer_new_x, trainer_new_y])\r\n",
    "            reflected_replicates_your.append([your_new_x, your_new_y])\r\n",
    "            hlines.append(i*dimensions[1])\r\n",
    "            sign *= -1\r\n",
    "            i -= 1\r\n",
    "        else:\r\n",
    "            break\r\n",
    "\r\n",
    "    return reflected_replicates_your, reflected_replicates_trainer, hlines\r\n",
    "\r\n",
    "\r\n",
    "\r\n",
    "your, trainer, hlines = gen_vertical_points(your_position, trainer_position, dimensions, distance)"
   ],
   "outputs": [],
   "metadata": {}
  },
  {
   "cell_type": "code",
   "execution_count": 6,
   "source": [
    "# plt.axhline(0, c=\"black\")\r\n",
    "# plt.axvline(0, c=\"black\")\r\n",
    "\r\n",
    "for i in range(len(trainer)):\r\n",
    "    plt.plot(*trainer[i], \"rx\")\r\n",
    "    plt.plot(*your[i], \"bo\")\r\n",
    "    plt.axhline(hlines[i], c=\"black\")\r\n",
    "    \r\n",
    "\r\n",
    "plt.show()"
   ],
   "outputs": [
    {
     "output_type": "display_data",
     "data": {
      "image/png": "[encoded data removed]",
      "text/plain": [
       "<Figure size 432x288 with 1 Axes>"
      ]
     },
     "metadata": {}
    }
   ],
   "metadata": {}
  },
  {
   "cell_type": "code",
   "execution_count": 7,
   "source": [
    "print(your)\r\n",
    "print(trainer)"
   ],
   "outputs": [
    {
     "output_type": "stream",
     "name": "stdout",
     "text": [
      "[[1, 1], [1, 1], [1, 5], [1, -1]]\n",
      "[[2, 2], [2, 2], [2, 4], [2, -2]]\n"
     ]
    }
   ],
   "metadata": {}
  },
  {
   "cell_type": "code",
   "execution_count": null,
   "source": [],
   "outputs": [],
   "metadata": {}
  }
 ],
 "metadata": {
  "orig_nbformat": 4,
  "language_info": {
   "name": "python",
   "version": "3.9.7",
   "mimetype": "text/x-python",
   "codemirror_mode": {
    "name": "ipython",
    "version": 3
   },
   "pygments_lexer": "ipython3",
   "nbconvert_exporter": "python",
   "file_extension": ".py"
  },
  "kernelspec": {
   "name": "python3",
   "display_name": "Python 3.9.7 64-bit"
  },
  "interpreter": {
   "hash": "63fd5069d213b44bf678585dea6b12cceca9941eaf7f819626cde1f2670de90d"
  }
 },
 "nbformat": 4,
 "nbformat_minor": 2
}
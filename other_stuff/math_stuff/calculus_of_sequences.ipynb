{
 "cells": [
  {
   "cell_type": "code",
   "execution_count": 1,
   "metadata": {
    "collapsed": true
   },
   "outputs": [],
   "source": [
    "import pandas as pd\n",
    "import numpy as np\n",
    "import sympy as sym\n",
    "import math"
   ]
  },
  {
   "cell_type": "code",
   "execution_count": 2,
   "outputs": [],
   "source": [
    "p = pd.read_csv(\"./ss.csv\")\n",
    "# p = p.head(20)\n",
    "# p = p.reset_index(drop=True)"
   ],
   "metadata": {
    "collapsed": false,
    "pycharm": {
     "name": "#%%\n"
    }
   }
  },
  {
   "cell_type": "code",
   "execution_count": 3,
   "outputs": [],
   "source": [
    "def n_choose_i(n, i):\n",
    "    \"\"\"\n",
    "    :param n: the sympy variable in which the sequence is to be defined\n",
    "    :param i: the integer to choose from\n",
    "    :return: the term corresponding to n_choose_i\n",
    "    \"\"\"\n",
    "    expr = 1\n",
    "    for l in range(i):\n",
    "        expr *= (n - l)\n",
    "    return expr / sym.factorial(i)"
   ],
   "metadata": {
    "collapsed": false,
    "pycharm": {
     "name": "#%%\n"
    }
   }
  },
  {
   "cell_type": "code",
   "execution_count": 4,
   "outputs": [],
   "source": [
    "def construct_polynomial_sequence(seq_df, approximate=False):\n",
    "    \"\"\"\n",
    "    Uses the calculus of sequences along with the Newton-Gregory interpolation formula to determine \"what comes next\"\n",
    "    given an arbitrary polynomial sequence\n",
    "    :param seq_df: a dataframe containing only the sequence in a column \"diff_0\"\n",
    "    :param approximate: if there is no valid polynomial that defines the sequence it may still be approximated\n",
    "    :return: sympy polynomial representation of the sequence\n",
    "    \"\"\"\n",
    "\n",
    "    k = 1\n",
    "    has_polynomial_representation = False\n",
    "\n",
    "    while k < len(seq_df) - 1:\n",
    "        seq_df[f\"diff_{k}\"] = seq_df[f\"diff_{k - 1}\"].diff()\n",
    "        valid = seq_df[f\"diff_{k}\"].first_valid_index()\n",
    "        if seq_df[f\"diff_{k}\"].iloc[valid] == seq_df[f\"diff_{k}\"].iloc[valid + 1] and seq_df[f\"diff_{k}\"].iloc[valid] == seq_df[f\"diff_{k}\"].iloc[valid + 2]:\n",
    "            has_polynomial_representation = True\n",
    "            break\n",
    "        k += 1\n",
    "\n",
    "    # return seq_df\n",
    "\n",
    "    if not has_polynomial_representation:\n",
    "        if not approximate:\n",
    "            raise Exception(\"No valid polynomial definition or not enough terms provided for the given sequence\")\n",
    "\n",
    "    leading_terms = []\n",
    "    for col in seq_df.columns:\n",
    "        valid_index = seq_df[col].first_valid_index()\n",
    "        leading_terms.append(seq_df[col].iloc[valid_index])\n",
    "\n",
    "    n = sym.symbols(\"n\")\n",
    "    polynomial = 0\n",
    "    for i, term in enumerate(leading_terms):\n",
    "        polynomial += term * n_choose_i(n, i)\n",
    "\n",
    "    return sym.expand(polynomial)"
   ],
   "metadata": {
    "collapsed": false,
    "pycharm": {
     "name": "#%%\n"
    }
   }
  },
  {
   "cell_type": "code",
   "execution_count": 7,
   "outputs": [
    {
     "data": {
      "text/plain": "16.6666666666667*n**3 - 50.0*n**2 + 133.333333333333*n",
      "text/latex": "$\\displaystyle 16.6666666666667 n^{3} - 50.0 n^{2} + 133.333333333333 n$"
     },
     "execution_count": 7,
     "metadata": {},
     "output_type": "execute_result"
    }
   ],
   "source": [
    "poly = construct_polynomial_sequence(p)\n",
    "poly"
   ],
   "metadata": {
    "collapsed": false,
    "pycharm": {
     "name": "#%%\n"
    }
   }
  },
  {
   "cell_type": "code",
   "execution_count": 9,
   "outputs": [],
   "source": [
    "n = sym.symbols(\"n\")"
   ],
   "metadata": {
    "collapsed": false,
    "pycharm": {
     "name": "#%%\n"
    }
   }
  },
  {
   "cell_type": "code",
   "execution_count": 39,
   "outputs": [
    {
     "name": "stderr",
     "output_type": "stream",
     "text": [
      "<ipython-input-39-58be544ff193>:4: SettingWithCopyWarning: \n",
      "A value is trying to be set on a copy of a slice from a DataFrame.\n",
      "Try using .loc[row_indexer,col_indexer] = value instead\n",
      "\n",
      "See the caveats in the documentation: https://pandas.pydata.org/pandas-docs/stable/user_guide/indexing.html#returning-a-view-versus-a-copy\n",
      "  p[\"descr\"] = p[\"ans\"] - p[\"diff_0\"]\n"
     ]
    },
    {
     "data": {
      "text/plain": "           diff_0         ans descr\n0    0.000000e+00           0     0\n1    1.000000e+02         100     0\n2    2.000000e+02         200     0\n3    4.000000e+02         400     0\n4    8.000000e+02         800     0\n..            ...         ...   ...\n495  2.009271e+09  2009271000     0\n496  2.021498e+09  2021497600     0\n497  2.033774e+09  2033773700     0\n498  2.046099e+09  2046099400     0\n499  2.058475e+09  2058474800     0\n\n[500 rows x 3 columns]",
      "text/html": "<div>\n<style scoped>\n    .dataframe tbody tr th:only-of-type {\n        vertical-align: middle;\n    }\n\n    .dataframe tbody tr th {\n        vertical-align: top;\n    }\n\n    .dataframe thead th {\n        text-align: right;\n    }\n</style>\n<table border=\"1\" class=\"dataframe\">\n  <thead>\n    <tr style=\"text-align: right;\">\n      <th></th>\n      <th>diff_0</th>\n      <th>ans</th>\n      <th>descr</th>\n    </tr>\n  </thead>\n  <tbody>\n    <tr>\n      <th>0</th>\n      <td>0.000000e+00</td>\n      <td>0</td>\n      <td>0</td>\n    </tr>\n    <tr>\n      <th>1</th>\n      <td>1.000000e+02</td>\n      <td>100</td>\n      <td>0</td>\n    </tr>\n    <tr>\n      <th>2</th>\n      <td>2.000000e+02</td>\n      <td>200</td>\n      <td>0</td>\n    </tr>\n    <tr>\n      <th>3</th>\n      <td>4.000000e+02</td>\n      <td>400</td>\n      <td>0</td>\n    </tr>\n    <tr>\n      <th>4</th>\n      <td>8.000000e+02</td>\n      <td>800</td>\n      <td>0</td>\n    </tr>\n    <tr>\n      <th>...</th>\n      <td>...</td>\n      <td>...</td>\n      <td>...</td>\n    </tr>\n    <tr>\n      <th>495</th>\n      <td>2.009271e+09</td>\n      <td>2009271000</td>\n      <td>0</td>\n    </tr>\n    <tr>\n      <th>496</th>\n      <td>2.021498e+09</td>\n      <td>2021497600</td>\n      <td>0</td>\n    </tr>\n    <tr>\n      <th>497</th>\n      <td>2.033774e+09</td>\n      <td>2033773700</td>\n      <td>0</td>\n    </tr>\n    <tr>\n      <th>498</th>\n      <td>2.046099e+09</td>\n      <td>2046099400</td>\n      <td>0</td>\n    </tr>\n    <tr>\n      <th>499</th>\n      <td>2.058475e+09</td>\n      <td>2058474800</td>\n      <td>0</td>\n    </tr>\n  </tbody>\n</table>\n<p>500 rows × 3 columns</p>\n</div>"
     },
     "execution_count": 39,
     "metadata": {},
     "output_type": "execute_result"
    }
   ],
   "source": [
    "p[\"index\"] = p.index\n",
    "p[\"ans\"] = p[\"index\"].apply(lambda x: math.ceil(poly.evalf(subs={n: x})))\n",
    "p = p[[\"diff_0\", \"ans\"]]\n",
    "p[\"descr\"] = p[\"ans\"] - p[\"diff_0\"]\n",
    "p"
   ],
   "metadata": {
    "collapsed": false,
    "pycharm": {
     "name": "#%%\n"
    }
   }
  },
  {
   "cell_type": "code",
   "execution_count": 40,
   "outputs": [],
   "source": [
    "ans = int(math.ceil(poly.evalf(subs={n: 666666665})))"
   ],
   "metadata": {
    "collapsed": false,
    "pycharm": {
     "name": "#%%\n"
    }
   }
  },
  {
   "cell_type": "code",
   "execution_count": 41,
   "outputs": [
    {
     "data": {
      "text/plain": "4938271545679012126374494208"
     },
     "execution_count": 41,
     "metadata": {},
     "output_type": "execute_result"
    }
   ],
   "source": [
    "ans"
   ],
   "metadata": {
    "collapsed": false,
    "pycharm": {
     "name": "#%%\n"
    }
   }
  },
  {
   "cell_type": "code",
   "execution_count": 36,
   "outputs": [
    {
     "data": {
      "text/plain": "'11111111010011010111101011001110100001001101000111101000000000000000000000000000000000000000'"
     },
     "execution_count": 36,
     "metadata": {},
     "output_type": "execute_result"
    }
   ],
   "source": [
    "bin(ans)[2:]"
   ],
   "metadata": {
    "collapsed": false,
    "pycharm": {
     "name": "#%%\n"
    }
   }
  },
  {
   "cell_type": "code",
   "execution_count": 42,
   "outputs": [
    {
     "data": {
      "text/plain": "16.6666666666667*n**3 - 50.0*n**2 + 133.333333333333*n",
      "text/latex": "$\\displaystyle 16.6666666666667 n^{3} - 50.0 n^{2} + 133.333333333333 n$"
     },
     "execution_count": 42,
     "metadata": {},
     "output_type": "execute_result"
    }
   ],
   "source": [
    "poly"
   ],
   "metadata": {
    "collapsed": false,
    "pycharm": {
     "name": "#%%\n"
    }
   }
  },
  {
   "cell_type": "code",
   "execution_count": null,
   "outputs": [],
   "source": [
    "7638271545679012348271604500\n",
    "4938271545679012126374494208"
   ],
   "metadata": {
    "collapsed": false,
    "pycharm": {
     "name": "#%%\n"
    }
   }
  }
 ],
 "metadata": {
  "kernelspec": {
   "display_name": "Python 3",
   "language": "python",
   "name": "python3"
  },
  "language_info": {
   "codemirror_mode": {
    "name": "ipython",
    "version": 2
   },
   "file_extension": ".py",
   "mimetype": "text/x-python",
   "name": "python",
   "nbconvert_exporter": "python",
   "pygments_lexer": "ipython2",
   "version": "2.7.6"
  }
 },
 "nbformat": 4,
 "nbformat_minor": 0
}
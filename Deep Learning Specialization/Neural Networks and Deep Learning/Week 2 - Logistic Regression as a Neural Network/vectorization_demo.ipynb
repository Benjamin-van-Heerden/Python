{
 "cells": [
  {
   "cell_type": "code",
   "execution_count": 31,
   "metadata": {
    "collapsed": true
   },
   "outputs": [
    {
     "name": "stdout",
     "output_type": "stream",
     "text": [
      "[1 2 3 4]\n"
     ]
    }
   ],
   "source": [
    "import math\n",
    "\n",
    "import numpy as np\n",
    "\n",
    "a = np.array([1, 2, 3, 4])\n",
    "print(a)"
   ]
  },
  {
   "cell_type": "code",
   "execution_count": 9,
   "outputs": [
    {
     "name": "stdout",
     "output_type": "stream",
     "text": [
      "c = 2499644.4701171992\n",
      "Vectorized version: 0.0ms\n",
      "c = 2499644.470116856\n",
      "Loop version: 5221.790552139282ms\n"
     ]
    }
   ],
   "source": [
    "import time\n",
    "\n",
    "a = np.random.rand(10000000)\n",
    "b = np.random.rand(10000000)\n",
    "tic = time.time()\n",
    "c = np.dot(a, b)\n",
    "toc = time.time()\n",
    "print(f\"c = {c}\")\n",
    "print(f\"Vectorized version: {1000 * (toc - tic)}ms\")\n",
    "\n",
    "c = 0\n",
    "tic = time.time()\n",
    "for i in range(len(a)):\n",
    "    c += a[i] * b[i]\n",
    "toc = time.time()\n",
    "\n",
    "print(f\"c = {c}\")\n",
    "print(f\"Loop version: {1000 * (toc - tic)}ms\")\n",
    "# more than 1000x performance increase!"
   ],
   "metadata": {
    "collapsed": false,
    "pycharm": {
     "name": "#%%\n"
    }
   }
  },
  {
   "cell_type": "code",
   "execution_count": 33,
   "outputs": [
    {
     "name": "stdout",
     "output_type": "stream",
     "text": [
      "c = (1000,)\n",
      "[245.15317529 260.52966772 254.49075119 251.33992542 254.67090091]\n",
      "Vectorized version: 0.0ms\n",
      "\n",
      "c = (1000,)\n",
      "[245.15317529 260.52966772 254.49075119 251.33992542 254.67090091]\n",
      "Loop version: 844.264030456543ms\n",
      "\n",
      "c = (1000,)\n",
      "[1.81331312 1.44010661 1.00539009 1.75257779 2.45118213]\n",
      "Vectorized version: 0.0ms\n",
      "\n",
      "c = (1000,)\n",
      "[1.81331312 1.44010661 1.00539009 1.75257779 2.45118213]\n",
      "Loop version: 0.0ms\n",
      "\n"
     ]
    }
   ],
   "source": [
    "np.random.seed(42)\n",
    "A = np.random.rand(1000, 1000)\n",
    "v = np.random.rand(1000)\n",
    "\n",
    "# matrix vector mult\n",
    "tic = time.time()\n",
    "c = np.dot(A, v)\n",
    "toc = time.time()\n",
    "print(f\"c = {c.shape}\\n{c[:5]}\")\n",
    "print(f\"Vectorized version: {1000 * (toc - tic)}ms\\n\")\n",
    "\n",
    "c = np.zeros((1000,))\n",
    "tic = time.time()\n",
    "for i in range(1000):\n",
    "    for j in range(1000):\n",
    "        c[i] += A[i][j] * v[j]\n",
    "toc = time.time()\n",
    "print(f\"c = {c.shape}\\n{c[:5]}\")\n",
    "print(f\"Loop version: {1000 * (toc - tic)}ms\\n\")\n",
    "# again more than 1000x performance increase\n",
    "\n",
    "# applying functions\n",
    "tic = time.time()\n",
    "c = np.exp(v)\n",
    "toc = time.time()\n",
    "print(f\"c = {c.shape}\\n{c[:5]}\")\n",
    "print(f\"Vectorized version: {1000 * (toc - tic)}ms\\n\")\n",
    "\n",
    "c = np.zeros((1000,))\n",
    "tic = time.time()\n",
    "for i in range(1000):\n",
    "    c[i] = math.exp(v[i])\n",
    "toc = time.time()\n",
    "print(f\"c = {c.shape}\\n{c[:5]}\")\n",
    "print(f\"Loop version: {1000 * (toc - tic)}ms\\n\")\n",
    "# here the difference is not so staggering"
   ],
   "metadata": {
    "collapsed": false,
    "pycharm": {
     "name": "#%%\n"
    }
   }
  },
  {
   "cell_type": "code",
   "execution_count": null,
   "outputs": [],
   "source": [],
   "metadata": {
    "collapsed": false,
    "pycharm": {
     "name": "#%%\n"
    }
   }
  }
 ],
 "metadata": {
  "kernelspec": {
   "display_name": "Python 3",
   "language": "python",
   "name": "python3"
  },
  "language_info": {
   "codemirror_mode": {
    "name": "ipython",
    "version": 2
   },
   "file_extension": ".py",
   "mimetype": "text/x-python",
   "name": "python",
   "nbconvert_exporter": "python",
   "pygments_lexer": "ipython2",
   "version": "2.7.6"
  }
 },
 "nbformat": 4,
 "nbformat_minor": 0
}
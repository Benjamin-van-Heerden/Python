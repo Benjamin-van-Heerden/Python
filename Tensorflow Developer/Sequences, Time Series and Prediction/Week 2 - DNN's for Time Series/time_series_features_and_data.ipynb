{
 "cells": [
  {
   "cell_type": "code",
   "execution_count": 1,
   "metadata": {
    "collapsed": true
   },
   "outputs": [],
   "source": [
    "import tensorflow as tf\n",
    "import numpy as np\n",
    "import matplotlib.pyplot as plt"
   ]
  },
  {
   "cell_type": "code",
   "execution_count": 2,
   "outputs": [
    {
     "name": "stdout",
     "output_type": "stream",
     "text": [
      "0\n",
      "1\n",
      "2\n",
      "3\n",
      "4\n",
      "5\n",
      "6\n",
      "7\n",
      "8\n",
      "9\n"
     ]
    }
   ],
   "source": [
    "dataset = tf.data.Dataset.range(10)\n",
    "for val in dataset:\n",
    "    print(val.numpy())"
   ],
   "metadata": {
    "collapsed": false,
    "pycharm": {
     "name": "#%%\n"
    }
   }
  },
  {
   "cell_type": "code",
   "execution_count": 3,
   "outputs": [
    {
     "name": "stdout",
     "output_type": "stream",
     "text": [
      "0 1 2 3 4 \n",
      "1 2 3 4 5 \n",
      "2 3 4 5 6 \n",
      "3 4 5 6 7 \n",
      "4 5 6 7 8 \n",
      "5 6 7 8 9 \n",
      "6 7 8 9 \n",
      "7 8 9 \n",
      "8 9 \n",
      "9 \n"
     ]
    }
   ],
   "source": [
    "dataset = tf.data.Dataset.range(10)\n",
    "dataset = dataset.window(5, shift=1)\n",
    "for window_dataset in dataset:\n",
    "    for val in window_dataset:\n",
    "        print(val.numpy(), end=\" \")\n",
    "    print()"
   ],
   "metadata": {
    "collapsed": false,
    "pycharm": {
     "name": "#%%\n"
    }
   }
  },
  {
   "cell_type": "code",
   "execution_count": 4,
   "outputs": [
    {
     "name": "stdout",
     "output_type": "stream",
     "text": [
      "0 1 2 3 4 \n",
      "1 2 3 4 5 \n",
      "2 3 4 5 6 \n",
      "3 4 5 6 7 \n",
      "4 5 6 7 8 \n",
      "5 6 7 8 9 \n"
     ]
    }
   ],
   "source": [
    "dataset = tf.data.Dataset.range(10)\n",
    "dataset = dataset.window(5, shift=1, drop_remainder=True)\n",
    "for window_dataset in dataset:\n",
    "    for val in window_dataset:\n",
    "        print(val.numpy(), end=\" \")\n",
    "    print()"
   ],
   "metadata": {
    "collapsed": false,
    "pycharm": {
     "name": "#%%\n"
    }
   }
  },
  {
   "cell_type": "code",
   "execution_count": 5,
   "outputs": [
    {
     "name": "stdout",
     "output_type": "stream",
     "text": [
      "[0 1 2 3 4]\n",
      "[1 2 3 4 5]\n",
      "[2 3 4 5 6]\n",
      "[3 4 5 6 7]\n",
      "[4 5 6 7 8]\n",
      "[5 6 7 8 9]\n"
     ]
    }
   ],
   "source": [
    "dataset = tf.data.Dataset.range(10)\n",
    "dataset = dataset.window(5, shift=1, drop_remainder=True)\n",
    "dataset = dataset.flat_map(lambda window: window.batch(5))\n",
    "for window in dataset:\n",
    "    print(window.numpy())"
   ],
   "metadata": {
    "collapsed": false,
    "pycharm": {
     "name": "#%%\n"
    }
   }
  },
  {
   "cell_type": "code",
   "execution_count": 6,
   "outputs": [
    {
     "name": "stdout",
     "output_type": "stream",
     "text": [
      "[0 1 2 3] [4]\n",
      "[1 2 3 4] [5]\n",
      "[2 3 4 5] [6]\n",
      "[3 4 5 6] [7]\n",
      "[4 5 6 7] [8]\n",
      "[5 6 7 8] [9]\n"
     ]
    }
   ],
   "source": [
    "dataset = tf.data.Dataset.range(10)\n",
    "dataset = dataset.window(5, shift=1, drop_remainder=True)\n",
    "dataset = dataset.flat_map(lambda window: window.batch(5))\n",
    "dataset = dataset.map(lambda window: (window[:-1], window[-1:]))\n",
    "for x, y in dataset:\n",
    "    print(x.numpy(), y.numpy())"
   ],
   "metadata": {
    "collapsed": false,
    "pycharm": {
     "name": "#%%\n"
    }
   }
  },
  {
   "cell_type": "code",
   "execution_count": 7,
   "outputs": [
    {
     "name": "stdout",
     "output_type": "stream",
     "text": [
      "[4 5 6 7] [8]\n",
      "[5 6 7 8] [9]\n",
      "[0 1 2 3] [4]\n",
      "[2 3 4 5] [6]\n",
      "[3 4 5 6] [7]\n",
      "[1 2 3 4] [5]\n"
     ]
    }
   ],
   "source": [
    "dataset = tf.data.Dataset.range(10)\n",
    "dataset = dataset.window(5, shift=1, drop_remainder=True)\n",
    "dataset = dataset.flat_map(lambda window: window.batch(5))\n",
    "dataset = dataset.map(lambda window: (window[:-1], window[-1:]))\n",
    "dataset = dataset.shuffle(buffer_size=10)\n",
    "for x, y in dataset:\n",
    "    print(x.numpy(), y.numpy())"
   ],
   "metadata": {
    "collapsed": false,
    "pycharm": {
     "name": "#%%\n"
    }
   }
  },
  {
   "cell_type": "code",
   "execution_count": 8,
   "outputs": [
    {
     "name": "stdout",
     "output_type": "stream",
     "text": [
      "x =  [[5 6 7 8]\n",
      " [2 3 4 5]]\n",
      "y =  [[9]\n",
      " [6]]\n",
      "x =  [[1 2 3 4]\n",
      " [4 5 6 7]]\n",
      "y =  [[5]\n",
      " [8]]\n",
      "x =  [[0 1 2 3]\n",
      " [3 4 5 6]]\n",
      "y =  [[4]\n",
      " [7]]\n"
     ]
    }
   ],
   "source": [
    "dataset = tf.data.Dataset.range(10)\n",
    "dataset = dataset.window(5, shift=1, drop_remainder=True)\n",
    "dataset = dataset.flat_map(lambda window: window.batch(5))\n",
    "dataset = dataset.map(lambda window: (window[:-1], window[-1:]))\n",
    "dataset = dataset.shuffle(buffer_size=10)\n",
    "dataset = dataset.batch(2).prefetch(1)\n",
    "for x, y in dataset:\n",
    "    print(\"x = \", x.numpy())\n",
    "    print(\"y = \", y.numpy())"
   ],
   "metadata": {
    "collapsed": false,
    "pycharm": {
     "name": "#%%\n"
    }
   }
  },
  {
   "cell_type": "code",
   "execution_count": 9,
   "outputs": [
    {
     "data": {
      "text/plain": "<Figure size 720x432 with 1 Axes>",
      "image/png": "[encoded data removed]"
     },
     "metadata": {
      "needs_background": "light"
     },
     "output_type": "display_data"
    }
   ],
   "source": [
    "def plot_series(time, series, format=\"-\", start=0, end=None):\n",
    "    plt.plot(time[start:end], series[start:end], format)\n",
    "    plt.xlabel(\"Time\")\n",
    "    plt.ylabel(\"Value\")\n",
    "    plt.grid(True)\n",
    "\n",
    "def trend(time, slope=0):\n",
    "    return slope * time\n",
    "\n",
    "def seasonal_pattern(season_time):\n",
    "    \"\"\"Just an arbitrary pattern, you can change it if you wish\"\"\"\n",
    "    return np.where(season_time < 0.1,\n",
    "                    np.cos(season_time * 7 * np.pi),\n",
    "                    1 / np.exp(5 * season_time))\n",
    "\n",
    "def seasonality(time, period, amplitude=1, phase=0):\n",
    "    \"\"\"Repeats the same pattern at each period\"\"\"\n",
    "    season_time = ((time + phase) % period) / period\n",
    "    return amplitude * seasonal_pattern(season_time)\n",
    "\n",
    "def noise(time, noise_level=1, seed=None):\n",
    "    rnd = np.random.RandomState(seed)\n",
    "    return rnd.randn(len(time)) * noise_level\n",
    "\n",
    "time = np.arange(4 * 365 + 1, dtype=\"float32\")\n",
    "baseline = 10\n",
    "series = trend(time, 0.1)\n",
    "baseline = 10\n",
    "amplitude = 40\n",
    "slope = 0.01\n",
    "noise_level = 2\n",
    "\n",
    "# Create the series\n",
    "series = baseline + trend(time, slope) + seasonality(time, period=365, amplitude=amplitude)\n",
    "# Update with noise\n",
    "series += noise(time, noise_level, seed=42)\n",
    "\n",
    "plt.figure(figsize=(10, 6))\n",
    "plot_series(time, series)\n",
    "plt.show()"
   ],
   "metadata": {
    "collapsed": false,
    "pycharm": {
     "name": "#%%\n"
    }
   }
  },
  {
   "cell_type": "code",
   "execution_count": 10,
   "outputs": [],
   "source": [
    "def windowed_dataset(series, window_size, batch_size, shuffle_buffer):\n",
    "    dataset = tf.data.Dataset.from_tensor_slices(series)\n",
    "    dataset = dataset.window(window_size + 1, shift=1, drop_remainder=True)\n",
    "    dataset = dataset.flat_map(lambda window: window.batch(window_size + 1))\n",
    "    dataset = dataset.shuffle(shuffle_buffer).map(lambda window: (window[:-1], window[-1]))\n",
    "    dataset = dataset.batch(batch_size).prefetch(1)\n",
    "    return dataset"
   ],
   "metadata": {
    "collapsed": false,
    "pycharm": {
     "name": "#%%\n"
    }
   }
  },
  {
   "cell_type": "code",
   "execution_count": 11,
   "outputs": [],
   "source": [
    "split_time = 1000\n",
    "time_train = time[:split_time]\n",
    "x_train = series[:split_time]\n",
    "time_validation = time[split_time:]\n",
    "x_validation = series[split_time:]"
   ],
   "metadata": {
    "collapsed": false,
    "pycharm": {
     "name": "#%%\n"
    }
   }
  },
  {
   "cell_type": "code",
   "execution_count": 27,
   "outputs": [
    {
     "name": "stdout",
     "output_type": "stream",
     "text": [
      "Model: \"sequential_7\"\n",
      "_________________________________________________________________\n",
      " Layer (type)                Output Shape              Param #   \n",
      "=================================================================\n",
      " dense_19 (Dense)            (None, 512)               10752     \n",
      "                                                                 \n",
      " dense_20 (Dense)            (None, 256)               131328    \n",
      "                                                                 \n",
      " dense_21 (Dense)            (None, 1)                 257       \n",
      "                                                                 \n",
      "=================================================================\n",
      "Total params: 142,337\n",
      "Trainable params: 142,337\n",
      "Non-trainable params: 0\n",
      "_________________________________________________________________\n"
     ]
    }
   ],
   "source": [
    "window_size = 20\n",
    "batch_size = 32\n",
    "shuffle_buffer_size = 1000\n",
    "\n",
    "dataset = windowed_dataset(series, window_size, batch_size, shuffle_buffer_size)\n",
    "model = tf.keras.models.Sequential([\n",
    "    tf.keras.layers.Dense(512, input_shape=[window_size]),\n",
    "    tf.keras.layers.Dense(256, activation=\"relu\"),\n",
    "    tf.keras.layers.Dense(1)\n",
    "])\n",
    "\n",
    "model.compile(loss=\"mse\", optimizer=tf.keras.optimizers.Adam(learning_rate=3e-5))\n",
    "\n",
    "model.summary()"
   ],
   "metadata": {
    "collapsed": false,
    "pycharm": {
     "name": "#%%\n"
    }
   }
  },
  {
   "cell_type": "code",
   "execution_count": 28,
   "outputs": [
    {
     "name": "stdout",
     "output_type": "stream",
     "text": [
      "Epoch 1/150\n",
      "46/46 [==============================] - 0s 2ms/step - loss: 178.8140\n",
      "Epoch 2/150\n",
      "46/46 [==============================] - 0s 2ms/step - loss: 36.0978\n",
      "Epoch 3/150\n",
      "46/46 [==============================] - 0s 2ms/step - loss: 27.6184\n",
      "Epoch 4/150\n",
      "46/46 [==============================] - 0s 2ms/step - loss: 24.4109\n",
      "Epoch 5/150\n",
      "46/46 [==============================] - 0s 2ms/step - loss: 22.6318\n",
      "Epoch 6/150\n",
      "46/46 [==============================] - 0s 2ms/step - loss: 21.3521\n",
      "Epoch 7/150\n",
      "46/46 [==============================] - 0s 2ms/step - loss: 20.5042\n",
      "Epoch 8/150\n",
      "46/46 [==============================] - 0s 2ms/step - loss: 19.9125\n",
      "Epoch 9/150\n",
      "46/46 [==============================] - 0s 2ms/step - loss: 19.2860\n",
      "Epoch 10/150\n",
      "46/46 [==============================] - 0s 2ms/step - loss: 20.4671\n",
      "Epoch 11/150\n",
      "46/46 [==============================] - 0s 2ms/step - loss: 20.5559\n",
      "Epoch 12/150\n",
      "46/46 [==============================] - 0s 2ms/step - loss: 17.6761\n",
      "Epoch 13/150\n",
      "46/46 [==============================] - 0s 2ms/step - loss: 17.4279\n",
      "Epoch 14/150\n",
      "46/46 [==============================] - 0s 2ms/step - loss: 17.2207\n",
      "Epoch 15/150\n",
      "46/46 [==============================] - 0s 2ms/step - loss: 17.1889\n",
      "Epoch 16/150\n",
      "46/46 [==============================] - 0s 2ms/step - loss: 16.9627\n",
      "Epoch 17/150\n",
      "46/46 [==============================] - 0s 2ms/step - loss: 16.6822\n",
      "Epoch 18/150\n",
      "46/46 [==============================] - 0s 2ms/step - loss: 16.5193\n",
      "Epoch 19/150\n",
      "46/46 [==============================] - 0s 2ms/step - loss: 16.4127\n",
      "Epoch 20/150\n",
      "46/46 [==============================] - 0s 2ms/step - loss: 16.4324\n",
      "Epoch 21/150\n",
      "46/46 [==============================] - 0s 2ms/step - loss: 16.0970\n",
      "Epoch 22/150\n",
      "46/46 [==============================] - 0s 2ms/step - loss: 16.2947\n",
      "Epoch 23/150\n",
      "46/46 [==============================] - 0s 2ms/step - loss: 16.1819\n",
      "Epoch 24/150\n",
      "46/46 [==============================] - 0s 2ms/step - loss: 15.8719\n",
      "Epoch 25/150\n",
      "46/46 [==============================] - 0s 2ms/step - loss: 15.7345\n",
      "Epoch 26/150\n",
      "46/46 [==============================] - 0s 2ms/step - loss: 15.7695\n",
      "Epoch 27/150\n",
      "46/46 [==============================] - 0s 2ms/step - loss: 15.6272\n",
      "Epoch 28/150\n",
      "46/46 [==============================] - 0s 2ms/step - loss: 15.4669\n",
      "Epoch 29/150\n",
      "46/46 [==============================] - 0s 3ms/step - loss: 15.4893\n",
      "Epoch 30/150\n",
      "46/46 [==============================] - 0s 3ms/step - loss: 15.4013\n",
      "Epoch 31/150\n",
      "46/46 [==============================] - 0s 2ms/step - loss: 15.2741\n",
      "Epoch 32/150\n",
      "46/46 [==============================] - 0s 2ms/step - loss: 15.3210\n",
      "Epoch 33/150\n",
      "46/46 [==============================] - 0s 3ms/step - loss: 15.2801\n",
      "Epoch 34/150\n",
      "46/46 [==============================] - 0s 3ms/step - loss: 15.2625\n",
      "Epoch 35/150\n",
      "46/46 [==============================] - 0s 3ms/step - loss: 15.1290\n",
      "Epoch 36/150\n",
      "46/46 [==============================] - 0s 3ms/step - loss: 15.0225\n",
      "Epoch 37/150\n",
      "46/46 [==============================] - 0s 3ms/step - loss: 14.9819\n",
      "Epoch 38/150\n",
      "46/46 [==============================] - 0s 3ms/step - loss: 15.5426\n",
      "Epoch 39/150\n",
      "46/46 [==============================] - 0s 3ms/step - loss: 15.3386\n",
      "Epoch 40/150\n",
      "46/46 [==============================] - 0s 3ms/step - loss: 14.8895\n",
      "Epoch 41/150\n",
      "46/46 [==============================] - 0s 3ms/step - loss: 14.9576\n",
      "Epoch 42/150\n",
      "46/46 [==============================] - 0s 3ms/step - loss: 14.9194\n",
      "Epoch 43/150\n",
      "46/46 [==============================] - 0s 3ms/step - loss: 14.8839\n",
      "Epoch 44/150\n",
      "46/46 [==============================] - 0s 3ms/step - loss: 14.7056\n",
      "Epoch 45/150\n",
      "46/46 [==============================] - 0s 3ms/step - loss: 15.5882\n",
      "Epoch 46/150\n",
      "46/46 [==============================] - 0s 3ms/step - loss: 14.6386\n",
      "Epoch 47/150\n",
      "46/46 [==============================] - 0s 3ms/step - loss: 14.7891\n",
      "Epoch 48/150\n",
      "46/46 [==============================] - 0s 3ms/step - loss: 14.6311\n",
      "Epoch 49/150\n",
      "46/46 [==============================] - 0s 3ms/step - loss: 14.7633\n",
      "Epoch 50/150\n",
      "46/46 [==============================] - 0s 3ms/step - loss: 14.5533\n",
      "Epoch 51/150\n",
      "46/46 [==============================] - 0s 3ms/step - loss: 14.6036\n",
      "Epoch 52/150\n",
      "46/46 [==============================] - 0s 3ms/step - loss: 14.4251\n",
      "Epoch 53/150\n",
      "46/46 [==============================] - 0s 2ms/step - loss: 14.7629\n",
      "Epoch 54/150\n",
      "46/46 [==============================] - 0s 2ms/step - loss: 14.6158\n",
      "Epoch 55/150\n",
      "46/46 [==============================] - 0s 3ms/step - loss: 14.4580\n",
      "Epoch 56/150\n",
      "46/46 [==============================] - 0s 2ms/step - loss: 14.5670\n",
      "Epoch 57/150\n",
      "46/46 [==============================] - 0s 2ms/step - loss: 14.4007\n",
      "Epoch 58/150\n",
      "46/46 [==============================] - 0s 2ms/step - loss: 14.3801\n",
      "Epoch 59/150\n",
      "46/46 [==============================] - 0s 2ms/step - loss: 14.4539\n",
      "Epoch 60/150\n",
      "46/46 [==============================] - 0s 2ms/step - loss: 15.6420\n",
      "Epoch 61/150\n",
      "46/46 [==============================] - 0s 2ms/step - loss: 14.8699\n",
      "Epoch 62/150\n",
      "46/46 [==============================] - 0s 2ms/step - loss: 16.2542\n",
      "Epoch 63/150\n",
      "46/46 [==============================] - 0s 2ms/step - loss: 14.2789\n",
      "Epoch 64/150\n",
      "46/46 [==============================] - 0s 2ms/step - loss: 14.7016\n",
      "Epoch 65/150\n",
      "46/46 [==============================] - 0s 2ms/step - loss: 14.5412\n",
      "Epoch 66/150\n",
      "46/46 [==============================] - 0s 2ms/step - loss: 14.2054\n",
      "Epoch 67/150\n",
      "46/46 [==============================] - 0s 2ms/step - loss: 14.2352\n",
      "Epoch 68/150\n",
      "46/46 [==============================] - 0s 2ms/step - loss: 14.1273\n",
      "Epoch 69/150\n",
      "46/46 [==============================] - 0s 2ms/step - loss: 14.5697\n",
      "Epoch 70/150\n",
      "46/46 [==============================] - 0s 2ms/step - loss: 14.0093\n",
      "Epoch 71/150\n",
      "46/46 [==============================] - 0s 2ms/step - loss: 13.9946\n",
      "Epoch 72/150\n",
      "46/46 [==============================] - 0s 2ms/step - loss: 14.5387\n",
      "Epoch 73/150\n",
      "46/46 [==============================] - 0s 3ms/step - loss: 14.5424\n",
      "Epoch 74/150\n",
      "46/46 [==============================] - 0s 3ms/step - loss: 14.0942\n",
      "Epoch 75/150\n",
      "46/46 [==============================] - 0s 3ms/step - loss: 14.1665\n",
      "Epoch 76/150\n",
      "46/46 [==============================] - 0s 3ms/step - loss: 14.1262\n",
      "Epoch 77/150\n",
      "46/46 [==============================] - 0s 2ms/step - loss: 14.3806\n",
      "Epoch 78/150\n",
      "46/46 [==============================] - 0s 2ms/step - loss: 14.5758\n",
      "Epoch 79/150\n",
      "46/46 [==============================] - 0s 2ms/step - loss: 13.8602\n",
      "Epoch 80/150\n",
      "46/46 [==============================] - 0s 2ms/step - loss: 14.1524\n",
      "Epoch 81/150\n",
      "46/46 [==============================] - 0s 2ms/step - loss: 13.8898\n",
      "Epoch 82/150\n",
      "46/46 [==============================] - 0s 2ms/step - loss: 13.9341\n",
      "Epoch 83/150\n",
      "46/46 [==============================] - 0s 2ms/step - loss: 13.7724\n",
      "Epoch 84/150\n",
      "46/46 [==============================] - 0s 2ms/step - loss: 13.9599\n",
      "Epoch 85/150\n",
      "46/46 [==============================] - 0s 2ms/step - loss: 13.8638\n",
      "Epoch 86/150\n",
      "46/46 [==============================] - 0s 2ms/step - loss: 13.9342\n",
      "Epoch 87/150\n",
      "46/46 [==============================] - 0s 3ms/step - loss: 14.0513\n",
      "Epoch 88/150\n",
      "46/46 [==============================] - 0s 2ms/step - loss: 13.8910\n",
      "Epoch 89/150\n",
      "46/46 [==============================] - 0s 3ms/step - loss: 13.8957\n",
      "Epoch 90/150\n",
      "46/46 [==============================] - 0s 2ms/step - loss: 13.7548\n",
      "Epoch 91/150\n",
      "46/46 [==============================] - 0s 3ms/step - loss: 13.9296\n",
      "Epoch 92/150\n",
      "46/46 [==============================] - 0s 3ms/step - loss: 13.6863\n",
      "Epoch 93/150\n",
      "46/46 [==============================] - 0s 2ms/step - loss: 14.0047\n",
      "Epoch 94/150\n",
      "46/46 [==============================] - 0s 3ms/step - loss: 13.7024\n",
      "Epoch 95/150\n",
      "46/46 [==============================] - 0s 3ms/step - loss: 13.8063\n",
      "Epoch 96/150\n",
      "46/46 [==============================] - 0s 2ms/step - loss: 13.8253\n",
      "Epoch 97/150\n",
      "46/46 [==============================] - 0s 2ms/step - loss: 14.2259\n",
      "Epoch 98/150\n",
      "46/46 [==============================] - 0s 2ms/step - loss: 13.8324\n",
      "Epoch 99/150\n",
      "46/46 [==============================] - 0s 2ms/step - loss: 13.7035\n",
      "Epoch 100/150\n",
      "46/46 [==============================] - 0s 2ms/step - loss: 13.7036\n",
      "Epoch 101/150\n",
      "46/46 [==============================] - 0s 2ms/step - loss: 13.5751\n",
      "Epoch 102/150\n",
      "46/46 [==============================] - 0s 2ms/step - loss: 13.8147\n",
      "Epoch 103/150\n",
      "46/46 [==============================] - 0s 2ms/step - loss: 13.6348\n",
      "Epoch 104/150\n",
      "46/46 [==============================] - 0s 2ms/step - loss: 13.6152\n",
      "Epoch 105/150\n",
      "46/46 [==============================] - 0s 2ms/step - loss: 13.5818\n",
      "Epoch 106/150\n",
      "46/46 [==============================] - 0s 2ms/step - loss: 15.1080\n",
      "Epoch 107/150\n",
      "46/46 [==============================] - 0s 2ms/step - loss: 13.4973\n",
      "Epoch 108/150\n",
      "46/46 [==============================] - 0s 3ms/step - loss: 13.5951\n",
      "Epoch 109/150\n",
      "46/46 [==============================] - 0s 3ms/step - loss: 13.4112\n",
      "Epoch 110/150\n",
      "46/46 [==============================] - 0s 2ms/step - loss: 13.6899\n",
      "Epoch 111/150\n",
      "46/46 [==============================] - 0s 3ms/step - loss: 13.7999\n",
      "Epoch 112/150\n",
      "46/46 [==============================] - 0s 3ms/step - loss: 13.6705\n",
      "Epoch 113/150\n",
      "46/46 [==============================] - 0s 3ms/step - loss: 13.5816\n",
      "Epoch 114/150\n",
      "46/46 [==============================] - 0s 3ms/step - loss: 13.5277\n",
      "Epoch 115/150\n",
      "46/46 [==============================] - 0s 3ms/step - loss: 13.9317\n",
      "Epoch 116/150\n",
      "46/46 [==============================] - 0s 3ms/step - loss: 13.7931\n",
      "Epoch 117/150\n",
      "46/46 [==============================] - 0s 3ms/step - loss: 13.6627\n",
      "Epoch 118/150\n",
      "46/46 [==============================] - 0s 3ms/step - loss: 13.3536\n",
      "Epoch 119/150\n",
      "46/46 [==============================] - 0s 3ms/step - loss: 13.4877\n",
      "Epoch 120/150\n",
      "46/46 [==============================] - 0s 3ms/step - loss: 13.7738\n",
      "Epoch 121/150\n",
      "46/46 [==============================] - 0s 2ms/step - loss: 13.4053\n",
      "Epoch 122/150\n",
      "46/46 [==============================] - 0s 2ms/step - loss: 13.4179\n",
      "Epoch 123/150\n",
      "46/46 [==============================] - 0s 2ms/step - loss: 13.4344\n",
      "Epoch 124/150\n",
      "46/46 [==============================] - 0s 2ms/step - loss: 13.5588\n",
      "Epoch 125/150\n",
      "46/46 [==============================] - 0s 2ms/step - loss: 13.2410\n",
      "Epoch 126/150\n",
      "46/46 [==============================] - 0s 2ms/step - loss: 13.2198\n",
      "Epoch 127/150\n",
      "46/46 [==============================] - 0s 2ms/step - loss: 13.2874\n",
      "Epoch 128/150\n",
      "46/46 [==============================] - 0s 2ms/step - loss: 14.3181\n",
      "Epoch 129/150\n",
      "46/46 [==============================] - 0s 2ms/step - loss: 13.3751\n",
      "Epoch 130/150\n",
      "46/46 [==============================] - 0s 2ms/step - loss: 13.3613\n",
      "Epoch 131/150\n",
      "46/46 [==============================] - 0s 2ms/step - loss: 13.1937\n",
      "Epoch 132/150\n",
      "46/46 [==============================] - 0s 2ms/step - loss: 13.3212\n",
      "Epoch 133/150\n",
      "46/46 [==============================] - 0s 3ms/step - loss: 13.2109\n",
      "Epoch 134/150\n",
      "46/46 [==============================] - 0s 2ms/step - loss: 13.3780\n",
      "Epoch 135/150\n",
      "46/46 [==============================] - 0s 3ms/step - loss: 13.3764\n",
      "Epoch 136/150\n",
      "46/46 [==============================] - 0s 3ms/step - loss: 13.2321\n",
      "Epoch 137/150\n",
      "46/46 [==============================] - 0s 3ms/step - loss: 13.3933\n",
      "Epoch 138/150\n",
      "46/46 [==============================] - 0s 2ms/step - loss: 13.4208\n",
      "Epoch 139/150\n",
      "46/46 [==============================] - 0s 2ms/step - loss: 13.1311\n",
      "Epoch 140/150\n",
      "46/46 [==============================] - 0s 3ms/step - loss: 13.1582\n",
      "Epoch 141/150\n",
      "46/46 [==============================] - 0s 2ms/step - loss: 13.4423\n",
      "Epoch 142/150\n",
      "46/46 [==============================] - 0s 2ms/step - loss: 13.3406\n",
      "Epoch 143/150\n",
      "46/46 [==============================] - 0s 2ms/step - loss: 13.5609\n",
      "Epoch 144/150\n",
      "46/46 [==============================] - 0s 2ms/step - loss: 13.1878\n",
      "Epoch 145/150\n",
      "46/46 [==============================] - 0s 2ms/step - loss: 14.6208\n",
      "Epoch 146/150\n",
      "46/46 [==============================] - 0s 2ms/step - loss: 13.1318\n",
      "Epoch 147/150\n",
      "46/46 [==============================] - 0s 3ms/step - loss: 13.0441\n",
      "Epoch 148/150\n",
      "46/46 [==============================] - 0s 3ms/step - loss: 13.0254\n",
      "Epoch 149/150\n",
      "46/46 [==============================] - 0s 2ms/step - loss: 13.0287\n",
      "Epoch 150/150\n",
      "46/46 [==============================] - 0s 2ms/step - loss: 13.4338\n"
     ]
    }
   ],
   "source": [
    "history = model.fit(dataset, epochs=150)"
   ],
   "metadata": {
    "collapsed": false,
    "pycharm": {
     "name": "#%%\n"
    }
   }
  },
  {
   "cell_type": "code",
   "execution_count": null,
   "outputs": [],
   "source": [],
   "metadata": {
    "collapsed": false,
    "pycharm": {
     "name": "#%%\n"
    }
   }
  }
 ],
 "metadata": {
  "kernelspec": {
   "display_name": "Python 3",
   "language": "python",
   "name": "python3"
  },
  "language_info": {
   "codemirror_mode": {
    "name": "ipython",
    "version": 2
   },
   "file_extension": ".py",
   "mimetype": "text/x-python",
   "name": "python",
   "nbconvert_exporter": "python",
   "pygments_lexer": "ipython2",
   "version": "2.7.6"
  }
 },
 "nbformat": 4,
 "nbformat_minor": 0
}
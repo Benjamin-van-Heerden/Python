{
 "nbformat": 4,
 "nbformat_minor": 0,
 "metadata": {
  "accelerator": "GPU",
  "colab": {
   "name": "C3_W4_Assignment_Solution.ipynb",
   "provenance": [],
   "collapsed_sections": [],
   "toc_visible": true
  },
  "kernelspec": {
   "name": "python3",
   "display_name": "Python 3"
  },
  "language_info": {
   "name": "python"
  }
 },
 "cells": [
  {
   "cell_type": "code",
   "metadata": {
    "id": "BOwsuGQQY9OL"
   },
   "source": [
    "from tensorflow.keras.preprocessing.sequence import pad_sequences\n",
    "from tensorflow.keras.layers import Embedding, LSTM, Dense, Dropout, Bidirectional\n",
    "from tensorflow.keras.preprocessing.text import Tokenizer\n",
    "from tensorflow.keras.models import Sequential\n",
    "from tensorflow.keras.optimizers import Adam\n",
    "from tensorflow.keras import regularizers\n",
    "import tensorflow.keras.utils as ku \n",
    "import numpy as np "
   ],
   "execution_count": 1,
   "outputs": []
  },
  {
   "cell_type": "code",
   "metadata": {
    "id": "PRnDnCW-Z7qv"
   },
   "source": [
    "tokenizer = Tokenizer()\n",
    "\n",
    "# sonnets.txt\n",
    "!gdown --id 108jAePKK4R3BVYBbYJZ32JWUwxeMg20K\n",
    "\n",
    "data = open('./sonnets.txt').read()\n",
    "\n",
    "corpus = data.lower().split(\"\\n\")\n",
    "\n",
    "\n",
    "tokenizer.fit_on_texts(corpus)\n",
    "total_words = len(tokenizer.word_index) + 1\n",
    "\n",
    "# create input sequences using list of tokens\n",
    "input_sequences = []\n",
    "for line in corpus:\n",
    "\ttoken_list = tokenizer.texts_to_sequences([line])[0]\n",
    "\tfor i in range(1, len(token_list)):\n",
    "\t\tn_gram_sequence = token_list[:i+1]\n",
    "\t\tinput_sequences.append(n_gram_sequence)\n",
    "\n",
    "\n",
    "# pad sequences \n",
    "max_sequence_len = max([len(x) for x in input_sequences])\n",
    "input_sequences = np.array(pad_sequences(input_sequences, maxlen=max_sequence_len, padding='pre'))\n",
    "\n",
    "# create predictors and label\n",
    "predictors, label = input_sequences[:,:-1],input_sequences[:,-1]\n",
    "\n",
    "label = ku.to_categorical(label, num_classes=total_words)"
   ],
   "execution_count": 2,
   "outputs": [
    {
     "name": "stderr",
     "output_type": "stream",
     "text": [
      "Downloading...\n",
      "From: https://drive.google.com/uc?id=108jAePKK4R3BVYBbYJZ32JWUwxeMg20K\n",
      "To: C:\\Users\\benja\\Documents\\Development\\Python\\Tensorflow Developer\\Natural Language Processing\\Week 4 - Sequence Models and Literature\\sonnets.txt\n",
      "\n",
      "  0%|          | 0.00/93.6k [00:00<?, ?B/s]\n",
      "100%|##########| 93.6k/93.6k [00:00<00:00, 600kB/s]\n",
      "100%|##########| 93.6k/93.6k [00:00<00:00, 600kB/s]\n"
     ]
    }
   ]
  },
  {
   "cell_type": "code",
   "metadata": {
    "id": "w9vH8Y59ajYL"
   },
   "source": [
    "### START CODE HERE\n",
    "from tensorflow.keras.layers import Conv1D\n",
    "\n",
    "model = Sequential()\n",
    "model.add(Embedding(total_words, 128, input_length=max_sequence_len-1))# Your Embedding Layer)\n",
    "model.add(Bidirectional(LSTM(256, return_sequences = True)))# An LSTM Layer)\n",
    "model.add(LSTM(128))# Another LSTM Layer)\n",
    "model.add(Dense(total_words / 2, activation='relu', kernel_regularizer=regularizers.l2(0.01)))\n",
    "model.add(Dense(total_words / 2, activation='relu',))\n",
    "model.add(Dropout(0.2))\n",
    "model.add(Dense(total_words / 2, activation='relu'))\n",
    "model.add(Dense(total_words, activation='softmax'))# A Dense Layer)\n",
    "# Pick an optimizer\n",
    "model.compile(loss='categorical_crossentropy', optimizer='adam', metrics=['accuracy'])# Pick a loss function and an optimizer)\n",
    "### END CODE HERE\n",
    "\n",
    "print(model.summary())"
   ],
   "execution_count": 7,
   "outputs": [
    {
     "name": "stdout",
     "output_type": "stream",
     "text": [
      "Model: \"sequential_3\"\n",
      "_________________________________________________________________\n",
      " Layer (type)                Output Shape              Param #   \n",
      "=================================================================\n",
      " embedding_3 (Embedding)     (None, 10, 128)           411008    \n",
      "                                                                 \n",
      " bidirectional_3 (Bidirectio  (None, 10, 512)          788480    \n",
      " nal)                                                            \n",
      "                                                                 \n",
      " lstm_7 (LSTM)               (None, 128)               328192    \n",
      "                                                                 \n",
      " dense_12 (Dense)            (None, 1605)              207045    \n",
      "                                                                 \n",
      " dense_13 (Dense)            (None, 1605)              2577630   \n",
      "                                                                 \n",
      " dropout_6 (Dropout)         (None, 1605)              0         \n",
      "                                                                 \n",
      " dense_14 (Dense)            (None, 1605)              2577630   \n",
      "                                                                 \n",
      " dense_15 (Dense)            (None, 3211)              5156866   \n",
      "                                                                 \n",
      "=================================================================\n",
      "Total params: 12,046,851\n",
      "Trainable params: 12,046,851\n",
      "Non-trainable params: 0\n",
      "_________________________________________________________________\n",
      "None\n"
     ]
    }
   ]
  },
  {
   "cell_type": "code",
   "metadata": {
    "id": "AIg2f1HBxqof"
   },
   "source": [
    "history = model.fit(predictors, label, epochs=120)"
   ],
   "execution_count": 8,
   "outputs": [
    {
     "name": "stdout",
     "output_type": "stream",
     "text": [
      "Epoch 1/120\n",
      "484/484 [==============================] - 51s 96ms/step - loss: 6.9903 - accuracy: 0.0222\n",
      "Epoch 2/120\n",
      "484/484 [==============================] - 47s 96ms/step - loss: 6.4752 - accuracy: 0.0269\n",
      "Epoch 3/120\n",
      "484/484 [==============================] - 47s 97ms/step - loss: 6.3134 - accuracy: 0.0274\n",
      "Epoch 4/120\n",
      "484/484 [==============================] - 46s 95ms/step - loss: 6.2119 - accuracy: 0.0303\n",
      "Epoch 5/120\n",
      "484/484 [==============================] - 46s 96ms/step - loss: 6.1231 - accuracy: 0.0351\n",
      "Epoch 6/120\n",
      "484/484 [==============================] - 47s 96ms/step - loss: 6.0292 - accuracy: 0.0424\n",
      "Epoch 7/120\n",
      "484/484 [==============================] - 46s 95ms/step - loss: 5.9389 - accuracy: 0.0455\n",
      "Epoch 8/120\n",
      "484/484 [==============================] - 47s 97ms/step - loss: 5.8430 - accuracy: 0.0514\n",
      "Epoch 9/120\n",
      "484/484 [==============================] - 46s 95ms/step - loss: 5.7371 - accuracy: 0.0559\n",
      "Epoch 10/120\n",
      "484/484 [==============================] - 45s 92ms/step - loss: 5.6322 - accuracy: 0.0603\n",
      "Epoch 11/120\n",
      "484/484 [==============================] - 45s 92ms/step - loss: 5.5291 - accuracy: 0.0685\n",
      "Epoch 12/120\n",
      "484/484 [==============================] - 45s 92ms/step - loss: 5.4190 - accuracy: 0.0741\n",
      "Epoch 13/120\n",
      "484/484 [==============================] - 46s 96ms/step - loss: 5.3108 - accuracy: 0.0799\n",
      "Epoch 14/120\n",
      "484/484 [==============================] - 47s 98ms/step - loss: 5.1981 - accuracy: 0.0894\n",
      "Epoch 15/120\n",
      "484/484 [==============================] - 47s 97ms/step - loss: 5.0822 - accuracy: 0.0945\n",
      "Epoch 16/120\n",
      "484/484 [==============================] - 47s 98ms/step - loss: 4.9666 - accuracy: 0.1021\n",
      "Epoch 17/120\n",
      "484/484 [==============================] - 48s 100ms/step - loss: 4.8624 - accuracy: 0.1076\n",
      "Epoch 18/120\n",
      "484/484 [==============================] - 49s 101ms/step - loss: 4.7626 - accuracy: 0.1145\n",
      "Epoch 19/120\n",
      "484/484 [==============================] - 49s 102ms/step - loss: 4.6603 - accuracy: 0.1193\n",
      "Epoch 20/120\n",
      "484/484 [==============================] - 48s 100ms/step - loss: 4.5615 - accuracy: 0.1274\n",
      "Epoch 21/120\n",
      "484/484 [==============================] - 46s 96ms/step - loss: 4.4590 - accuracy: 0.1388\n",
      "Epoch 22/120\n",
      "484/484 [==============================] - 46s 94ms/step - loss: 4.3699 - accuracy: 0.1463\n",
      "Epoch 23/120\n",
      "484/484 [==============================] - 45s 94ms/step - loss: 4.2797 - accuracy: 0.1522\n",
      "Epoch 24/120\n",
      "484/484 [==============================] - 45s 94ms/step - loss: 4.1773 - accuracy: 0.1657\n",
      "Epoch 25/120\n",
      "484/484 [==============================] - 46s 94ms/step - loss: 4.1001 - accuracy: 0.1704\n",
      "Epoch 26/120\n",
      "484/484 [==============================] - 45s 93ms/step - loss: 4.0101 - accuracy: 0.1772\n",
      "Epoch 27/120\n",
      "484/484 [==============================] - 45s 93ms/step - loss: 3.9314 - accuracy: 0.1865\n",
      "Epoch 28/120\n",
      "484/484 [==============================] - 44s 91ms/step - loss: 3.8571 - accuracy: 0.1935\n",
      "Epoch 29/120\n",
      "484/484 [==============================] - 44s 91ms/step - loss: 3.7702 - accuracy: 0.2039\n",
      "Epoch 30/120\n",
      "484/484 [==============================] - 44s 91ms/step - loss: 3.6837 - accuracy: 0.2131\n",
      "Epoch 31/120\n",
      "484/484 [==============================] - 44s 91ms/step - loss: 3.6274 - accuracy: 0.2210\n",
      "Epoch 32/120\n",
      "484/484 [==============================] - 44s 91ms/step - loss: 3.5491 - accuracy: 0.2314\n",
      "Epoch 33/120\n",
      "484/484 [==============================] - 44s 91ms/step - loss: 3.4895 - accuracy: 0.2374\n",
      "Epoch 34/120\n",
      "484/484 [==============================] - 44s 91ms/step - loss: 3.4242 - accuracy: 0.2491\n",
      "Epoch 35/120\n",
      "484/484 [==============================] - 44s 91ms/step - loss: 3.3677 - accuracy: 0.2520\n",
      "Epoch 36/120\n",
      "484/484 [==============================] - 44s 91ms/step - loss: 3.3118 - accuracy: 0.2594\n",
      "Epoch 37/120\n",
      "484/484 [==============================] - 44s 91ms/step - loss: 3.2644 - accuracy: 0.2678\n",
      "Epoch 38/120\n",
      "484/484 [==============================] - 44s 91ms/step - loss: 3.1759 - accuracy: 0.2818\n",
      "Epoch 39/120\n",
      "484/484 [==============================] - 44s 91ms/step - loss: 3.1309 - accuracy: 0.2877\n",
      "Epoch 40/120\n",
      "484/484 [==============================] - 44s 91ms/step - loss: 3.0836 - accuracy: 0.2919\n",
      "Epoch 41/120\n",
      "484/484 [==============================] - 44s 90ms/step - loss: 3.0352 - accuracy: 0.3004\n",
      "Epoch 42/120\n",
      "484/484 [==============================] - 44s 91ms/step - loss: 2.9785 - accuracy: 0.3088\n",
      "Epoch 43/120\n",
      "484/484 [==============================] - 44s 91ms/step - loss: 2.9269 - accuracy: 0.3160\n",
      "Epoch 44/120\n",
      "484/484 [==============================] - 44s 91ms/step - loss: 2.9037 - accuracy: 0.3201\n",
      "Epoch 45/120\n",
      "484/484 [==============================] - 44s 91ms/step - loss: 2.8402 - accuracy: 0.3267\n",
      "Epoch 46/120\n",
      "484/484 [==============================] - 44s 91ms/step - loss: 2.8076 - accuracy: 0.3369\n",
      "Epoch 47/120\n",
      "484/484 [==============================] - 44s 91ms/step - loss: 2.7576 - accuracy: 0.3437\n",
      "Epoch 48/120\n",
      "484/484 [==============================] - 45s 92ms/step - loss: 2.7187 - accuracy: 0.3493\n",
      "Epoch 49/120\n",
      "484/484 [==============================] - 44s 92ms/step - loss: 2.6639 - accuracy: 0.3591\n",
      "Epoch 50/120\n",
      "484/484 [==============================] - 44s 91ms/step - loss: 2.6194 - accuracy: 0.3660\n",
      "Epoch 51/120\n",
      "484/484 [==============================] - 44s 91ms/step - loss: 2.5938 - accuracy: 0.3697\n",
      "Epoch 52/120\n",
      "484/484 [==============================] - 44s 91ms/step - loss: 2.5565 - accuracy: 0.3801\n",
      "Epoch 53/120\n",
      "484/484 [==============================] - 45s 92ms/step - loss: 2.5323 - accuracy: 0.3793\n",
      "Epoch 54/120\n",
      "484/484 [==============================] - 44s 91ms/step - loss: 2.4678 - accuracy: 0.3896\n",
      "Epoch 55/120\n",
      "484/484 [==============================] - 44s 90ms/step - loss: 2.4415 - accuracy: 0.3955\n",
      "Epoch 56/120\n",
      "484/484 [==============================] - 44s 91ms/step - loss: 2.4083 - accuracy: 0.4025\n",
      "Epoch 57/120\n",
      "484/484 [==============================] - 44s 91ms/step - loss: 2.3624 - accuracy: 0.4085\n",
      "Epoch 58/120\n",
      "484/484 [==============================] - 44s 91ms/step - loss: 2.3304 - accuracy: 0.4147\n",
      "Epoch 59/120\n",
      "484/484 [==============================] - 44s 91ms/step - loss: 2.3056 - accuracy: 0.4219\n",
      "Epoch 60/120\n",
      "484/484 [==============================] - 44s 91ms/step - loss: 2.2574 - accuracy: 0.4294\n",
      "Epoch 61/120\n",
      "484/484 [==============================] - 44s 91ms/step - loss: 2.2414 - accuracy: 0.4349\n",
      "Epoch 62/120\n",
      "484/484 [==============================] - 44s 91ms/step - loss: 2.2015 - accuracy: 0.4406\n",
      "Epoch 63/120\n",
      "484/484 [==============================] - 44s 91ms/step - loss: 2.1765 - accuracy: 0.4452\n",
      "Epoch 64/120\n",
      "484/484 [==============================] - 44s 91ms/step - loss: 2.1509 - accuracy: 0.4489\n",
      "Epoch 65/120\n",
      "484/484 [==============================] - 44s 91ms/step - loss: 2.1223 - accuracy: 0.4622\n",
      "Epoch 66/120\n",
      "484/484 [==============================] - 44s 90ms/step - loss: 2.0862 - accuracy: 0.4642\n",
      "Epoch 67/120\n",
      "484/484 [==============================] - 44s 91ms/step - loss: 2.0543 - accuracy: 0.4749\n",
      "Epoch 68/120\n",
      "484/484 [==============================] - 44s 91ms/step - loss: 2.0351 - accuracy: 0.4776\n",
      "Epoch 69/120\n",
      "484/484 [==============================] - 44s 91ms/step - loss: 1.9853 - accuracy: 0.4900\n",
      "Epoch 70/120\n",
      "484/484 [==============================] - 44s 91ms/step - loss: 2.0062 - accuracy: 0.4809\n",
      "Epoch 71/120\n",
      "484/484 [==============================] - 44s 90ms/step - loss: 1.9450 - accuracy: 0.4973\n",
      "Epoch 72/120\n",
      "484/484 [==============================] - 43s 89ms/step - loss: 1.9149 - accuracy: 0.5044\n",
      "Epoch 73/120\n",
      "484/484 [==============================] - 43s 89ms/step - loss: 1.8785 - accuracy: 0.5118\n",
      "Epoch 74/120\n",
      "484/484 [==============================] - 43s 89ms/step - loss: 1.8539 - accuracy: 0.5169\n",
      "Epoch 75/120\n",
      "484/484 [==============================] - 43s 89ms/step - loss: 1.8346 - accuracy: 0.5235\n",
      "Epoch 76/120\n",
      "484/484 [==============================] - 43s 90ms/step - loss: 1.8166 - accuracy: 0.5285\n",
      "Epoch 77/120\n",
      "484/484 [==============================] - 44s 90ms/step - loss: 1.7843 - accuracy: 0.5342\n",
      "Epoch 78/120\n",
      "484/484 [==============================] - 44s 90ms/step - loss: 1.7677 - accuracy: 0.5409\n",
      "Epoch 79/120\n",
      "484/484 [==============================] - 44s 90ms/step - loss: 1.7482 - accuracy: 0.5465\n",
      "Epoch 80/120\n",
      "484/484 [==============================] - 44s 90ms/step - loss: 1.7275 - accuracy: 0.5461\n",
      "Epoch 81/120\n",
      "484/484 [==============================] - 44s 90ms/step - loss: 1.6949 - accuracy: 0.5574\n",
      "Epoch 82/120\n",
      "484/484 [==============================] - 44s 90ms/step - loss: 1.6759 - accuracy: 0.5592\n",
      "Epoch 83/120\n",
      "484/484 [==============================] - 44s 91ms/step - loss: 1.6763 - accuracy: 0.5628\n",
      "Epoch 84/120\n",
      "484/484 [==============================] - 44s 90ms/step - loss: 1.6377 - accuracy: 0.5709\n",
      "Epoch 85/120\n",
      "484/484 [==============================] - 44s 90ms/step - loss: 1.5895 - accuracy: 0.5821\n",
      "Epoch 86/120\n",
      "484/484 [==============================] - 44s 90ms/step - loss: 1.5860 - accuracy: 0.5858\n",
      "Epoch 87/120\n",
      "484/484 [==============================] - 43s 90ms/step - loss: 1.5806 - accuracy: 0.5847\n",
      "Epoch 88/120\n",
      "484/484 [==============================] - 43s 90ms/step - loss: 1.5444 - accuracy: 0.5939\n",
      "Epoch 89/120\n",
      "484/484 [==============================] - 43s 90ms/step - loss: 1.5444 - accuracy: 0.5955\n",
      "Epoch 90/120\n",
      "484/484 [==============================] - 43s 90ms/step - loss: 1.5332 - accuracy: 0.5934\n",
      "Epoch 91/120\n",
      "484/484 [==============================] - 45s 92ms/step - loss: 1.4972 - accuracy: 0.6045\n",
      "Epoch 92/120\n",
      "484/484 [==============================] - 45s 93ms/step - loss: 1.4636 - accuracy: 0.6146\n",
      "Epoch 93/120\n",
      "484/484 [==============================] - 45s 93ms/step - loss: 1.4465 - accuracy: 0.6182\n",
      "Epoch 94/120\n",
      "484/484 [==============================] - 45s 92ms/step - loss: 1.4523 - accuracy: 0.6131\n",
      "Epoch 95/120\n",
      "484/484 [==============================] - 45s 93ms/step - loss: 1.4147 - accuracy: 0.6244\n",
      "Epoch 96/120\n",
      "484/484 [==============================] - 45s 93ms/step - loss: 1.4104 - accuracy: 0.6302\n",
      "Epoch 97/120\n",
      "484/484 [==============================] - 45s 93ms/step - loss: 1.4044 - accuracy: 0.6319\n",
      "Epoch 98/120\n",
      "484/484 [==============================] - 45s 93ms/step - loss: 1.3817 - accuracy: 0.6341\n",
      "Epoch 99/120\n",
      "484/484 [==============================] - 46s 95ms/step - loss: 1.3632 - accuracy: 0.6396\n",
      "Epoch 100/120\n",
      "484/484 [==============================] - 46s 95ms/step - loss: 1.3394 - accuracy: 0.6415\n",
      "Epoch 101/120\n",
      "484/484 [==============================] - 46s 95ms/step - loss: 1.3368 - accuracy: 0.6479\n",
      "Epoch 102/120\n",
      "484/484 [==============================] - 46s 95ms/step - loss: 1.3077 - accuracy: 0.6530\n",
      "Epoch 103/120\n",
      "484/484 [==============================] - 47s 96ms/step - loss: 1.3305 - accuracy: 0.6488\n",
      "Epoch 104/120\n",
      "484/484 [==============================] - 48s 99ms/step - loss: 1.2962 - accuracy: 0.6590\n",
      "Epoch 105/120\n",
      "484/484 [==============================] - 47s 97ms/step - loss: 1.2979 - accuracy: 0.6583\n",
      "Epoch 106/120\n",
      "484/484 [==============================] - 45s 93ms/step - loss: 1.2563 - accuracy: 0.6693\n",
      "Epoch 107/120\n",
      "484/484 [==============================] - 48s 99ms/step - loss: 1.2564 - accuracy: 0.6683\n",
      "Epoch 108/120\n",
      "484/484 [==============================] - 48s 98ms/step - loss: 1.2572 - accuracy: 0.6684\n",
      "Epoch 109/120\n",
      "484/484 [==============================] - 44s 91ms/step - loss: 1.2232 - accuracy: 0.6746\n",
      "Epoch 110/120\n",
      "484/484 [==============================] - 45s 94ms/step - loss: 1.2058 - accuracy: 0.6828\n",
      "Epoch 111/120\n",
      "484/484 [==============================] - 45s 92ms/step - loss: 1.2036 - accuracy: 0.6840\n",
      "Epoch 112/120\n",
      "484/484 [==============================] - 45s 92ms/step - loss: 1.1999 - accuracy: 0.6828\n",
      "Epoch 113/120\n",
      "484/484 [==============================] - 43s 90ms/step - loss: 1.2003 - accuracy: 0.6801\n",
      "Epoch 114/120\n",
      "484/484 [==============================] - 43s 90ms/step - loss: 1.1812 - accuracy: 0.6894\n",
      "Epoch 115/120\n",
      "484/484 [==============================] - 43s 90ms/step - loss: 1.1754 - accuracy: 0.6899\n",
      "Epoch 116/120\n",
      "484/484 [==============================] - 43s 89ms/step - loss: 1.1520 - accuracy: 0.6953\n",
      "Epoch 117/120\n",
      "484/484 [==============================] - 43s 89ms/step - loss: 1.1618 - accuracy: 0.6939\n",
      "Epoch 118/120\n",
      "484/484 [==============================] - 43s 90ms/step - loss: 1.1611 - accuracy: 0.6927\n",
      "Epoch 119/120\n",
      "484/484 [==============================] - 43s 90ms/step - loss: 1.1386 - accuracy: 0.7010\n",
      "Epoch 120/120\n",
      "484/484 [==============================] - 43s 89ms/step - loss: 1.1165 - accuracy: 0.7085\n"
     ]
    }
   ]
  },
  {
   "cell_type": "code",
   "execution_count": null,
   "outputs": [],
   "source": [
    "model.save(\"shakespeare_sonnets.h5\")"
   ],
   "metadata": {
    "collapsed": false,
    "pycharm": {
     "name": "#%%\n"
    }
   }
  },
  {
   "cell_type": "code",
   "metadata": {
    "id": "1fXTEO3GJ282"
   },
   "source": [
    "import matplotlib.pyplot as plt\n",
    "acc = history.history['accuracy']\n",
    "loss = history.history['loss']\n",
    "\n",
    "epochs = range(len(acc))\n",
    "\n",
    "plt.plot(epochs, acc, 'b', label='Training accuracy')\n",
    "plt.title('Training accuracy')\n",
    "plt.legend()\n",
    "\n",
    "plt.figure()\n",
    "\n",
    "plt.plot(epochs, loss, 'b', label='Training Loss')\n",
    "plt.title('Training loss')\n",
    "plt.legend()\n",
    "\n",
    "plt.show()"
   ],
   "execution_count": 9,
   "outputs": [
    {
     "data": {
      "text/plain": "<Figure size 432x288 with 1 Axes>",
      "image/png": "[encoded data removed]"
     },
     "metadata": {
      "needs_background": "light"
     },
     "output_type": "display_data"
    },
    {
     "data": {
      "text/plain": "<Figure size 432x288 with 1 Axes>",
      "image/png": "[encoded data removed]"
     },
     "metadata": {
      "needs_background": "light"
     },
     "output_type": "display_data"
    }
   ]
  },
  {
   "cell_type": "code",
   "metadata": {
    "id": "6Vc6PHgxa6Hm",
    "pycharm": {
     "name": "#%%\n"
    }
   },
   "source": [
    "seed_text = \"In sooth thy Bulls are top in all land\"\n",
    "next_words = 100\n",
    "  \n",
    "for _ in range(next_words):\n",
    "\ttoken_list = tokenizer.texts_to_sequences([seed_text])[0]\n",
    "\ttoken_list = pad_sequences([token_list], maxlen=max_sequence_len-1, padding='pre')\n",
    "\tpredicted = model.predict(token_list, verbose=0)\n",
    "\tpredicted = np.argmax(predicted, axis=1)\n",
    "\toutput_word = \"\"\n",
    "\tfor word, index in tokenizer.word_index.items():\n",
    "\t\tif index == predicted:\n",
    "\t\t\toutput_word = word\n",
    "\t\t\tbreak\n",
    "\tseed_text += \" \" + output_word"
   ],
   "execution_count": 25,
   "outputs": []
  },
  {
   "cell_type": "code",
   "execution_count": 26,
   "outputs": [
    {
     "name": "stdout",
     "output_type": "stream",
     "text": [
      "In sooth thy Bulls are top in all land \n",
      "short vouchsafe and last for overturn yellow'd where and abuse \n",
      "me free won ward won ward dead cold bow bow \n",
      "light sufficed took knowing thee kill creatures huge ground chary \n",
      "gone away for me be turn'd fiend breeds erred erred \n",
      "denote renew'd alchemy decease deem'd bred renew'd forsaken now no \n",
      "name jewel purpose me of thyself alone were renew'd touches \n",
      "doing crime silver indigest torn gone thrice away but bright \n",
      "is told lives 'greeing thrice dyed belied of too hems \n",
      "sits old bad shadows shall detain my friend ' quite \n"
     ]
    }
   ],
   "source": [
    "words = 0\n",
    "sentence = \"\"\n",
    "for w in seed_text.split():\n",
    "\tif words == 9:\n",
    "\t\tprint(sentence)\n",
    "\t\tsentence = \"\"\n",
    "\tsentence += w + \" \"\n",
    "\twords = (words + 1) % 10"
   ],
   "metadata": {
    "collapsed": false,
    "pycharm": {
     "name": "#%%\n"
    }
   }
  },
  {
   "cell_type": "code",
   "execution_count": null,
   "outputs": [],
   "source": [],
   "metadata": {
    "collapsed": false,
    "pycharm": {
     "name": "#%%\n"
    }
   }
  }
 ]
}
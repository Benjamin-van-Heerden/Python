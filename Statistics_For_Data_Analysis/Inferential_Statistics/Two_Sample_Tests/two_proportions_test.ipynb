{
 "cells": [
  {
   "cell_type": "markdown",
   "source": [
    "## Take samples from two populations and determine if the populations are similar or not with regards to some proportionality. i.e. the proportionality stems from a true/false relation imposed on the populations. e.g. take a sample from two towns of people and compare the proportion of smokers to non-smokers. Again as with the one proportion test we require at least 10 successes and 10 failures. The binomial distribution is used for the numeric test, though the binomial distribution is difficult to work with so a normal approximation can again be used. In terms of a hypothesis test:\r\n",
    "\r\n",
    "\r\n",
    "\r\n",
    "## There are two main methods of doing these tests, the so called pooled and un-pooled methods.\r\n",
    "\r\n",
    "# Pooled:\r\n",
    "\r\n",
    "$$\r\n",
    "H_0: p_1 = p_2 \\\\\r\n",
    "H_a: p_1 \\neq p_2\r\n",
    "$$\r\n",
    "$$\r\n",
    "\\bar{p} = \\frac{n_1\\hat{p_1} + n_2\\hat{p_2}}{n_1 + n_2} \\\\\r\n",
    "$$\r\n",
    "$$\r\n",
    "z_{cal} = \\frac{\\hat{p_1} - \\hat{p_2}}{\\sqrt{\\bar{p}(1-\\bar{p})(\\frac{1}{n_1} + \\frac{1}{n_2})}}\r\n",
    "$$\r\n",
    "\r\n",
    "# Un-Pooled:\r\n",
    "\r\n",
    "$$\r\n",
    "H_0: p_1 - p_2 = d \\\\\r\n",
    "H_a: p_1 - p_2 \\neq d\r\n",
    "$$\r\n",
    "$$\r\n",
    "z_{cal} = \\frac{(\\hat{p_1} - \\hat{p_2}) - d}{\\sqrt{\\frac{\\hat{p_1}(1-\\hat{p_1})}{n_1} + \\frac{\\hat{p_2}(1-\\hat{p_2})}{n_2}}}\r\n",
    "$$"
   ],
   "metadata": {}
  },
  {
   "cell_type": "code",
   "execution_count": 4,
   "source": [
    "import numpy as np\r\n",
    "import pandas as pd\r\n",
    "import matplotlib.pyplot as plt\r\n",
    "import seaborn as sns\r\n",
    "sns.set_style(\"darkgrid\")\r\n",
    "import scipy.stats as stats\r\n",
    "from statsmodels.stats import proportion"
   ],
   "outputs": [],
   "metadata": {}
  },
  {
   "cell_type": "code",
   "execution_count": 8,
   "source": [
    "# we use the binom test\r\n",
    "# say we have two samples from two suppliers, s1: 30/200 defectives, s2: 10/100 defectives. Is there a statistically significant difference in proportions? \r\n",
    "# this is the pooled method. For un-pooled see docs\r\n",
    "\r\n",
    "proportion.test_proportions_2indep(30, 200, 10, 100)\r\n",
    "\r\n",
    "# p value > 0.05 so we do not reject the null hypothesis"
   ],
   "outputs": [
    {
     "output_type": "execute_result",
     "data": {
      "text/plain": [
       "<class 'statsmodels.stats.base.HolderTuple'>\n",
       "statistic = 1.145433008876846\n",
       "pvalue = 0.2520298311822946\n",
       "compare = diff\n",
       "method = agresti-caffo\n",
       "diff = 0.04999999999999999\n",
       "ratio = 1.4999999999999998\n",
       "odds_ratio = 1.588235294117647\n",
       "variance = 0.001586401953652147\n",
       "alternative = two-sided\n",
       "value = 0\n",
       "tuple = (1.145433008876846, 0.2520298311822946)"
      ]
     },
     "metadata": {},
     "execution_count": 8
    }
   ],
   "metadata": {}
  },
  {
   "cell_type": "code",
   "execution_count": null,
   "source": [],
   "outputs": [],
   "metadata": {}
  }
 ],
 "metadata": {
  "orig_nbformat": 4,
  "language_info": {
   "name": "python",
   "version": "3.9.7",
   "mimetype": "text/x-python",
   "codemirror_mode": {
    "name": "ipython",
    "version": 3
   },
   "pygments_lexer": "ipython3",
   "nbconvert_exporter": "python",
   "file_extension": ".py"
  },
  "kernelspec": {
   "name": "python3",
   "display_name": "Python 3.9.7 64-bit"
  },
  "interpreter": {
   "hash": "63fd5069d213b44bf678585dea6b12cceca9941eaf7f819626cde1f2670de90d"
  }
 },
 "nbformat": 4,
 "nbformat_minor": 2
}
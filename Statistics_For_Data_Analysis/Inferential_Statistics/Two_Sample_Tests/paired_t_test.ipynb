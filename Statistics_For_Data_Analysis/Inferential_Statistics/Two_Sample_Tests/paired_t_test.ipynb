{
 "cells": [
  {
   "cell_type": "markdown",
   "source": [
    "## If the values in one sample affect the values in the other sample, then we use a paired t test. E.g. blood pressure before and after a specific medicine.  \r\n",
    "## More specifically, when the samples are not independent. A common scenario is that of a before and after event.\r\n",
    "\r\n",
    "\r\n",
    "## How do we calculate?\r\n",
    "\r\n",
    "- Find the differences in the two sets of readings $d_1, \\dots, d_n$\r\n",
    "- Find the mean and std of these readings\r\n",
    "\r\n",
    "## Then \r\n",
    "\r\n",
    "$$\r\n",
    "t = \\frac{\\bar{d}}{\\frac{s}{\\sqrt{n}}}\r\n",
    "$$\r\n",
    "\r\n",
    "## The null and alternate hypotheses take the form:\r\n",
    "\r\n",
    "$$\r\n",
    "H_0: \\mu_{before} = \\mu_{after} \\\\\r\n",
    "H_a: \\mu_{before} \\neq \\mu_{after} \\\\\r\n",
    "and \\\\\r\n",
    "df = n - 1\r\n",
    "$$"
   ],
   "metadata": {}
  },
  {
   "cell_type": "code",
   "execution_count": 1,
   "source": [
    "import numpy as np\r\n",
    "import pandas as pd\r\n",
    "import matplotlib.pyplot as plt\r\n",
    "import seaborn as sns\r\n",
    "sns.set_style(\"darkgrid\")\r\n",
    "import scipy.stats as stats\r\n",
    "from statsmodels.stats import weightstats"
   ],
   "outputs": [],
   "metadata": {}
  },
  {
   "cell_type": "code",
   "execution_count": 2,
   "source": [
    "bp_before = [120, 122, 143, 100, 109]\r\n",
    "bp_after = [122, 120, 141, 109, 109]"
   ],
   "outputs": [],
   "metadata": {}
  },
  {
   "cell_type": "code",
   "execution_count": 4,
   "source": [
    "stats.ttest_rel(bp_before, bp_after)\r\n",
    "\r\n",
    "# p > 0.05 so we do not reject the null. Statistically the \"medicine\" has made no difference in blood pressures. "
   ],
   "outputs": [
    {
     "output_type": "execute_result",
     "data": {
      "text/plain": [
       "Ttest_relResult(statistic=-0.6864064729836442, pvalue=0.5301776477578163)"
      ]
     },
     "metadata": {},
     "execution_count": 4
    }
   ],
   "metadata": {}
  },
  {
   "cell_type": "code",
   "execution_count": null,
   "source": [],
   "outputs": [],
   "metadata": {}
  }
 ],
 "metadata": {
  "orig_nbformat": 4,
  "language_info": {
   "name": "python",
   "version": "3.9.7",
   "mimetype": "text/x-python",
   "codemirror_mode": {
    "name": "ipython",
    "version": 3
   },
   "pygments_lexer": "ipython3",
   "nbconvert_exporter": "python",
   "file_extension": ".py"
  },
  "kernelspec": {
   "name": "python3",
   "display_name": "Python 3.9.7 64-bit"
  },
  "interpreter": {
   "hash": "63fd5069d213b44bf678585dea6b12cceca9941eaf7f819626cde1f2670de90d"
  }
 },
 "nbformat": 4,
 "nbformat_minor": 2
}
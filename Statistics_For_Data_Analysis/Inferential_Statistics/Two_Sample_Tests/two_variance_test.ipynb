{
 "cells": [
  {
   "cell_type": "markdown",
   "source": [
    "## Here we compare, as the name implies, two variances from two different samples. We make assumptions of independence and thaqt the underlying distributions are at least approximately normal. The formal name of the two variance test is the so called F-test, since the test is performed using the F-distribution.\r\n",
    "\r\n",
    "\r\n",
    "$$\r\n",
    "H_0: \\sigma_1^2 = \\sigma_2^2 \\\\\r\n",
    "H_a: \\sigma_1^2 \\neq \\sigma_2^2\r\n",
    "$$\r\n",
    "\r\n",
    "$$\r\n",
    "F_{cal} = \\frac{s_1^2}{s_2^2}\r\n",
    "$$\r\n",
    "\r\n",
    "$$\r\n",
    "df_1 = n_1 - 1\\\\\r\n",
    "df_2 = n_2 - 1\r\n",
    "$$\r\n",
    "\r\n",
    "- Tip: Put the largest sample variance to be the \"first sample\" it will make working with the F-distribution a bit more convenient."
   ],
   "metadata": {}
  },
  {
   "cell_type": "code",
   "execution_count": 2,
   "source": [
    "import numpy as np\r\n",
    "import pandas as pd\r\n",
    "import matplotlib.pyplot as plt\r\n",
    "import seaborn as sns\r\n",
    "sns.set_style(\"darkgrid\")\r\n",
    "import scipy.stats as stats\r\n",
    "from scipy.stats import f"
   ],
   "outputs": [],
   "metadata": {}
  },
  {
   "cell_type": "code",
   "execution_count": 4,
   "source": [
    "# two machines produce iron rods. We take 8 samples from A and 5 from B. We find std_dev_A = 1.1 and var_B = 11. Is there a difference at 90% CI? \r\n",
    "\r\n",
    "F_cal = 11/(1.1)**2\r\n",
    "F_cal "
   ],
   "outputs": [
    {
     "output_type": "execute_result",
     "data": {
      "text/plain": [
       "9.09090909090909"
      ]
     },
     "metadata": {},
     "execution_count": 4
    }
   ],
   "metadata": {}
  },
  {
   "cell_type": "code",
   "execution_count": 8,
   "source": [
    "# now we determine the critical values for this particular F-distribution df_1 = 4, df_2 = 7 (since machine B is taken to be the \"first sample\")\r\n",
    "\r\n",
    "left_f_critical = f.isf(0.95, 4, 7)\r\n",
    "print(left_f_critical)\r\n",
    "right_f_critical = f.isf(0.05, 4, 7)\r\n",
    "print(right_f_critical)\r\n"
   ],
   "outputs": [
    {
     "output_type": "stream",
     "name": "stdout",
     "text": [
      "0.1640901524729093\n",
      "4.120311726897633\n"
     ]
    }
   ],
   "metadata": {}
  },
  {
   "cell_type": "code",
   "execution_count": 9,
   "source": [
    "# since F_cal = 9.09 is not within the critical values we reject the null hypotheses and conclude that there is a statistically \r\n",
    "# significant difference between the two variances"
   ],
   "outputs": [],
   "metadata": {}
  },
  {
   "cell_type": "code",
   "execution_count": 12,
   "source": [
    "# We can also perform the so-called \"Bartlett-Test\", which also tests for differences in variances\r\n",
    "\r\n",
    "m1 = [150, 150, 151, 148, 151, 152, 149, 150]\r\n",
    "print(np.std(m1))\r\n",
    "m2 = [135, 152, 154, 169, 157]\r\n",
    "print(np.std(m2))\r\n",
    "\r\n",
    "\r\n",
    "stats.bartlett(m1, m2)\r\n",
    "# p < 0.05 so we reject the null hypothesis of equal variances"
   ],
   "outputs": [
    {
     "output_type": "stream",
     "name": "stdout",
     "text": [
      "1.165922381636102\n",
      "10.9288608738514\n"
     ]
    },
    {
     "output_type": "execute_result",
     "data": {
      "text/plain": [
       "BartlettResult(statistic=19.105727631632714, pvalue=1.2367317910523616e-05)"
      ]
     },
     "metadata": {},
     "execution_count": 12
    }
   ],
   "metadata": {}
  },
  {
   "cell_type": "code",
   "execution_count": 14,
   "source": [
    "# another tests of equal variances is the \"Levene-test\"\r\n",
    "# levene-test is much more robust that bartlett\r\n",
    "# bartlett has a built in assumption of normality, which levene does not, so if the levene test rejects the null\r\n",
    "# we can be quite sure that the variances are in fact different\r\n",
    "\r\n",
    "stats.levene(m1, m2)\r\n",
    "\r\n",
    "# also < 0.05 so we reject"
   ],
   "outputs": [
    {
     "output_type": "execute_result",
     "data": {
      "text/plain": [
       "LeveneResult(statistic=5.416245804750017, pvalue=0.040060452607943706)"
      ]
     },
     "metadata": {},
     "execution_count": 14
    }
   ],
   "metadata": {}
  },
  {
   "cell_type": "code",
   "execution_count": null,
   "source": [],
   "outputs": [],
   "metadata": {}
  }
 ],
 "metadata": {
  "orig_nbformat": 4,
  "language_info": {
   "name": "python",
   "version": "3.9.7",
   "mimetype": "text/x-python",
   "codemirror_mode": {
    "name": "ipython",
    "version": 3
   },
   "pygments_lexer": "ipython3",
   "nbconvert_exporter": "python",
   "file_extension": ".py"
  },
  "kernelspec": {
   "name": "python3",
   "display_name": "Python 3.9.7 64-bit"
  },
  "interpreter": {
   "hash": "63fd5069d213b44bf678585dea6b12cceca9941eaf7f819626cde1f2670de90d"
  }
 },
 "nbformat": 4,
 "nbformat_minor": 2
}
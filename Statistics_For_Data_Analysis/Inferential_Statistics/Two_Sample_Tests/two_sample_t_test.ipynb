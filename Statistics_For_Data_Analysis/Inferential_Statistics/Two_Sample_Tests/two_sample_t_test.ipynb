{
 "cells": [
  {
   "cell_type": "markdown",
   "source": [
    "\r\n",
    "When the population standard deviation is not known and we have a relatively small sample\r\n",
    "\r\n",
    "$$\r\n",
    "H_0: \\mu_1 = \\mu_2\\\\\r\n",
    "H_a: \\mu_1 \\neq \\mu_2\r\n",
    "$$\r\n",
    "\r\n",
    "## Q: Is the variance for the two samples equal?\r\n",
    "## Yes:\r\n",
    "$$\r\n",
    "t_{cal} = \\frac{\\bar{x_1} - \\bar{x_2}}{s_p\\sqrt{\\frac{1}{n_1} + \\frac{1}{n_2}}} \\\\\r\n",
    "$$\r\n",
    "$$\r\n",
    "s_p^2 = \\frac{(n_1 - 1)s_1^2 + (n_2 - 1)s_2^2}{df} \\\\\r\n",
    "$$\r\n",
    "$$\r\n",
    "df = n_1 + n_2 - 2\r\n",
    "$$\r\n",
    "\r\n",
    "## No:\r\n",
    "\r\n",
    "$$\r\n",
    "t_{cal} = \\frac{\\bar{x_1} - \\bar{x_2}}{\\sqrt{\\frac{s_1^2}{n_1} + \\frac{s_2^2}{n_2}}} \\\\\r\n",
    "$$\r\n",
    "$$\r\n",
    "df = \\text{Floor}\\frac{(\\frac{s_1^2}{n_1} + \\frac{s_2^2}{n_2})^2}{\\frac{(\\frac{s_1^2}{n_1})^2}{n_1-1} + \\frac{(\\frac{s_2^2}{n_2})^2}{n_2-1}}\r\n",
    "$$"
   ],
   "metadata": {}
  },
  {
   "cell_type": "code",
   "execution_count": 1,
   "source": [
    "import numpy as np\r\n",
    "import pandas as pd\r\n",
    "import matplotlib.pyplot as plt\r\n",
    "import seaborn as sns\r\n",
    "sns.set_style(\"darkgrid\")\r\n",
    "import scipy.stats as stats\r\n",
    "from statsmodels.stats import weightstats"
   ],
   "outputs": [],
   "metadata": {}
  },
  {
   "cell_type": "code",
   "execution_count": 4,
   "source": [
    "# EQUAL VARIANCES (approximately)\r\n",
    "\r\n",
    "m1 = [150, 152, 154, 152, 151]\r\n",
    "m2 = [156, 155, 158, 155, 154]\r\n",
    "\r\n",
    "# e.g. volume of perfume produced by two machines. Is there a statistical difference?"
   ],
   "outputs": [],
   "metadata": {}
  },
  {
   "cell_type": "code",
   "execution_count": 7,
   "source": [
    "stats.ttest_ind(m1, m2, equal_var=True)\r\n",
    "\r\n",
    "# p < 0.05 so we reject the null, i.e. there is a statistically significant difference between the two samples"
   ],
   "outputs": [
    {
     "output_type": "execute_result",
     "data": {
      "text/plain": [
       "Ttest_indResult(statistic=-4.005551702879929, pvalue=0.003919295477128331)"
      ]
     },
     "metadata": {},
     "execution_count": 7
    }
   ],
   "metadata": {}
  },
  {
   "cell_type": "code",
   "execution_count": 8,
   "source": [
    "# UNEQUAL VARIANCES\r\n",
    "\r\n",
    "m1 = [150, 152, 154, 152, 151]\r\n",
    "m3 = [144, 162, 177, 150, 140]"
   ],
   "outputs": [],
   "metadata": {}
  },
  {
   "cell_type": "code",
   "execution_count": 9,
   "source": [
    "stats.ttest_ind(m1, m3, equal_var=False)\r\n",
    "\r\n",
    "# fail to reject the null"
   ],
   "outputs": [
    {
     "output_type": "execute_result",
     "data": {
      "text/plain": [
       "Ttest_indResult(statistic=-0.4146442144313621, pvalue=0.699289145758865)"
      ]
     },
     "metadata": {},
     "execution_count": 9
    }
   ],
   "metadata": {}
  },
  {
   "cell_type": "code",
   "execution_count": null,
   "source": [],
   "outputs": [],
   "metadata": {}
  }
 ],
 "metadata": {
  "orig_nbformat": 4,
  "language_info": {
   "name": "python",
   "version": "3.9.7",
   "mimetype": "text/x-python",
   "codemirror_mode": {
    "name": "ipython",
    "version": 3
   },
   "pygments_lexer": "ipython3",
   "nbconvert_exporter": "python",
   "file_extension": ".py"
  },
  "kernelspec": {
   "name": "python3",
   "display_name": "Python 3.9.7 64-bit"
  },
  "interpreter": {
   "hash": "63fd5069d213b44bf678585dea6b12cceca9941eaf7f819626cde1f2670de90d"
  }
 },
 "nbformat": 4,
 "nbformat_minor": 2
}
{
 "cells": [
  {
   "cell_type": "markdown",
   "source": [
    "## The purpose of goodness of dit tests are to test whether the sample is coming from a population with a specific distribution. Chi-squared is the underlying distribution used for the test. Other similar tests include the Anderson-Darling and Kolmogorov-Smirnov tests.\r\n",
    "\r\n",
    "## As an example, say we flip a coin. We perform a test to see whether the action of flipping a coin comes from aq specified distribution. The expectation is that coin flips come from a binomial distribution where the probability of heads/tails is 50/50.\r\n",
    "\r\n",
    "$$\r\n",
    "H_0: \\text{The data follows a specified distribution} \\\\\r\n",
    "H_a: \\text{The data do not follow the specified distribution}\r\n",
    "$$\r\n",
    "\r\n",
    "Calculated Statistic:\r\n",
    "\r\n",
    "$$\r\n",
    "\\chi^2 = \\sum_{i=1}^{k} \\frac{(O-E)^2}{E}\r\n",
    "$$\r\n",
    "\r\n",
    "- k-1 degrees of freedom for a specific alpha  \r\n",
    "- O - observed  \r\n",
    "- E - expected\r\n",
    "\r\n",
    "Example: Coin flipped 100 times and 40 heads are observed. Is this coin biased? (Check with 95% cofidence)\r\n",
    "\r\n",
    "Heads: exp = 50, obs = 40, o-e = -10, (o-e)^2 = 100, (o-e)^2/e = 2  \r\n",
    "Tails: exp = 50, obs = 60, o-e = 10, (o-e)^2 = 100, (o-e)^2/e = 2\r\n",
    "\r\n",
    "chi^2 = 4  \r\n",
    "df = 1  \r\n",
    "chi_critical = 3.84\r\n",
    "\r\n",
    "Hence we reject the null. At 95% confidence this coin is biased."
   ],
   "metadata": {}
  },
  {
   "cell_type": "code",
   "execution_count": 1,
   "source": [
    "import numpy as np\r\n",
    "import pandas as pd\r\n",
    "import matplotlib.pyplot as plt\r\n",
    "import seaborn as sns\r\n",
    "sns.set_style(\"darkgrid\")\r\n",
    "import scipy.stats as stats"
   ],
   "outputs": [],
   "metadata": {}
  },
  {
   "cell_type": "code",
   "execution_count": 6,
   "source": [
    "expected = [50, 50]\r\n",
    "observed = [40, 60]\r\n",
    "\r\n",
    "stats.chisquare(f_obs=observed, f_exp=expected) # if we omit the expected the probabilities are the same\r\n",
    "#  p < 0.05 so we reject"
   ],
   "outputs": [
    {
     "output_type": "execute_result",
     "data": {
      "text/plain": [
       "Power_divergenceResult(statistic=4.0, pvalue=0.04550026389635857)"
      ]
     },
     "metadata": {},
     "execution_count": 6
    }
   ],
   "metadata": {}
  },
  {
   "cell_type": "code",
   "execution_count": 8,
   "source": [
    "obs_d = [10, 6, 8, 22, 11, 8]\r\n",
    "\r\n",
    "stats.chisquare(obs_d)\r\n",
    "# this die is biased"
   ],
   "outputs": [
    {
     "output_type": "execute_result",
     "data": {
      "text/plain": [
       "Power_divergenceResult(statistic=15.215384615384615, pvalue=0.009480606629220312)"
      ]
     },
     "metadata": {},
     "execution_count": 8
    }
   ],
   "metadata": {}
  },
  {
   "cell_type": "code",
   "execution_count": 15,
   "source": [
    "shirt_sales = pd.DataFrame(\r\n",
    "    data={\r\n",
    "        \"size\": [\"small\", \"medium\", \"large\", \"extra-large\"],\r\n",
    "        \"historic_proportion_sales\": [0.1, 0.2, 0.4, 0.3],\r\n",
    "        \"actual_sales\": [25, 41, 91, 68]\r\n",
    "    }\r\n",
    ")\r\n",
    "shirt_sales[\"expected_sales\"] = shirt_sales[\"actual_sales\"].sum()*shirt_sales[\"historic_proportion_sales\"]\r\n",
    "shirt_sales"
   ],
   "outputs": [
    {
     "output_type": "execute_result",
     "data": {
      "text/plain": [
       "          size  historic_proportion_sales  actual_sales  expected_sales\n",
       "0        small                        0.1            25            22.5\n",
       "1       medium                        0.2            41            45.0\n",
       "2        large                        0.4            91            90.0\n",
       "3  extra-large                        0.3            68            67.5"
      ],
      "text/html": [
       "<div>\n",
       "<style scoped>\n",
       "    .dataframe tbody tr th:only-of-type {\n",
       "        vertical-align: middle;\n",
       "    }\n",
       "\n",
       "    .dataframe tbody tr th {\n",
       "        vertical-align: top;\n",
       "    }\n",
       "\n",
       "    .dataframe thead th {\n",
       "        text-align: right;\n",
       "    }\n",
       "</style>\n",
       "<table border=\"1\" class=\"dataframe\">\n",
       "  <thead>\n",
       "    <tr style=\"text-align: right;\">\n",
       "      <th></th>\n",
       "      <th>size</th>\n",
       "      <th>historic_proportion_sales</th>\n",
       "      <th>actual_sales</th>\n",
       "      <th>expected_sales</th>\n",
       "    </tr>\n",
       "  </thead>\n",
       "  <tbody>\n",
       "    <tr>\n",
       "      <th>0</th>\n",
       "      <td>small</td>\n",
       "      <td>0.1</td>\n",
       "      <td>25</td>\n",
       "      <td>22.5</td>\n",
       "    </tr>\n",
       "    <tr>\n",
       "      <th>1</th>\n",
       "      <td>medium</td>\n",
       "      <td>0.2</td>\n",
       "      <td>41</td>\n",
       "      <td>45.0</td>\n",
       "    </tr>\n",
       "    <tr>\n",
       "      <th>2</th>\n",
       "      <td>large</td>\n",
       "      <td>0.4</td>\n",
       "      <td>91</td>\n",
       "      <td>90.0</td>\n",
       "    </tr>\n",
       "    <tr>\n",
       "      <th>3</th>\n",
       "      <td>extra-large</td>\n",
       "      <td>0.3</td>\n",
       "      <td>68</td>\n",
       "      <td>67.5</td>\n",
       "    </tr>\n",
       "  </tbody>\n",
       "</table>\n",
       "</div>"
      ]
     },
     "metadata": {},
     "execution_count": 15
    }
   ],
   "metadata": {}
  },
  {
   "cell_type": "code",
   "execution_count": 17,
   "source": [
    "stats.chisquare(shirt_sales[\"actual_sales\"].values, shirt_sales[\"expected_sales\"].values)\r\n",
    "\r\n",
    "# we do not reject the null, the proportions of shirt sales is not statistically significant"
   ],
   "outputs": [
    {
     "output_type": "execute_result",
     "data": {
      "text/plain": [
       "Power_divergenceResult(statistic=0.648148148148148, pvalue=0.8853267818237286)"
      ]
     },
     "metadata": {},
     "execution_count": 17
    }
   ],
   "metadata": {}
  },
  {
   "cell_type": "code",
   "execution_count": null,
   "source": [],
   "outputs": [],
   "metadata": {}
  }
 ],
 "metadata": {
  "orig_nbformat": 4,
  "language_info": {
   "name": "python",
   "version": "3.9.7",
   "mimetype": "text/x-python",
   "codemirror_mode": {
    "name": "ipython",
    "version": 3
   },
   "pygments_lexer": "ipython3",
   "nbconvert_exporter": "python",
   "file_extension": ".py"
  },
  "kernelspec": {
   "name": "python3",
   "display_name": "Python 3.9.7 64-bit"
  },
  "interpreter": {
   "hash": "63fd5069d213b44bf678585dea6b12cceca9941eaf7f819626cde1f2670de90d"
  }
 },
 "nbformat": 4,
 "nbformat_minor": 2
}
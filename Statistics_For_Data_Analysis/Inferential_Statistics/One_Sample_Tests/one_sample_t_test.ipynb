{
 "cells": [
  {
   "cell_type": "markdown",
   "source": [
    "## The difference between t and z tests is that with a t test, the population standard deviation is not known!\r\n",
    "### We therefore approximate the population standard deviation from our sample. Accounting for this change leads to an additional paremeter used in the test, namely, the \"degrees of freedom\" which influences the rejection zones. The rest of the test is the same."
   ],
   "metadata": {}
  },
  {
   "cell_type": "markdown",
   "source": [
    "#### Example: machine bottles 150cc, 4 bottles randomly picked and average volume found to be 151cc and a sample sdt dev of 2cc. Has the mean volume changed?"
   ],
   "metadata": {}
  },
  {
   "cell_type": "code",
   "execution_count": 1,
   "source": [
    "import numpy as np\r\n",
    "import pandas as pd\r\n",
    "import matplotlib.pyplot as plt\r\n",
    "import seaborn as sns\r\n",
    "import scipy.stats as stats\r\n",
    "from statsmodels.stats import weightstats"
   ],
   "outputs": [],
   "metadata": {}
  },
  {
   "cell_type": "code",
   "execution_count": 3,
   "source": [
    "volumes = pd.Series([148.5, 153.4, 150.9, 151.2])\r\n",
    "volumes.describe()"
   ],
   "outputs": [
    {
     "output_type": "execute_result",
     "data": {
      "text/plain": [
       "count      4.000000\n",
       "mean     151.000000\n",
       "std        2.004994\n",
       "min      148.500000\n",
       "25%      150.300000\n",
       "50%      151.050000\n",
       "75%      151.750000\n",
       "max      153.400000\n",
       "dtype: float64"
      ]
     },
     "metadata": {},
     "execution_count": 3
    }
   ],
   "metadata": {}
  },
  {
   "cell_type": "code",
   "execution_count": 6,
   "source": [
    "stats.ttest_1samp(volumes, 150) # degrees of freedom here is 3, since (4-1) samples "
   ],
   "outputs": [
    {
     "output_type": "execute_result",
     "data": {
      "text/plain": [
       "Ttest_1sampResult(statistic=0.997509336107632, pvalue=0.3920333832606524)"
      ]
     },
     "metadata": {},
     "execution_count": 6
    }
   ],
   "metadata": {}
  },
  {
   "cell_type": "markdown",
   "source": [
    "### the first result is the test statistic ($t_{calc} = \\frac{\\bar{x}-\\mu}{\\frac{s}{\\sqrt{n}}}$), the second result is the p value\r\n",
    "### since p = 0.392 > 0.05 we fail to reject the null hypothesis. From this test we cannot conclude that the mean value of 150 per bottle has changed"
   ],
   "metadata": {}
  },
  {
   "cell_type": "markdown",
   "source": [],
   "metadata": {}
  }
 ],
 "metadata": {
  "orig_nbformat": 4,
  "language_info": {
   "name": "python",
   "version": "3.9.7",
   "mimetype": "text/x-python",
   "codemirror_mode": {
    "name": "ipython",
    "version": 3
   },
   "pygments_lexer": "ipython3",
   "nbconvert_exporter": "python",
   "file_extension": ".py"
  },
  "kernelspec": {
   "name": "python3",
   "display_name": "Python 3.9.7 64-bit"
  },
  "interpreter": {
   "hash": "63fd5069d213b44bf678585dea6b12cceca9941eaf7f819626cde1f2670de90d"
  }
 },
 "nbformat": 4,
 "nbformat_minor": 2
}
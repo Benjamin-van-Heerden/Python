{
 "cells": [
  {
   "cell_type": "markdown",
   "source": [
    "# A machine produces bottles with a long term average of 150cc, std 2cc. Four bottles were picked and the average was found to be 153.8cc. Has the average volume changed from 150cc? Test with 89% confidence level"
   ],
   "metadata": {}
  },
  {
   "cell_type": "markdown",
   "source": [
    "# Null Hyp: Mean volume = 150cc\n",
    "# Alt Hyp: Mean value != 150cc\n",
    "\n",
    "# alpha = 1 - 0.95 = 0.05\n",
    "## $$z_{calc}=\\frac{Observed\\, mean - population\\, mean}{standard\\, error}$$\n",
    "## $$z_{calc}=\\frac{x - \\mu}{\\frac{\\sigma}{\\sqrt{n}}}$$"
   ],
   "metadata": {}
  },
  {
   "cell_type": "code",
   "execution_count": 4,
   "source": [
    "import numpy as np\n",
    "import pandas as pd\n",
    "import matplotlib.pyplot as plt\n",
    "import seaborn as sns\n",
    "from scipy.stats import norm"
   ],
   "outputs": [],
   "metadata": {}
  },
  {
   "cell_type": "code",
   "execution_count": 2,
   "source": [
    "z_cal = (153.8 - 150)/(2/np.sqrt(4))\n",
    "z_cal"
   ],
   "outputs": [
    {
     "output_type": "execute_result",
     "data": {
      "text/plain": [
       "3.8000000000000114"
      ]
     },
     "metadata": {},
     "execution_count": 2
    }
   ],
   "metadata": {}
  },
  {
   "cell_type": "code",
   "execution_count": 3,
   "source": [
    "# norm.pdf(x, loc=0, scale=1) Probability density function.\n",
    "\n",
    "# norm.cdf(x, loc=0, scale=1)  Cumulative distribution function. (area to the left of x)\n",
    "\n",
    "# norm.sf(x, loc=0, scale=1) Survival function (also defined as 1 - cdf, but sf is sometimes more accurate).\n",
    "\n",
    "# norm.ppf(q, loc=0, scale=1) Percent point function (inverse of cdf — percentiles).\n",
    "\n",
    "# norm.isf(q, loc=0, scale=1) Inverse survival function (inverse of sf)."
   ],
   "outputs": [],
   "metadata": {}
  },
  {
   "cell_type": "code",
   "execution_count": 8,
   "source": [
    "norm.ppf(0.025)"
   ],
   "outputs": [
    {
     "output_type": "execute_result",
     "data": {
      "text/plain": [
       "-1.9599639845400545"
      ]
     },
     "metadata": {},
     "execution_count": 8
    }
   ],
   "metadata": {}
  },
  {
   "cell_type": "code",
   "execution_count": 9,
   "source": [
    "norm.isf(0.025)"
   ],
   "outputs": [
    {
     "output_type": "execute_result",
     "data": {
      "text/plain": [
       "1.9599639845400545"
      ]
     },
     "metadata": {},
     "execution_count": 9
    }
   ],
   "metadata": {}
  },
  {
   "cell_type": "code",
   "execution_count": 11,
   "source": [
    "# Reject the null hypothesis, the mean of the bottles has changed"
   ],
   "outputs": [],
   "metadata": {}
  },
  {
   "cell_type": "markdown",
   "source": [
    "# p value"
   ],
   "metadata": {}
  },
  {
   "cell_type": "code",
   "execution_count": 12,
   "source": [
    "# multiply by two since this is a two tail test\n",
    "p_value = 2 * norm.sf(z_cal)\n",
    "p_value"
   ],
   "outputs": [
    {
     "output_type": "execute_result",
     "data": {
      "text/plain": [
       "0.0001446960878502333"
      ]
     },
     "metadata": {},
     "execution_count": 12
    }
   ],
   "metadata": {}
  },
  {
   "cell_type": "code",
   "execution_count": 13,
   "source": [
    "# p_value is less than 0.05, hence we reject the null hypothesis"
   ],
   "outputs": [],
   "metadata": {}
  },
  {
   "cell_type": "code",
   "execution_count": null,
   "source": [],
   "outputs": [],
   "metadata": {}
  }
 ],
 "metadata": {
  "orig_nbformat": 4,
  "language_info": {
   "name": "python",
   "version": "3.8.10",
   "mimetype": "text/x-python",
   "codemirror_mode": {
    "name": "ipython",
    "version": 3
   },
   "pygments_lexer": "ipython3",
   "nbconvert_exporter": "python",
   "file_extension": ".py"
  },
  "kernelspec": {
   "name": "python3",
   "display_name": "Python 3.8.10 64-bit"
  },
  "interpreter": {
   "hash": "916dbcbb3f70747c44a77c7bcd40155683ae19c65e1c03b4aa3499c5328201f1"
  }
 },
 "nbformat": 4,
 "nbformat_minor": 2
}
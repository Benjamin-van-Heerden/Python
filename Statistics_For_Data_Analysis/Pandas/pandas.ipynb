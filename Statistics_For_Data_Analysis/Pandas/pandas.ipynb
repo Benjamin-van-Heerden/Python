{
 "cells": [
  {
   "cell_type": "markdown",
   "source": [
    "# Pandas Series\n",
    "## Think of series like a single column in a excel sheet"
   ],
   "metadata": {}
  },
  {
   "cell_type": "code",
   "execution_count": 1,
   "source": [
    "import numpy as np\n",
    "import pandas as pd"
   ],
   "outputs": [],
   "metadata": {}
  },
  {
   "cell_type": "code",
   "execution_count": 2,
   "source": [
    "mydays = [\"Sun\", \"Mon\", \"Tue\"]\n",
    "myexp = [34, 44, 29]"
   ],
   "outputs": [],
   "metadata": {}
  },
  {
   "cell_type": "code",
   "execution_count": 3,
   "source": [
    "type(myexp)"
   ],
   "outputs": [
    {
     "output_type": "execute_result",
     "data": {
      "text/plain": [
       "list"
      ]
     },
     "metadata": {},
     "execution_count": 3
    }
   ],
   "metadata": {}
  },
  {
   "cell_type": "code",
   "execution_count": 4,
   "source": [
    "# can pass a list directly to series\n",
    "a_mydays = np.array(mydays)\n",
    "a_myexp = np.array(myexp)\n",
    "a_mydays"
   ],
   "outputs": [
    {
     "output_type": "execute_result",
     "data": {
      "text/plain": [
       "array(['Sun', 'Mon', 'Tue'], dtype='<U3')"
      ]
     },
     "metadata": {},
     "execution_count": 4
    }
   ],
   "metadata": {}
  },
  {
   "cell_type": "code",
   "execution_count": 5,
   "source": [
    "pd.Series(a_mydays)"
   ],
   "outputs": [
    {
     "output_type": "execute_result",
     "data": {
      "text/plain": [
       "0    Sun\n",
       "1    Mon\n",
       "2    Tue\n",
       "dtype: object"
      ]
     },
     "metadata": {},
     "execution_count": 5
    }
   ],
   "metadata": {}
  },
  {
   "cell_type": "code",
   "execution_count": 6,
   "source": [
    "pd.Series(myexp)"
   ],
   "outputs": [
    {
     "output_type": "execute_result",
     "data": {
      "text/plain": [
       "0    34\n",
       "1    44\n",
       "2    29\n",
       "dtype: int64"
      ]
     },
     "metadata": {},
     "execution_count": 6
    }
   ],
   "metadata": {}
  },
  {
   "cell_type": "code",
   "execution_count": 7,
   "source": [
    "s_myexp = pd.Series(data=myexp, index=mydays)\n",
    "s_myexp"
   ],
   "outputs": [
    {
     "output_type": "execute_result",
     "data": {
      "text/plain": [
       "Sun    34\n",
       "Mon    44\n",
       "Tue    29\n",
       "dtype: int64"
      ]
     },
     "metadata": {},
     "execution_count": 7
    }
   ],
   "metadata": {}
  },
  {
   "cell_type": "code",
   "execution_count": 8,
   "source": [
    "s_myexp[0]"
   ],
   "outputs": [
    {
     "output_type": "execute_result",
     "data": {
      "text/plain": [
       "34"
      ]
     },
     "metadata": {},
     "execution_count": 8
    }
   ],
   "metadata": {}
  },
  {
   "cell_type": "code",
   "execution_count": 9,
   "source": [
    "s_myexp[\"Sun\"]"
   ],
   "outputs": [
    {
     "output_type": "execute_result",
     "data": {
      "text/plain": [
       "34"
      ]
     },
     "metadata": {},
     "execution_count": 9
    }
   ],
   "metadata": {}
  },
  {
   "cell_type": "markdown",
   "source": [
    "# Pandas Dataframes\n",
    "## A dataframe is like an entire excel sheet"
   ],
   "metadata": {}
  },
  {
   "cell_type": "code",
   "execution_count": 10,
   "source": [
    "mynums = np.arange(1,10).reshape(3, 3)\n",
    "mynums"
   ],
   "outputs": [
    {
     "output_type": "execute_result",
     "data": {
      "text/plain": [
       "array([[1, 2, 3],\n",
       "       [4, 5, 6],\n",
       "       [7, 8, 9]])"
      ]
     },
     "metadata": {},
     "execution_count": 10
    }
   ],
   "metadata": {}
  },
  {
   "cell_type": "code",
   "execution_count": 11,
   "source": [
    "df = pd.DataFrame(mynums, columns=[\"Col1\", \"Col2\", \"Col3\"], index=[\"Row1\", \"Row2\", \"Row3\"])\n",
    "df"
   ],
   "outputs": [
    {
     "output_type": "execute_result",
     "data": {
      "text/plain": [
       "      Col1  Col2  Col3\n",
       "Row1     1     2     3\n",
       "Row2     4     5     6\n",
       "Row3     7     8     9"
      ],
      "text/html": [
       "<div>\n",
       "<style scoped>\n",
       "    .dataframe tbody tr th:only-of-type {\n",
       "        vertical-align: middle;\n",
       "    }\n",
       "\n",
       "    .dataframe tbody tr th {\n",
       "        vertical-align: top;\n",
       "    }\n",
       "\n",
       "    .dataframe thead th {\n",
       "        text-align: right;\n",
       "    }\n",
       "</style>\n",
       "<table border=\"1\" class=\"dataframe\">\n",
       "  <thead>\n",
       "    <tr style=\"text-align: right;\">\n",
       "      <th></th>\n",
       "      <th>Col1</th>\n",
       "      <th>Col2</th>\n",
       "      <th>Col3</th>\n",
       "    </tr>\n",
       "  </thead>\n",
       "  <tbody>\n",
       "    <tr>\n",
       "      <th>Row1</th>\n",
       "      <td>1</td>\n",
       "      <td>2</td>\n",
       "      <td>3</td>\n",
       "    </tr>\n",
       "    <tr>\n",
       "      <th>Row2</th>\n",
       "      <td>4</td>\n",
       "      <td>5</td>\n",
       "      <td>6</td>\n",
       "    </tr>\n",
       "    <tr>\n",
       "      <th>Row3</th>\n",
       "      <td>7</td>\n",
       "      <td>8</td>\n",
       "      <td>9</td>\n",
       "    </tr>\n",
       "  </tbody>\n",
       "</table>\n",
       "</div>"
      ]
     },
     "metadata": {},
     "execution_count": 11
    }
   ],
   "metadata": {}
  },
  {
   "cell_type": "code",
   "execution_count": 12,
   "source": [
    "df.loc[\"Row1\",\"Col1\"]"
   ],
   "outputs": [
    {
     "output_type": "execute_result",
     "data": {
      "text/plain": [
       "1"
      ]
     },
     "metadata": {},
     "execution_count": 12
    }
   ],
   "metadata": {}
  },
  {
   "cell_type": "markdown",
   "source": [
    "# DataFrames from CSV's"
   ],
   "metadata": {}
  },
  {
   "cell_type": "code",
   "execution_count": 14,
   "source": [
    "imported_df = pd.read_csv(\"./Piece_Dim.csv\", index_col=\"Item_No\")"
   ],
   "outputs": [],
   "metadata": {}
  },
  {
   "cell_type": "code",
   "execution_count": 15,
   "source": [
    "imported_df.head()"
   ],
   "outputs": [
    {
     "output_type": "execute_result",
     "data": {
      "text/plain": [
       "         Length  Width  Height Operator\n",
       "Item_No                                \n",
       "Item-1   102.67  49.53   19.69     Op-1\n",
       "Item-2   102.50  51.42   19.63     Op-1\n",
       "Item-3    95.37  52.25   21.51     Op-1\n",
       "Item-4    94.77  49.24   18.60     Op-1\n",
       "Item-5   104.26  47.90   19.46     Op-1"
      ],
      "text/html": [
       "<div>\n",
       "<style scoped>\n",
       "    .dataframe tbody tr th:only-of-type {\n",
       "        vertical-align: middle;\n",
       "    }\n",
       "\n",
       "    .dataframe tbody tr th {\n",
       "        vertical-align: top;\n",
       "    }\n",
       "\n",
       "    .dataframe thead th {\n",
       "        text-align: right;\n",
       "    }\n",
       "</style>\n",
       "<table border=\"1\" class=\"dataframe\">\n",
       "  <thead>\n",
       "    <tr style=\"text-align: right;\">\n",
       "      <th></th>\n",
       "      <th>Length</th>\n",
       "      <th>Width</th>\n",
       "      <th>Height</th>\n",
       "      <th>Operator</th>\n",
       "    </tr>\n",
       "    <tr>\n",
       "      <th>Item_No</th>\n",
       "      <th></th>\n",
       "      <th></th>\n",
       "      <th></th>\n",
       "      <th></th>\n",
       "    </tr>\n",
       "  </thead>\n",
       "  <tbody>\n",
       "    <tr>\n",
       "      <th>Item-1</th>\n",
       "      <td>102.67</td>\n",
       "      <td>49.53</td>\n",
       "      <td>19.69</td>\n",
       "      <td>Op-1</td>\n",
       "    </tr>\n",
       "    <tr>\n",
       "      <th>Item-2</th>\n",
       "      <td>102.50</td>\n",
       "      <td>51.42</td>\n",
       "      <td>19.63</td>\n",
       "      <td>Op-1</td>\n",
       "    </tr>\n",
       "    <tr>\n",
       "      <th>Item-3</th>\n",
       "      <td>95.37</td>\n",
       "      <td>52.25</td>\n",
       "      <td>21.51</td>\n",
       "      <td>Op-1</td>\n",
       "    </tr>\n",
       "    <tr>\n",
       "      <th>Item-4</th>\n",
       "      <td>94.77</td>\n",
       "      <td>49.24</td>\n",
       "      <td>18.60</td>\n",
       "      <td>Op-1</td>\n",
       "    </tr>\n",
       "    <tr>\n",
       "      <th>Item-5</th>\n",
       "      <td>104.26</td>\n",
       "      <td>47.90</td>\n",
       "      <td>19.46</td>\n",
       "      <td>Op-1</td>\n",
       "    </tr>\n",
       "  </tbody>\n",
       "</table>\n",
       "</div>"
      ]
     },
     "metadata": {},
     "execution_count": 15
    }
   ],
   "metadata": {}
  },
  {
   "cell_type": "code",
   "execution_count": 16,
   "source": [
    "imported_df.tail()"
   ],
   "outputs": [
    {
     "output_type": "execute_result",
     "data": {
      "text/plain": [
       "         Length  Width  Height Operator\n",
       "Item_No                                \n",
       "Item-46  101.21  47.61   21.39     Op-2\n",
       "Item-47  101.09  48.28   20.04     Op-2\n",
       "Item-48   95.61  46.30   20.31     Op-2\n",
       "Item-49  104.45  48.71   19.51     Op-2\n",
       "Item-50   93.28  48.08   19.64     Op-2"
      ],
      "text/html": [
       "<div>\n",
       "<style scoped>\n",
       "    .dataframe tbody tr th:only-of-type {\n",
       "        vertical-align: middle;\n",
       "    }\n",
       "\n",
       "    .dataframe tbody tr th {\n",
       "        vertical-align: top;\n",
       "    }\n",
       "\n",
       "    .dataframe thead th {\n",
       "        text-align: right;\n",
       "    }\n",
       "</style>\n",
       "<table border=\"1\" class=\"dataframe\">\n",
       "  <thead>\n",
       "    <tr style=\"text-align: right;\">\n",
       "      <th></th>\n",
       "      <th>Length</th>\n",
       "      <th>Width</th>\n",
       "      <th>Height</th>\n",
       "      <th>Operator</th>\n",
       "    </tr>\n",
       "    <tr>\n",
       "      <th>Item_No</th>\n",
       "      <th></th>\n",
       "      <th></th>\n",
       "      <th></th>\n",
       "      <th></th>\n",
       "    </tr>\n",
       "  </thead>\n",
       "  <tbody>\n",
       "    <tr>\n",
       "      <th>Item-46</th>\n",
       "      <td>101.21</td>\n",
       "      <td>47.61</td>\n",
       "      <td>21.39</td>\n",
       "      <td>Op-2</td>\n",
       "    </tr>\n",
       "    <tr>\n",
       "      <th>Item-47</th>\n",
       "      <td>101.09</td>\n",
       "      <td>48.28</td>\n",
       "      <td>20.04</td>\n",
       "      <td>Op-2</td>\n",
       "    </tr>\n",
       "    <tr>\n",
       "      <th>Item-48</th>\n",
       "      <td>95.61</td>\n",
       "      <td>46.30</td>\n",
       "      <td>20.31</td>\n",
       "      <td>Op-2</td>\n",
       "    </tr>\n",
       "    <tr>\n",
       "      <th>Item-49</th>\n",
       "      <td>104.45</td>\n",
       "      <td>48.71</td>\n",
       "      <td>19.51</td>\n",
       "      <td>Op-2</td>\n",
       "    </tr>\n",
       "    <tr>\n",
       "      <th>Item-50</th>\n",
       "      <td>93.28</td>\n",
       "      <td>48.08</td>\n",
       "      <td>19.64</td>\n",
       "      <td>Op-2</td>\n",
       "    </tr>\n",
       "  </tbody>\n",
       "</table>\n",
       "</div>"
      ]
     },
     "metadata": {},
     "execution_count": 16
    }
   ],
   "metadata": {}
  },
  {
   "cell_type": "code",
   "execution_count": 17,
   "source": [
    "imported_df.info()"
   ],
   "outputs": [
    {
     "output_type": "stream",
     "name": "stdout",
     "text": [
      "<class 'pandas.core.frame.DataFrame'>\n",
      "Index: 50 entries, Item-1 to Item-50\n",
      "Data columns (total 4 columns):\n",
      " #   Column    Non-Null Count  Dtype  \n",
      "---  ------    --------------  -----  \n",
      " 0   Length    50 non-null     float64\n",
      " 1   Width     50 non-null     float64\n",
      " 2   Height    50 non-null     float64\n",
      " 3   Operator  50 non-null     object \n",
      "dtypes: float64(3), object(1)\n",
      "memory usage: 2.0+ KB\n"
     ]
    }
   ],
   "metadata": {}
  },
  {
   "cell_type": "code",
   "execution_count": 18,
   "source": [
    "imported_df.describe()"
   ],
   "outputs": [
    {
     "output_type": "execute_result",
     "data": {
      "text/plain": [
       "           Length      Width     Height\n",
       "count   50.000000  50.000000  50.000000\n",
       "mean   100.128800  49.461400  20.014000\n",
       "std      5.075593   2.615639   1.074069\n",
       "min     89.820000  44.460000  17.370000\n",
       "25%     95.675000  48.105000  19.375000\n",
       "50%     99.830000  49.315000  19.930000\n",
       "75%    104.402500  50.780000  20.595000\n",
       "max    110.540000  55.760000  23.110000"
      ],
      "text/html": [
       "<div>\n",
       "<style scoped>\n",
       "    .dataframe tbody tr th:only-of-type {\n",
       "        vertical-align: middle;\n",
       "    }\n",
       "\n",
       "    .dataframe tbody tr th {\n",
       "        vertical-align: top;\n",
       "    }\n",
       "\n",
       "    .dataframe thead th {\n",
       "        text-align: right;\n",
       "    }\n",
       "</style>\n",
       "<table border=\"1\" class=\"dataframe\">\n",
       "  <thead>\n",
       "    <tr style=\"text-align: right;\">\n",
       "      <th></th>\n",
       "      <th>Length</th>\n",
       "      <th>Width</th>\n",
       "      <th>Height</th>\n",
       "    </tr>\n",
       "  </thead>\n",
       "  <tbody>\n",
       "    <tr>\n",
       "      <th>count</th>\n",
       "      <td>50.000000</td>\n",
       "      <td>50.000000</td>\n",
       "      <td>50.000000</td>\n",
       "    </tr>\n",
       "    <tr>\n",
       "      <th>mean</th>\n",
       "      <td>100.128800</td>\n",
       "      <td>49.461400</td>\n",
       "      <td>20.014000</td>\n",
       "    </tr>\n",
       "    <tr>\n",
       "      <th>std</th>\n",
       "      <td>5.075593</td>\n",
       "      <td>2.615639</td>\n",
       "      <td>1.074069</td>\n",
       "    </tr>\n",
       "    <tr>\n",
       "      <th>min</th>\n",
       "      <td>89.820000</td>\n",
       "      <td>44.460000</td>\n",
       "      <td>17.370000</td>\n",
       "    </tr>\n",
       "    <tr>\n",
       "      <th>25%</th>\n",
       "      <td>95.675000</td>\n",
       "      <td>48.105000</td>\n",
       "      <td>19.375000</td>\n",
       "    </tr>\n",
       "    <tr>\n",
       "      <th>50%</th>\n",
       "      <td>99.830000</td>\n",
       "      <td>49.315000</td>\n",
       "      <td>19.930000</td>\n",
       "    </tr>\n",
       "    <tr>\n",
       "      <th>75%</th>\n",
       "      <td>104.402500</td>\n",
       "      <td>50.780000</td>\n",
       "      <td>20.595000</td>\n",
       "    </tr>\n",
       "    <tr>\n",
       "      <th>max</th>\n",
       "      <td>110.540000</td>\n",
       "      <td>55.760000</td>\n",
       "      <td>23.110000</td>\n",
       "    </tr>\n",
       "  </tbody>\n",
       "</table>\n",
       "</div>"
      ]
     },
     "metadata": {},
     "execution_count": 18
    }
   ],
   "metadata": {}
  },
  {
   "cell_type": "markdown",
   "source": [
    "# Dealing With Columns"
   ],
   "metadata": {}
  },
  {
   "cell_type": "code",
   "execution_count": 19,
   "source": [
    "df = imported_df"
   ],
   "outputs": [],
   "metadata": {}
  },
  {
   "cell_type": "code",
   "execution_count": 21,
   "source": [
    "df[\"Length\"].head()"
   ],
   "outputs": [
    {
     "output_type": "execute_result",
     "data": {
      "text/plain": [
       "Item_No\n",
       "Item-1    102.67\n",
       "Item-2    102.50\n",
       "Item-3     95.37\n",
       "Item-4     94.77\n",
       "Item-5    104.26\n",
       "Name: Length, dtype: float64"
      ]
     },
     "metadata": {},
     "execution_count": 21
    }
   ],
   "metadata": {}
  },
  {
   "cell_type": "code",
   "execution_count": 22,
   "source": [
    "df[[\"Length\", \"Width\"]].head()"
   ],
   "outputs": [
    {
     "output_type": "execute_result",
     "data": {
      "text/plain": [
       "         Length  Width\n",
       "Item_No               \n",
       "Item-1   102.67  49.53\n",
       "Item-2   102.50  51.42\n",
       "Item-3    95.37  52.25\n",
       "Item-4    94.77  49.24\n",
       "Item-5   104.26  47.90"
      ],
      "text/html": [
       "<div>\n",
       "<style scoped>\n",
       "    .dataframe tbody tr th:only-of-type {\n",
       "        vertical-align: middle;\n",
       "    }\n",
       "\n",
       "    .dataframe tbody tr th {\n",
       "        vertical-align: top;\n",
       "    }\n",
       "\n",
       "    .dataframe thead th {\n",
       "        text-align: right;\n",
       "    }\n",
       "</style>\n",
       "<table border=\"1\" class=\"dataframe\">\n",
       "  <thead>\n",
       "    <tr style=\"text-align: right;\">\n",
       "      <th></th>\n",
       "      <th>Length</th>\n",
       "      <th>Width</th>\n",
       "    </tr>\n",
       "    <tr>\n",
       "      <th>Item_No</th>\n",
       "      <th></th>\n",
       "      <th></th>\n",
       "    </tr>\n",
       "  </thead>\n",
       "  <tbody>\n",
       "    <tr>\n",
       "      <th>Item-1</th>\n",
       "      <td>102.67</td>\n",
       "      <td>49.53</td>\n",
       "    </tr>\n",
       "    <tr>\n",
       "      <th>Item-2</th>\n",
       "      <td>102.50</td>\n",
       "      <td>51.42</td>\n",
       "    </tr>\n",
       "    <tr>\n",
       "      <th>Item-3</th>\n",
       "      <td>95.37</td>\n",
       "      <td>52.25</td>\n",
       "    </tr>\n",
       "    <tr>\n",
       "      <th>Item-4</th>\n",
       "      <td>94.77</td>\n",
       "      <td>49.24</td>\n",
       "    </tr>\n",
       "    <tr>\n",
       "      <th>Item-5</th>\n",
       "      <td>104.26</td>\n",
       "      <td>47.90</td>\n",
       "    </tr>\n",
       "  </tbody>\n",
       "</table>\n",
       "</div>"
      ]
     },
     "metadata": {},
     "execution_count": 22
    }
   ],
   "metadata": {}
  },
  {
   "cell_type": "code",
   "execution_count": 25,
   "source": [
    "df[\"Volume\"] = np.round(df[\"Length\"]*df[\"Width\"]*df[\"Height\"], 2)\n",
    "df[\"Volume\"].head()"
   ],
   "outputs": [
    {
     "output_type": "execute_result",
     "data": {
      "text/plain": [
       "Item_No\n",
       "Item-1    100128.48\n",
       "Item-2    103460.90\n",
       "Item-3    107186.10\n",
       "Item-4     86796.43\n",
       "Item-5     97184.29\n",
       "Name: Volume, dtype: float64"
      ]
     },
     "metadata": {},
     "execution_count": 25
    }
   ],
   "metadata": {}
  },
  {
   "cell_type": "code",
   "execution_count": 27,
   "source": [
    "df = df.drop(\"Volume\", axis=1)\n",
    "df.head()"
   ],
   "outputs": [
    {
     "output_type": "execute_result",
     "data": {
      "text/plain": [
       "         Length  Width  Height Operator\n",
       "Item_No                                \n",
       "Item-1   102.67  49.53   19.69     Op-1\n",
       "Item-2   102.50  51.42   19.63     Op-1\n",
       "Item-3    95.37  52.25   21.51     Op-1\n",
       "Item-4    94.77  49.24   18.60     Op-1\n",
       "Item-5   104.26  47.90   19.46     Op-1"
      ],
      "text/html": [
       "<div>\n",
       "<style scoped>\n",
       "    .dataframe tbody tr th:only-of-type {\n",
       "        vertical-align: middle;\n",
       "    }\n",
       "\n",
       "    .dataframe tbody tr th {\n",
       "        vertical-align: top;\n",
       "    }\n",
       "\n",
       "    .dataframe thead th {\n",
       "        text-align: right;\n",
       "    }\n",
       "</style>\n",
       "<table border=\"1\" class=\"dataframe\">\n",
       "  <thead>\n",
       "    <tr style=\"text-align: right;\">\n",
       "      <th></th>\n",
       "      <th>Length</th>\n",
       "      <th>Width</th>\n",
       "      <th>Height</th>\n",
       "      <th>Operator</th>\n",
       "    </tr>\n",
       "    <tr>\n",
       "      <th>Item_No</th>\n",
       "      <th></th>\n",
       "      <th></th>\n",
       "      <th></th>\n",
       "      <th></th>\n",
       "    </tr>\n",
       "  </thead>\n",
       "  <tbody>\n",
       "    <tr>\n",
       "      <th>Item-1</th>\n",
       "      <td>102.67</td>\n",
       "      <td>49.53</td>\n",
       "      <td>19.69</td>\n",
       "      <td>Op-1</td>\n",
       "    </tr>\n",
       "    <tr>\n",
       "      <th>Item-2</th>\n",
       "      <td>102.50</td>\n",
       "      <td>51.42</td>\n",
       "      <td>19.63</td>\n",
       "      <td>Op-1</td>\n",
       "    </tr>\n",
       "    <tr>\n",
       "      <th>Item-3</th>\n",
       "      <td>95.37</td>\n",
       "      <td>52.25</td>\n",
       "      <td>21.51</td>\n",
       "      <td>Op-1</td>\n",
       "    </tr>\n",
       "    <tr>\n",
       "      <th>Item-4</th>\n",
       "      <td>94.77</td>\n",
       "      <td>49.24</td>\n",
       "      <td>18.60</td>\n",
       "      <td>Op-1</td>\n",
       "    </tr>\n",
       "    <tr>\n",
       "      <th>Item-5</th>\n",
       "      <td>104.26</td>\n",
       "      <td>47.90</td>\n",
       "      <td>19.46</td>\n",
       "      <td>Op-1</td>\n",
       "    </tr>\n",
       "  </tbody>\n",
       "</table>\n",
       "</div>"
      ]
     },
     "metadata": {},
     "execution_count": 27
    }
   ],
   "metadata": {}
  },
  {
   "cell_type": "markdown",
   "source": [
    "# Dealing With Rows"
   ],
   "metadata": {}
  },
  {
   "cell_type": "code",
   "execution_count": 28,
   "source": [
    "df.tail()"
   ],
   "outputs": [
    {
     "output_type": "execute_result",
     "data": {
      "text/plain": [
       "         Length  Width  Height Operator\n",
       "Item_No                                \n",
       "Item-46  101.21  47.61   21.39     Op-2\n",
       "Item-47  101.09  48.28   20.04     Op-2\n",
       "Item-48   95.61  46.30   20.31     Op-2\n",
       "Item-49  104.45  48.71   19.51     Op-2\n",
       "Item-50   93.28  48.08   19.64     Op-2"
      ],
      "text/html": [
       "<div>\n",
       "<style scoped>\n",
       "    .dataframe tbody tr th:only-of-type {\n",
       "        vertical-align: middle;\n",
       "    }\n",
       "\n",
       "    .dataframe tbody tr th {\n",
       "        vertical-align: top;\n",
       "    }\n",
       "\n",
       "    .dataframe thead th {\n",
       "        text-align: right;\n",
       "    }\n",
       "</style>\n",
       "<table border=\"1\" class=\"dataframe\">\n",
       "  <thead>\n",
       "    <tr style=\"text-align: right;\">\n",
       "      <th></th>\n",
       "      <th>Length</th>\n",
       "      <th>Width</th>\n",
       "      <th>Height</th>\n",
       "      <th>Operator</th>\n",
       "    </tr>\n",
       "    <tr>\n",
       "      <th>Item_No</th>\n",
       "      <th></th>\n",
       "      <th></th>\n",
       "      <th></th>\n",
       "      <th></th>\n",
       "    </tr>\n",
       "  </thead>\n",
       "  <tbody>\n",
       "    <tr>\n",
       "      <th>Item-46</th>\n",
       "      <td>101.21</td>\n",
       "      <td>47.61</td>\n",
       "      <td>21.39</td>\n",
       "      <td>Op-2</td>\n",
       "    </tr>\n",
       "    <tr>\n",
       "      <th>Item-47</th>\n",
       "      <td>101.09</td>\n",
       "      <td>48.28</td>\n",
       "      <td>20.04</td>\n",
       "      <td>Op-2</td>\n",
       "    </tr>\n",
       "    <tr>\n",
       "      <th>Item-48</th>\n",
       "      <td>95.61</td>\n",
       "      <td>46.30</td>\n",
       "      <td>20.31</td>\n",
       "      <td>Op-2</td>\n",
       "    </tr>\n",
       "    <tr>\n",
       "      <th>Item-49</th>\n",
       "      <td>104.45</td>\n",
       "      <td>48.71</td>\n",
       "      <td>19.51</td>\n",
       "      <td>Op-2</td>\n",
       "    </tr>\n",
       "    <tr>\n",
       "      <th>Item-50</th>\n",
       "      <td>93.28</td>\n",
       "      <td>48.08</td>\n",
       "      <td>19.64</td>\n",
       "      <td>Op-2</td>\n",
       "    </tr>\n",
       "  </tbody>\n",
       "</table>\n",
       "</div>"
      ]
     },
     "metadata": {},
     "execution_count": 28
    }
   ],
   "metadata": {}
  },
  {
   "cell_type": "code",
   "execution_count": 29,
   "source": [
    "df.loc[\"Item-1\"]"
   ],
   "outputs": [
    {
     "output_type": "execute_result",
     "data": {
      "text/plain": [
       "Length      102.67\n",
       "Width        49.53\n",
       "Height       19.69\n",
       "Operator      Op-1\n",
       "Name: Item-1, dtype: object"
      ]
     },
     "metadata": {},
     "execution_count": 29
    }
   ],
   "metadata": {}
  },
  {
   "cell_type": "code",
   "execution_count": 32,
   "source": [
    "df.loc[[\"Item-1\", \"Item-2\"], [\"Length\", \"Width\"]]"
   ],
   "outputs": [
    {
     "output_type": "execute_result",
     "data": {
      "text/plain": [
       "         Length  Width\n",
       "Item_No               \n",
       "Item-1   102.67  49.53\n",
       "Item-2   102.50  51.42"
      ],
      "text/html": [
       "<div>\n",
       "<style scoped>\n",
       "    .dataframe tbody tr th:only-of-type {\n",
       "        vertical-align: middle;\n",
       "    }\n",
       "\n",
       "    .dataframe tbody tr th {\n",
       "        vertical-align: top;\n",
       "    }\n",
       "\n",
       "    .dataframe thead th {\n",
       "        text-align: right;\n",
       "    }\n",
       "</style>\n",
       "<table border=\"1\" class=\"dataframe\">\n",
       "  <thead>\n",
       "    <tr style=\"text-align: right;\">\n",
       "      <th></th>\n",
       "      <th>Length</th>\n",
       "      <th>Width</th>\n",
       "    </tr>\n",
       "    <tr>\n",
       "      <th>Item_No</th>\n",
       "      <th></th>\n",
       "      <th></th>\n",
       "    </tr>\n",
       "  </thead>\n",
       "  <tbody>\n",
       "    <tr>\n",
       "      <th>Item-1</th>\n",
       "      <td>102.67</td>\n",
       "      <td>49.53</td>\n",
       "    </tr>\n",
       "    <tr>\n",
       "      <th>Item-2</th>\n",
       "      <td>102.50</td>\n",
       "      <td>51.42</td>\n",
       "    </tr>\n",
       "  </tbody>\n",
       "</table>\n",
       "</div>"
      ]
     },
     "metadata": {},
     "execution_count": 32
    }
   ],
   "metadata": {}
  },
  {
   "cell_type": "code",
   "execution_count": 38,
   "source": [
    "df.iloc[[0, 1], [0, 1]]"
   ],
   "outputs": [
    {
     "output_type": "execute_result",
     "data": {
      "text/plain": [
       "         Length  Width\n",
       "Item_No               \n",
       "Item-1   102.67  49.53\n",
       "Item-2   102.50  51.42"
      ],
      "text/html": [
       "<div>\n",
       "<style scoped>\n",
       "    .dataframe tbody tr th:only-of-type {\n",
       "        vertical-align: middle;\n",
       "    }\n",
       "\n",
       "    .dataframe tbody tr th {\n",
       "        vertical-align: top;\n",
       "    }\n",
       "\n",
       "    .dataframe thead th {\n",
       "        text-align: right;\n",
       "    }\n",
       "</style>\n",
       "<table border=\"1\" class=\"dataframe\">\n",
       "  <thead>\n",
       "    <tr style=\"text-align: right;\">\n",
       "      <th></th>\n",
       "      <th>Length</th>\n",
       "      <th>Width</th>\n",
       "    </tr>\n",
       "    <tr>\n",
       "      <th>Item_No</th>\n",
       "      <th></th>\n",
       "      <th></th>\n",
       "    </tr>\n",
       "  </thead>\n",
       "  <tbody>\n",
       "    <tr>\n",
       "      <th>Item-1</th>\n",
       "      <td>102.67</td>\n",
       "      <td>49.53</td>\n",
       "    </tr>\n",
       "    <tr>\n",
       "      <th>Item-2</th>\n",
       "      <td>102.50</td>\n",
       "      <td>51.42</td>\n",
       "    </tr>\n",
       "  </tbody>\n",
       "</table>\n",
       "</div>"
      ]
     },
     "metadata": {},
     "execution_count": 38
    }
   ],
   "metadata": {}
  },
  {
   "cell_type": "code",
   "execution_count": 40,
   "source": [
    "df.iloc[:5, [0, 1]]"
   ],
   "outputs": [
    {
     "output_type": "execute_result",
     "data": {
      "text/plain": [
       "         Length  Width\n",
       "Item_No               \n",
       "Item-1   102.67  49.53\n",
       "Item-2   102.50  51.42\n",
       "Item-3    95.37  52.25\n",
       "Item-4    94.77  49.24\n",
       "Item-5   104.26  47.90"
      ],
      "text/html": [
       "<div>\n",
       "<style scoped>\n",
       "    .dataframe tbody tr th:only-of-type {\n",
       "        vertical-align: middle;\n",
       "    }\n",
       "\n",
       "    .dataframe tbody tr th {\n",
       "        vertical-align: top;\n",
       "    }\n",
       "\n",
       "    .dataframe thead th {\n",
       "        text-align: right;\n",
       "    }\n",
       "</style>\n",
       "<table border=\"1\" class=\"dataframe\">\n",
       "  <thead>\n",
       "    <tr style=\"text-align: right;\">\n",
       "      <th></th>\n",
       "      <th>Length</th>\n",
       "      <th>Width</th>\n",
       "    </tr>\n",
       "    <tr>\n",
       "      <th>Item_No</th>\n",
       "      <th></th>\n",
       "      <th></th>\n",
       "    </tr>\n",
       "  </thead>\n",
       "  <tbody>\n",
       "    <tr>\n",
       "      <th>Item-1</th>\n",
       "      <td>102.67</td>\n",
       "      <td>49.53</td>\n",
       "    </tr>\n",
       "    <tr>\n",
       "      <th>Item-2</th>\n",
       "      <td>102.50</td>\n",
       "      <td>51.42</td>\n",
       "    </tr>\n",
       "    <tr>\n",
       "      <th>Item-3</th>\n",
       "      <td>95.37</td>\n",
       "      <td>52.25</td>\n",
       "    </tr>\n",
       "    <tr>\n",
       "      <th>Item-4</th>\n",
       "      <td>94.77</td>\n",
       "      <td>49.24</td>\n",
       "    </tr>\n",
       "    <tr>\n",
       "      <th>Item-5</th>\n",
       "      <td>104.26</td>\n",
       "      <td>47.90</td>\n",
       "    </tr>\n",
       "  </tbody>\n",
       "</table>\n",
       "</div>"
      ]
     },
     "metadata": {},
     "execution_count": 40
    }
   ],
   "metadata": {}
  },
  {
   "cell_type": "code",
   "execution_count": 44,
   "source": [
    "op1 = df[df[\"Operator\"] == \"Op-1\"]\n",
    "op1"
   ],
   "outputs": [
    {
     "output_type": "execute_result",
     "data": {
      "text/plain": [
       "         Length  Width  Height Operator\n",
       "Item_No                                \n",
       "Item-1   102.67  49.53   19.69     Op-1\n",
       "Item-2   102.50  51.42   19.63     Op-1\n",
       "Item-3    95.37  52.25   21.51     Op-1\n",
       "Item-4    94.77  49.24   18.60     Op-1\n",
       "Item-5   104.26  47.90   19.46     Op-1\n",
       "Item-6   105.18  49.39   20.36     Op-1\n",
       "Item-7    97.35  48.05   20.22     Op-1\n",
       "Item-8    99.35  44.59   21.03     Op-1\n",
       "Item-9    90.62  47.29   19.78     Op-1\n",
       "Item-10   97.22  52.14   20.71     Op-1\n",
       "Item-11  100.00  54.76   20.62     Op-1\n",
       "Item-12   97.23  48.26   19.51     Op-1\n",
       "Item-13  105.72  50.04   20.06     Op-1\n",
       "Item-14   89.82  45.98   20.30     Op-1\n",
       "Item-15   99.17  53.54   20.25     Op-1\n",
       "Item-16   95.51  45.36   20.52     Op-1\n",
       "Item-17  107.69  48.18   19.33     Op-1\n",
       "Item-18  106.83  50.81   19.12     Op-1\n",
       "Item-19   98.73  55.76   19.37     Op-1\n",
       "Item-20   94.31  48.74   18.80     Op-1\n",
       "Item-21  104.87  49.73   19.94     Op-1\n",
       "Item-22   98.06  48.39   19.79     Op-1\n",
       "Item-23  108.45  44.46   22.31     Op-1\n",
       "Item-24   95.34  46.03   20.17     Op-1\n",
       "Item-25   97.66  50.69   19.54     Op-1"
      ],
      "text/html": [
       "<div>\n",
       "<style scoped>\n",
       "    .dataframe tbody tr th:only-of-type {\n",
       "        vertical-align: middle;\n",
       "    }\n",
       "\n",
       "    .dataframe tbody tr th {\n",
       "        vertical-align: top;\n",
       "    }\n",
       "\n",
       "    .dataframe thead th {\n",
       "        text-align: right;\n",
       "    }\n",
       "</style>\n",
       "<table border=\"1\" class=\"dataframe\">\n",
       "  <thead>\n",
       "    <tr style=\"text-align: right;\">\n",
       "      <th></th>\n",
       "      <th>Length</th>\n",
       "      <th>Width</th>\n",
       "      <th>Height</th>\n",
       "      <th>Operator</th>\n",
       "    </tr>\n",
       "    <tr>\n",
       "      <th>Item_No</th>\n",
       "      <th></th>\n",
       "      <th></th>\n",
       "      <th></th>\n",
       "      <th></th>\n",
       "    </tr>\n",
       "  </thead>\n",
       "  <tbody>\n",
       "    <tr>\n",
       "      <th>Item-1</th>\n",
       "      <td>102.67</td>\n",
       "      <td>49.53</td>\n",
       "      <td>19.69</td>\n",
       "      <td>Op-1</td>\n",
       "    </tr>\n",
       "    <tr>\n",
       "      <th>Item-2</th>\n",
       "      <td>102.50</td>\n",
       "      <td>51.42</td>\n",
       "      <td>19.63</td>\n",
       "      <td>Op-1</td>\n",
       "    </tr>\n",
       "    <tr>\n",
       "      <th>Item-3</th>\n",
       "      <td>95.37</td>\n",
       "      <td>52.25</td>\n",
       "      <td>21.51</td>\n",
       "      <td>Op-1</td>\n",
       "    </tr>\n",
       "    <tr>\n",
       "      <th>Item-4</th>\n",
       "      <td>94.77</td>\n",
       "      <td>49.24</td>\n",
       "      <td>18.60</td>\n",
       "      <td>Op-1</td>\n",
       "    </tr>\n",
       "    <tr>\n",
       "      <th>Item-5</th>\n",
       "      <td>104.26</td>\n",
       "      <td>47.90</td>\n",
       "      <td>19.46</td>\n",
       "      <td>Op-1</td>\n",
       "    </tr>\n",
       "    <tr>\n",
       "      <th>Item-6</th>\n",
       "      <td>105.18</td>\n",
       "      <td>49.39</td>\n",
       "      <td>20.36</td>\n",
       "      <td>Op-1</td>\n",
       "    </tr>\n",
       "    <tr>\n",
       "      <th>Item-7</th>\n",
       "      <td>97.35</td>\n",
       "      <td>48.05</td>\n",
       "      <td>20.22</td>\n",
       "      <td>Op-1</td>\n",
       "    </tr>\n",
       "    <tr>\n",
       "      <th>Item-8</th>\n",
       "      <td>99.35</td>\n",
       "      <td>44.59</td>\n",
       "      <td>21.03</td>\n",
       "      <td>Op-1</td>\n",
       "    </tr>\n",
       "    <tr>\n",
       "      <th>Item-9</th>\n",
       "      <td>90.62</td>\n",
       "      <td>47.29</td>\n",
       "      <td>19.78</td>\n",
       "      <td>Op-1</td>\n",
       "    </tr>\n",
       "    <tr>\n",
       "      <th>Item-10</th>\n",
       "      <td>97.22</td>\n",
       "      <td>52.14</td>\n",
       "      <td>20.71</td>\n",
       "      <td>Op-1</td>\n",
       "    </tr>\n",
       "    <tr>\n",
       "      <th>Item-11</th>\n",
       "      <td>100.00</td>\n",
       "      <td>54.76</td>\n",
       "      <td>20.62</td>\n",
       "      <td>Op-1</td>\n",
       "    </tr>\n",
       "    <tr>\n",
       "      <th>Item-12</th>\n",
       "      <td>97.23</td>\n",
       "      <td>48.26</td>\n",
       "      <td>19.51</td>\n",
       "      <td>Op-1</td>\n",
       "    </tr>\n",
       "    <tr>\n",
       "      <th>Item-13</th>\n",
       "      <td>105.72</td>\n",
       "      <td>50.04</td>\n",
       "      <td>20.06</td>\n",
       "      <td>Op-1</td>\n",
       "    </tr>\n",
       "    <tr>\n",
       "      <th>Item-14</th>\n",
       "      <td>89.82</td>\n",
       "      <td>45.98</td>\n",
       "      <td>20.30</td>\n",
       "      <td>Op-1</td>\n",
       "    </tr>\n",
       "    <tr>\n",
       "      <th>Item-15</th>\n",
       "      <td>99.17</td>\n",
       "      <td>53.54</td>\n",
       "      <td>20.25</td>\n",
       "      <td>Op-1</td>\n",
       "    </tr>\n",
       "    <tr>\n",
       "      <th>Item-16</th>\n",
       "      <td>95.51</td>\n",
       "      <td>45.36</td>\n",
       "      <td>20.52</td>\n",
       "      <td>Op-1</td>\n",
       "    </tr>\n",
       "    <tr>\n",
       "      <th>Item-17</th>\n",
       "      <td>107.69</td>\n",
       "      <td>48.18</td>\n",
       "      <td>19.33</td>\n",
       "      <td>Op-1</td>\n",
       "    </tr>\n",
       "    <tr>\n",
       "      <th>Item-18</th>\n",
       "      <td>106.83</td>\n",
       "      <td>50.81</td>\n",
       "      <td>19.12</td>\n",
       "      <td>Op-1</td>\n",
       "    </tr>\n",
       "    <tr>\n",
       "      <th>Item-19</th>\n",
       "      <td>98.73</td>\n",
       "      <td>55.76</td>\n",
       "      <td>19.37</td>\n",
       "      <td>Op-1</td>\n",
       "    </tr>\n",
       "    <tr>\n",
       "      <th>Item-20</th>\n",
       "      <td>94.31</td>\n",
       "      <td>48.74</td>\n",
       "      <td>18.80</td>\n",
       "      <td>Op-1</td>\n",
       "    </tr>\n",
       "    <tr>\n",
       "      <th>Item-21</th>\n",
       "      <td>104.87</td>\n",
       "      <td>49.73</td>\n",
       "      <td>19.94</td>\n",
       "      <td>Op-1</td>\n",
       "    </tr>\n",
       "    <tr>\n",
       "      <th>Item-22</th>\n",
       "      <td>98.06</td>\n",
       "      <td>48.39</td>\n",
       "      <td>19.79</td>\n",
       "      <td>Op-1</td>\n",
       "    </tr>\n",
       "    <tr>\n",
       "      <th>Item-23</th>\n",
       "      <td>108.45</td>\n",
       "      <td>44.46</td>\n",
       "      <td>22.31</td>\n",
       "      <td>Op-1</td>\n",
       "    </tr>\n",
       "    <tr>\n",
       "      <th>Item-24</th>\n",
       "      <td>95.34</td>\n",
       "      <td>46.03</td>\n",
       "      <td>20.17</td>\n",
       "      <td>Op-1</td>\n",
       "    </tr>\n",
       "    <tr>\n",
       "      <th>Item-25</th>\n",
       "      <td>97.66</td>\n",
       "      <td>50.69</td>\n",
       "      <td>19.54</td>\n",
       "      <td>Op-1</td>\n",
       "    </tr>\n",
       "  </tbody>\n",
       "</table>\n",
       "</div>"
      ]
     },
     "metadata": {},
     "execution_count": 44
    }
   ],
   "metadata": {}
  },
  {
   "cell_type": "code",
   "execution_count": 43,
   "source": [
    "op1.describe()"
   ],
   "outputs": [
    {
     "output_type": "execute_result",
     "data": {
      "text/plain": [
       "           Length      Width     Height\n",
       "count   25.000000  25.000000  25.000000\n",
       "mean    99.547200  49.301200  20.024800\n",
       "std      5.147417   2.955796   0.823514\n",
       "min     89.820000  44.460000  18.600000\n",
       "25%     95.510000  47.900000  19.510000\n",
       "50%     98.730000  49.240000  19.940000\n",
       "75%    104.260000  50.810000  20.360000\n",
       "max    108.450000  55.760000  22.310000"
      ],
      "text/html": [
       "<div>\n",
       "<style scoped>\n",
       "    .dataframe tbody tr th:only-of-type {\n",
       "        vertical-align: middle;\n",
       "    }\n",
       "\n",
       "    .dataframe tbody tr th {\n",
       "        vertical-align: top;\n",
       "    }\n",
       "\n",
       "    .dataframe thead th {\n",
       "        text-align: right;\n",
       "    }\n",
       "</style>\n",
       "<table border=\"1\" class=\"dataframe\">\n",
       "  <thead>\n",
       "    <tr style=\"text-align: right;\">\n",
       "      <th></th>\n",
       "      <th>Length</th>\n",
       "      <th>Width</th>\n",
       "      <th>Height</th>\n",
       "    </tr>\n",
       "  </thead>\n",
       "  <tbody>\n",
       "    <tr>\n",
       "      <th>count</th>\n",
       "      <td>25.000000</td>\n",
       "      <td>25.000000</td>\n",
       "      <td>25.000000</td>\n",
       "    </tr>\n",
       "    <tr>\n",
       "      <th>mean</th>\n",
       "      <td>99.547200</td>\n",
       "      <td>49.301200</td>\n",
       "      <td>20.024800</td>\n",
       "    </tr>\n",
       "    <tr>\n",
       "      <th>std</th>\n",
       "      <td>5.147417</td>\n",
       "      <td>2.955796</td>\n",
       "      <td>0.823514</td>\n",
       "    </tr>\n",
       "    <tr>\n",
       "      <th>min</th>\n",
       "      <td>89.820000</td>\n",
       "      <td>44.460000</td>\n",
       "      <td>18.600000</td>\n",
       "    </tr>\n",
       "    <tr>\n",
       "      <th>25%</th>\n",
       "      <td>95.510000</td>\n",
       "      <td>47.900000</td>\n",
       "      <td>19.510000</td>\n",
       "    </tr>\n",
       "    <tr>\n",
       "      <th>50%</th>\n",
       "      <td>98.730000</td>\n",
       "      <td>49.240000</td>\n",
       "      <td>19.940000</td>\n",
       "    </tr>\n",
       "    <tr>\n",
       "      <th>75%</th>\n",
       "      <td>104.260000</td>\n",
       "      <td>50.810000</td>\n",
       "      <td>20.360000</td>\n",
       "    </tr>\n",
       "    <tr>\n",
       "      <th>max</th>\n",
       "      <td>108.450000</td>\n",
       "      <td>55.760000</td>\n",
       "      <td>22.310000</td>\n",
       "    </tr>\n",
       "  </tbody>\n",
       "</table>\n",
       "</div>"
      ]
     },
     "metadata": {},
     "execution_count": 43
    }
   ],
   "metadata": {}
  },
  {
   "cell_type": "code",
   "execution_count": 47,
   "source": [
    "op1[(op1[\"Length\"] > 105) & (op1[\"Width\"] > 50)]"
   ],
   "outputs": [
    {
     "output_type": "execute_result",
     "data": {
      "text/plain": [
       "         Length  Width  Height Operator\n",
       "Item_No                                \n",
       "Item-13  105.72  50.04   20.06     Op-1\n",
       "Item-18  106.83  50.81   19.12     Op-1"
      ],
      "text/html": [
       "<div>\n",
       "<style scoped>\n",
       "    .dataframe tbody tr th:only-of-type {\n",
       "        vertical-align: middle;\n",
       "    }\n",
       "\n",
       "    .dataframe tbody tr th {\n",
       "        vertical-align: top;\n",
       "    }\n",
       "\n",
       "    .dataframe thead th {\n",
       "        text-align: right;\n",
       "    }\n",
       "</style>\n",
       "<table border=\"1\" class=\"dataframe\">\n",
       "  <thead>\n",
       "    <tr style=\"text-align: right;\">\n",
       "      <th></th>\n",
       "      <th>Length</th>\n",
       "      <th>Width</th>\n",
       "      <th>Height</th>\n",
       "      <th>Operator</th>\n",
       "    </tr>\n",
       "    <tr>\n",
       "      <th>Item_No</th>\n",
       "      <th></th>\n",
       "      <th></th>\n",
       "      <th></th>\n",
       "      <th></th>\n",
       "    </tr>\n",
       "  </thead>\n",
       "  <tbody>\n",
       "    <tr>\n",
       "      <th>Item-13</th>\n",
       "      <td>105.72</td>\n",
       "      <td>50.04</td>\n",
       "      <td>20.06</td>\n",
       "      <td>Op-1</td>\n",
       "    </tr>\n",
       "    <tr>\n",
       "      <th>Item-18</th>\n",
       "      <td>106.83</td>\n",
       "      <td>50.81</td>\n",
       "      <td>19.12</td>\n",
       "      <td>Op-1</td>\n",
       "    </tr>\n",
       "  </tbody>\n",
       "</table>\n",
       "</div>"
      ]
     },
     "metadata": {},
     "execution_count": 47
    }
   ],
   "metadata": {}
  },
  {
   "cell_type": "code",
   "execution_count": 48,
   "source": [
    "op1[(op1[\"Length\"] > 107) | (op1[\"Width\"] > 53)]"
   ],
   "outputs": [
    {
     "output_type": "execute_result",
     "data": {
      "text/plain": [
       "         Length  Width  Height Operator\n",
       "Item_No                                \n",
       "Item-11  100.00  54.76   20.62     Op-1\n",
       "Item-15   99.17  53.54   20.25     Op-1\n",
       "Item-17  107.69  48.18   19.33     Op-1\n",
       "Item-19   98.73  55.76   19.37     Op-1\n",
       "Item-23  108.45  44.46   22.31     Op-1"
      ],
      "text/html": [
       "<div>\n",
       "<style scoped>\n",
       "    .dataframe tbody tr th:only-of-type {\n",
       "        vertical-align: middle;\n",
       "    }\n",
       "\n",
       "    .dataframe tbody tr th {\n",
       "        vertical-align: top;\n",
       "    }\n",
       "\n",
       "    .dataframe thead th {\n",
       "        text-align: right;\n",
       "    }\n",
       "</style>\n",
       "<table border=\"1\" class=\"dataframe\">\n",
       "  <thead>\n",
       "    <tr style=\"text-align: right;\">\n",
       "      <th></th>\n",
       "      <th>Length</th>\n",
       "      <th>Width</th>\n",
       "      <th>Height</th>\n",
       "      <th>Operator</th>\n",
       "    </tr>\n",
       "    <tr>\n",
       "      <th>Item_No</th>\n",
       "      <th></th>\n",
       "      <th></th>\n",
       "      <th></th>\n",
       "      <th></th>\n",
       "    </tr>\n",
       "  </thead>\n",
       "  <tbody>\n",
       "    <tr>\n",
       "      <th>Item-11</th>\n",
       "      <td>100.00</td>\n",
       "      <td>54.76</td>\n",
       "      <td>20.62</td>\n",
       "      <td>Op-1</td>\n",
       "    </tr>\n",
       "    <tr>\n",
       "      <th>Item-15</th>\n",
       "      <td>99.17</td>\n",
       "      <td>53.54</td>\n",
       "      <td>20.25</td>\n",
       "      <td>Op-1</td>\n",
       "    </tr>\n",
       "    <tr>\n",
       "      <th>Item-17</th>\n",
       "      <td>107.69</td>\n",
       "      <td>48.18</td>\n",
       "      <td>19.33</td>\n",
       "      <td>Op-1</td>\n",
       "    </tr>\n",
       "    <tr>\n",
       "      <th>Item-19</th>\n",
       "      <td>98.73</td>\n",
       "      <td>55.76</td>\n",
       "      <td>19.37</td>\n",
       "      <td>Op-1</td>\n",
       "    </tr>\n",
       "    <tr>\n",
       "      <th>Item-23</th>\n",
       "      <td>108.45</td>\n",
       "      <td>44.46</td>\n",
       "      <td>22.31</td>\n",
       "      <td>Op-1</td>\n",
       "    </tr>\n",
       "  </tbody>\n",
       "</table>\n",
       "</div>"
      ]
     },
     "metadata": {},
     "execution_count": 48
    }
   ],
   "metadata": {}
  },
  {
   "cell_type": "code",
   "execution_count": null,
   "source": [],
   "outputs": [],
   "metadata": {}
  }
 ],
 "metadata": {
  "orig_nbformat": 4,
  "language_info": {
   "name": "python",
   "version": "3.8.10",
   "mimetype": "text/x-python",
   "codemirror_mode": {
    "name": "ipython",
    "version": 3
   },
   "pygments_lexer": "ipython3",
   "nbconvert_exporter": "python",
   "file_extension": ".py"
  },
  "kernelspec": {
   "name": "python3",
   "display_name": "Python 3.8.10 64-bit"
  },
  "interpreter": {
   "hash": "916dbcbb3f70747c44a77c7bcd40155683ae19c65e1c03b4aa3499c5328201f1"
  }
 },
 "nbformat": 4,
 "nbformat_minor": 2
}
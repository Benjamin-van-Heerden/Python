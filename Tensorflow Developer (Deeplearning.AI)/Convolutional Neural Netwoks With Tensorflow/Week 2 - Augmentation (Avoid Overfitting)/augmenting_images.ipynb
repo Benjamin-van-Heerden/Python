{
 "cells": [
  {
   "cell_type": "code",
   "execution_count": 1,
   "metadata": {
    "collapsed": true
   },
   "outputs": [],
   "source": [
    "import os\n",
    "import tensorflow as tf\n",
    "from tensorflow.keras.optimizers import RMSprop\n",
    "from tensorflow.keras.preprocessing.image import ImageDataGenerator"
   ]
  },
  {
   "cell_type": "code",
   "execution_count": 2,
   "outputs": [],
   "source": [
    "base_dir = '../Week 1 - Larger Datasets/cats_and_dogs_filtered'\n",
    "train_dir = os.path.join(base_dir, 'train')\n",
    "validation_dir = os.path.join(base_dir, 'validation')"
   ],
   "metadata": {
    "collapsed": false,
    "pycharm": {
     "name": "#%%\n"
    }
   }
  },
  {
   "cell_type": "code",
   "execution_count": 3,
   "outputs": [],
   "source": [
    "train_cats_dir = os.path.join(train_dir, 'cats')\n",
    "train_dogs_dir = os.path.join(train_dir, 'dogs')\n",
    "validation_cats_dir = os.path.join(validation_dir, 'cats')\n",
    "validation_dogs_dir = os.path.join(validation_dir, 'dogs')"
   ],
   "metadata": {
    "collapsed": false,
    "pycharm": {
     "name": "#%%\n"
    }
   }
  },
  {
   "cell_type": "code",
   "execution_count": 14,
   "outputs": [
    {
     "name": "stdout",
     "output_type": "stream",
     "text": [
      "Model: \"sequential_1\"\n",
      "_________________________________________________________________\n",
      "Layer (type)                 Output Shape              Param #   \n",
      "=================================================================\n",
      "conv2d_4 (Conv2D)            (None, 148, 148, 32)      896       \n",
      "_________________________________________________________________\n",
      "max_pooling2d_4 (MaxPooling2 (None, 74, 74, 32)        0         \n",
      "_________________________________________________________________\n",
      "conv2d_5 (Conv2D)            (None, 72, 72, 64)        18496     \n",
      "_________________________________________________________________\n",
      "max_pooling2d_5 (MaxPooling2 (None, 36, 36, 64)        0         \n",
      "_________________________________________________________________\n",
      "conv2d_6 (Conv2D)            (None, 34, 34, 128)       73856     \n",
      "_________________________________________________________________\n",
      "max_pooling2d_6 (MaxPooling2 (None, 17, 17, 128)       0         \n",
      "_________________________________________________________________\n",
      "conv2d_7 (Conv2D)            (None, 15, 15, 128)       147584    \n",
      "_________________________________________________________________\n",
      "max_pooling2d_7 (MaxPooling2 (None, 7, 7, 128)         0         \n",
      "_________________________________________________________________\n",
      "flatten_1 (Flatten)          (None, 6272)              0         \n",
      "_________________________________________________________________\n",
      "dense_2 (Dense)              (None, 1024)              6423552   \n",
      "_________________________________________________________________\n",
      "dense_3 (Dense)              (None, 512)               524800    \n",
      "_________________________________________________________________\n",
      "dense_4 (Dense)              (None, 1)                 513       \n",
      "=================================================================\n",
      "Total params: 7,189,697\n",
      "Trainable params: 7,189,697\n",
      "Non-trainable params: 0\n",
      "_________________________________________________________________\n"
     ]
    }
   ],
   "source": [
    "model = tf.keras.models.Sequential([\n",
    "    tf.keras.layers.Conv2D(32, (3, 3), activation='relu', input_shape=(150, 150, 3)),\n",
    "    tf.keras.layers.MaxPooling2D(2, 2),\n",
    "    tf.keras.layers.Conv2D(64, (3, 3), activation='relu'),\n",
    "    tf.keras.layers.MaxPooling2D(2, 2),\n",
    "    tf.keras.layers.Conv2D(128, (3, 3), activation='relu'),\n",
    "    tf.keras.layers.MaxPooling2D(2, 2),\n",
    "    tf.keras.layers.Conv2D(128, (3, 3), activation='relu'),\n",
    "    tf.keras.layers.MaxPooling2D(2, 2),\n",
    "    tf.keras.layers.Flatten(),\n",
    "    tf.keras.layers.Dense(1024, activation='relu'),\n",
    "    tf.keras.layers.Dense(512, activation='relu'),\n",
    "    tf.keras.layers.Dense(1, activation='sigmoid')\n",
    "])\n",
    "\n",
    "model.summary()"
   ],
   "metadata": {
    "collapsed": false,
    "pycharm": {
     "name": "#%%\n"
    }
   }
  },
  {
   "cell_type": "code",
   "execution_count": 15,
   "outputs": [],
   "source": [
    "model.compile(\n",
    "    loss='binary_crossentropy',\n",
    "    optimizer=RMSprop(learning_rate=1e-4),\n",
    "    metrics=['accuracy']\n",
    ")"
   ],
   "metadata": {
    "collapsed": false,
    "pycharm": {
     "name": "#%%\n"
    }
   }
  },
  {
   "cell_type": "code",
   "execution_count": 16,
   "outputs": [],
   "source": [
    "train_datagen = ImageDataGenerator(\n",
    "    rescale=1. / 255,\n",
    "    rotation_range=40,\n",
    "    width_shift_range=0.2,\n",
    "    height_shift_range=0.2,\n",
    "    shear_range=0.2,\n",
    "    zoom_range=0.2,\n",
    "    horizontal_flip=True,\n",
    "    fill_mode='nearest'\n",
    ")\n",
    "\n",
    "test_datagen = ImageDataGenerator(rescale=1. / 255)"
   ],
   "metadata": {
    "collapsed": false,
    "pycharm": {
     "name": "#%%\n"
    }
   }
  },
  {
   "cell_type": "code",
   "execution_count": 17,
   "outputs": [
    {
     "name": "stdout",
     "output_type": "stream",
     "text": [
      "Found 2000 images belonging to 2 classes.\n",
      "Found 1000 images belonging to 2 classes.\n"
     ]
    }
   ],
   "source": [
    "train_generator = train_datagen.flow_from_directory(\n",
    "    train_dir,\n",
    "    target_size=(150, 150),\n",
    "    batch_size=20,\n",
    "    class_mode='binary'\n",
    ")\n",
    "\n",
    "validation_generator = test_datagen.flow_from_directory(\n",
    "    validation_dir,\n",
    "    target_size=(150, 150),\n",
    "    batch_size=20,\n",
    "    class_mode='binary'\n",
    ")"
   ],
   "metadata": {
    "collapsed": false,
    "pycharm": {
     "name": "#%%\n"
    }
   }
  },
  {
   "cell_type": "code",
   "execution_count": 18,
   "outputs": [
    {
     "name": "stdout",
     "output_type": "stream",
     "text": [
      "Epoch 1/60\n",
      "100/100 [==============================] - 34s 334ms/step - loss: 0.6945 - accuracy: 0.5105 - val_loss: 0.6818 - val_accuracy: 0.5160\n",
      "Epoch 2/60\n",
      "100/100 [==============================] - 34s 340ms/step - loss: 0.6836 - accuracy: 0.5660 - val_loss: 0.6704 - val_accuracy: 0.6050\n",
      "Epoch 3/60\n",
      "100/100 [==============================] - 34s 342ms/step - loss: 0.6687 - accuracy: 0.6030 - val_loss: 0.6544 - val_accuracy: 0.6290\n",
      "Epoch 4/60\n",
      "100/100 [==============================] - 34s 341ms/step - loss: 0.6562 - accuracy: 0.6185 - val_loss: 0.6294 - val_accuracy: 0.6490\n",
      "Epoch 5/60\n",
      "100/100 [==============================] - 34s 340ms/step - loss: 0.6451 - accuracy: 0.6325 - val_loss: 0.6061 - val_accuracy: 0.6680\n",
      "Epoch 6/60\n",
      "100/100 [==============================] - 34s 339ms/step - loss: 0.6317 - accuracy: 0.6375 - val_loss: 0.6260 - val_accuracy: 0.6260\n",
      "Epoch 7/60\n",
      "100/100 [==============================] - 34s 341ms/step - loss: 0.6154 - accuracy: 0.6615 - val_loss: 0.5891 - val_accuracy: 0.6760\n",
      "Epoch 8/60\n",
      "100/100 [==============================] - 34s 340ms/step - loss: 0.5987 - accuracy: 0.6800 - val_loss: 0.6243 - val_accuracy: 0.6440\n",
      "Epoch 9/60\n",
      "100/100 [==============================] - 34s 342ms/step - loss: 0.6028 - accuracy: 0.6655 - val_loss: 0.5810 - val_accuracy: 0.6780\n",
      "Epoch 10/60\n",
      "100/100 [==============================] - 34s 341ms/step - loss: 0.5978 - accuracy: 0.6785 - val_loss: 0.5476 - val_accuracy: 0.7220\n",
      "Epoch 11/60\n",
      "100/100 [==============================] - 34s 343ms/step - loss: 0.5815 - accuracy: 0.6930 - val_loss: 0.5454 - val_accuracy: 0.7060\n",
      "Epoch 12/60\n",
      "100/100 [==============================] - 34s 342ms/step - loss: 0.5739 - accuracy: 0.7050 - val_loss: 0.5364 - val_accuracy: 0.7160\n",
      "Epoch 13/60\n",
      "100/100 [==============================] - 34s 342ms/step - loss: 0.5629 - accuracy: 0.7045 - val_loss: 0.5290 - val_accuracy: 0.7250\n",
      "Epoch 14/60\n",
      "100/100 [==============================] - 34s 342ms/step - loss: 0.5569 - accuracy: 0.7190 - val_loss: 0.5512 - val_accuracy: 0.7120\n",
      "Epoch 15/60\n",
      "100/100 [==============================] - 35s 346ms/step - loss: 0.5611 - accuracy: 0.7050 - val_loss: 0.5088 - val_accuracy: 0.7450\n",
      "Epoch 16/60\n",
      "100/100 [==============================] - 34s 342ms/step - loss: 0.5445 - accuracy: 0.7115 - val_loss: 0.5065 - val_accuracy: 0.7390\n",
      "Epoch 17/60\n",
      "100/100 [==============================] - 34s 338ms/step - loss: 0.5449 - accuracy: 0.7245 - val_loss: 0.5686 - val_accuracy: 0.7030\n",
      "Epoch 18/60\n",
      "100/100 [==============================] - 34s 340ms/step - loss: 0.5413 - accuracy: 0.7295 - val_loss: 0.5015 - val_accuracy: 0.7580\n",
      "Epoch 19/60\n",
      "100/100 [==============================] - 34s 340ms/step - loss: 0.5268 - accuracy: 0.7275 - val_loss: 0.5251 - val_accuracy: 0.7430\n",
      "Epoch 20/60\n",
      "100/100 [==============================] - 34s 341ms/step - loss: 0.5182 - accuracy: 0.7395 - val_loss: 0.5013 - val_accuracy: 0.7500\n",
      "Epoch 21/60\n",
      "100/100 [==============================] - 34s 340ms/step - loss: 0.5174 - accuracy: 0.7465 - val_loss: 0.4857 - val_accuracy: 0.7540\n",
      "Epoch 22/60\n",
      "100/100 [==============================] - 34s 338ms/step - loss: 0.4967 - accuracy: 0.7515 - val_loss: 0.4985 - val_accuracy: 0.7490\n",
      "Epoch 23/60\n",
      "100/100 [==============================] - 34s 338ms/step - loss: 0.5267 - accuracy: 0.7410 - val_loss: 0.5401 - val_accuracy: 0.7160\n",
      "Epoch 24/60\n",
      "100/100 [==============================] - 34s 338ms/step - loss: 0.5016 - accuracy: 0.7490 - val_loss: 0.5135 - val_accuracy: 0.7460\n",
      "Epoch 25/60\n",
      "100/100 [==============================] - 34s 340ms/step - loss: 0.5051 - accuracy: 0.7515 - val_loss: 0.4885 - val_accuracy: 0.7650\n",
      "Epoch 26/60\n",
      "100/100 [==============================] - 34s 337ms/step - loss: 0.4932 - accuracy: 0.7540 - val_loss: 0.4922 - val_accuracy: 0.7550\n",
      "Epoch 27/60\n",
      "100/100 [==============================] - 34s 344ms/step - loss: 0.4859 - accuracy: 0.7630 - val_loss: 0.4917 - val_accuracy: 0.7580\n",
      "Epoch 28/60\n",
      "100/100 [==============================] - 34s 341ms/step - loss: 0.4909 - accuracy: 0.7630 - val_loss: 0.5352 - val_accuracy: 0.7270\n",
      "Epoch 29/60\n",
      "100/100 [==============================] - 34s 337ms/step - loss: 0.4716 - accuracy: 0.7785 - val_loss: 0.5175 - val_accuracy: 0.7590\n",
      "Epoch 30/60\n",
      "100/100 [==============================] - 34s 339ms/step - loss: 0.4709 - accuracy: 0.7780 - val_loss: 0.4924 - val_accuracy: 0.7560\n",
      "Epoch 31/60\n",
      "100/100 [==============================] - 34s 338ms/step - loss: 0.4724 - accuracy: 0.7740 - val_loss: 0.5094 - val_accuracy: 0.7440\n",
      "Epoch 32/60\n",
      "100/100 [==============================] - 34s 336ms/step - loss: 0.4849 - accuracy: 0.7620 - val_loss: 0.4746 - val_accuracy: 0.7720\n",
      "Epoch 33/60\n",
      "100/100 [==============================] - 34s 336ms/step - loss: 0.4683 - accuracy: 0.7760 - val_loss: 0.4821 - val_accuracy: 0.7610\n",
      "Epoch 34/60\n",
      "100/100 [==============================] - 34s 336ms/step - loss: 0.4709 - accuracy: 0.7730 - val_loss: 0.4866 - val_accuracy: 0.7590\n",
      "Epoch 35/60\n",
      "100/100 [==============================] - 34s 335ms/step - loss: 0.4652 - accuracy: 0.7725 - val_loss: 0.5070 - val_accuracy: 0.7460\n",
      "Epoch 36/60\n",
      "100/100 [==============================] - 34s 337ms/step - loss: 0.4568 - accuracy: 0.7775 - val_loss: 0.4791 - val_accuracy: 0.7650\n",
      "Epoch 37/60\n",
      "100/100 [==============================] - 34s 338ms/step - loss: 0.4530 - accuracy: 0.7925 - val_loss: 0.4644 - val_accuracy: 0.7770\n",
      "Epoch 38/60\n",
      "100/100 [==============================] - 34s 337ms/step - loss: 0.4621 - accuracy: 0.7775 - val_loss: 0.4347 - val_accuracy: 0.8030\n",
      "Epoch 39/60\n",
      "100/100 [==============================] - 34s 336ms/step - loss: 0.4628 - accuracy: 0.7790 - val_loss: 0.4445 - val_accuracy: 0.7950\n",
      "Epoch 40/60\n",
      "100/100 [==============================] - 34s 335ms/step - loss: 0.4499 - accuracy: 0.7910 - val_loss: 0.4589 - val_accuracy: 0.7850\n",
      "Epoch 41/60\n",
      "100/100 [==============================] - 34s 336ms/step - loss: 0.4534 - accuracy: 0.7845 - val_loss: 0.4557 - val_accuracy: 0.7750\n",
      "Epoch 42/60\n",
      "100/100 [==============================] - 34s 340ms/step - loss: 0.4412 - accuracy: 0.7895 - val_loss: 0.4562 - val_accuracy: 0.7840\n",
      "Epoch 43/60\n",
      "100/100 [==============================] - 34s 338ms/step - loss: 0.4556 - accuracy: 0.7950 - val_loss: 0.4674 - val_accuracy: 0.7620\n",
      "Epoch 44/60\n",
      "100/100 [==============================] - 33s 334ms/step - loss: 0.4409 - accuracy: 0.7895 - val_loss: 0.4432 - val_accuracy: 0.7820\n",
      "Epoch 45/60\n",
      "100/100 [==============================] - 34s 344ms/step - loss: 0.4380 - accuracy: 0.7990 - val_loss: 0.4902 - val_accuracy: 0.7560\n",
      "Epoch 46/60\n",
      "100/100 [==============================] - 34s 339ms/step - loss: 0.4339 - accuracy: 0.7995 - val_loss: 0.4390 - val_accuracy: 0.8010\n",
      "Epoch 47/60\n",
      "100/100 [==============================] - 34s 340ms/step - loss: 0.4297 - accuracy: 0.7960 - val_loss: 0.4775 - val_accuracy: 0.7580\n",
      "Epoch 48/60\n",
      "100/100 [==============================] - 34s 340ms/step - loss: 0.4386 - accuracy: 0.7965 - val_loss: 0.4682 - val_accuracy: 0.7820\n",
      "Epoch 49/60\n",
      "100/100 [==============================] - 34s 340ms/step - loss: 0.4197 - accuracy: 0.8050 - val_loss: 0.5227 - val_accuracy: 0.7620\n",
      "Epoch 50/60\n",
      "100/100 [==============================] - 34s 338ms/step - loss: 0.4217 - accuracy: 0.8170 - val_loss: 0.4675 - val_accuracy: 0.7940\n",
      "Epoch 51/60\n",
      "100/100 [==============================] - 34s 339ms/step - loss: 0.4271 - accuracy: 0.8005 - val_loss: 0.4227 - val_accuracy: 0.7970\n",
      "Epoch 52/60\n",
      "100/100 [==============================] - 34s 340ms/step - loss: 0.4144 - accuracy: 0.8035 - val_loss: 0.4735 - val_accuracy: 0.7920\n",
      "Epoch 53/60\n",
      "100/100 [==============================] - 34s 341ms/step - loss: 0.4275 - accuracy: 0.8050 - val_loss: 0.4529 - val_accuracy: 0.7830\n",
      "Epoch 54/60\n",
      "100/100 [==============================] - 35s 346ms/step - loss: 0.4106 - accuracy: 0.8070 - val_loss: 0.4330 - val_accuracy: 0.7940\n",
      "Epoch 55/60\n",
      "100/100 [==============================] - 34s 339ms/step - loss: 0.4031 - accuracy: 0.8230 - val_loss: 0.4384 - val_accuracy: 0.7980\n",
      "Epoch 56/60\n",
      "100/100 [==============================] - 38s 375ms/step - loss: 0.3975 - accuracy: 0.8260 - val_loss: 0.5076 - val_accuracy: 0.7620\n",
      "Epoch 57/60\n",
      "100/100 [==============================] - 36s 355ms/step - loss: 0.4064 - accuracy: 0.8050 - val_loss: 0.5472 - val_accuracy: 0.7520\n",
      "Epoch 58/60\n",
      "100/100 [==============================] - 35s 354ms/step - loss: 0.4007 - accuracy: 0.8270 - val_loss: 0.4606 - val_accuracy: 0.8000\n",
      "Epoch 59/60\n",
      "100/100 [==============================] - 35s 354ms/step - loss: 0.4030 - accuracy: 0.8120 - val_loss: 0.4754 - val_accuracy: 0.7950\n",
      "Epoch 60/60\n",
      "100/100 [==============================] - 35s 354ms/step - loss: 0.4042 - accuracy: 0.8210 - val_loss: 0.4647 - val_accuracy: 0.7780\n"
     ]
    }
   ],
   "source": [
    "history = model.fit(\n",
    "    train_generator,\n",
    "    steps_per_epoch=100,  # 2000 images = batch_size * steps\n",
    "    epochs=60,\n",
    "    validation_data=validation_generator,\n",
    "    validation_steps=50  # 1000 images = batch_size * steps\n",
    ")"
   ],
   "metadata": {
    "collapsed": false,
    "pycharm": {
     "name": "#%%\n"
    }
   }
  },
  {
   "cell_type": "code",
   "execution_count": 19,
   "outputs": [
    {
     "data": {
      "text/plain": "<Figure size 432x288 with 1 Axes>",
      "image/png": "[encoded data removed]"
     },
     "metadata": {
      "needs_background": "light"
     },
     "output_type": "display_data"
    },
    {
     "data": {
      "text/plain": "<Figure size 432x288 with 1 Axes>",
      "image/png": "[encoded data removed]"
     },
     "metadata": {
      "needs_background": "light"
     },
     "output_type": "display_data"
    }
   ],
   "source": [
    "import matplotlib.pyplot as plt\n",
    "\n",
    "acc = history.history['accuracy']\n",
    "val_acc = history.history['val_accuracy']\n",
    "loss = history.history['loss']\n",
    "val_loss = history.history['val_loss']\n",
    "\n",
    "epochs = range(len(acc))\n",
    "\n",
    "plt.plot(epochs, acc, 'r', label='Training accuracy')\n",
    "plt.plot(epochs, val_acc, 'b', label='Validation accuracy')\n",
    "plt.title('Training and validation accuracy')\n",
    "\n",
    "plt.figure()\n",
    "\n",
    "plt.plot(epochs, loss, 'r', label='Training Loss')\n",
    "plt.plot(epochs, val_loss, 'b', label='Validation Loss')\n",
    "plt.title('Training and validation loss')\n",
    "plt.legend()\n",
    "\n",
    "plt.show()"
   ],
   "metadata": {
    "collapsed": false,
    "pycharm": {
     "name": "#%%\n"
    }
   }
  },
  {
   "cell_type": "code",
   "execution_count": null,
   "outputs": [],
   "source": [],
   "metadata": {
    "collapsed": false,
    "pycharm": {
     "name": "#%%\n"
    }
   }
  }
 ],
 "metadata": {
  "kernelspec": {
   "display_name": "Python 3",
   "language": "python",
   "name": "python3"
  },
  "language_info": {
   "codemirror_mode": {
    "name": "ipython",
    "version": 2
   },
   "file_extension": ".py",
   "mimetype": "text/x-python",
   "name": "python",
   "nbconvert_exporter": "python",
   "pygments_lexer": "ipython2",
   "version": "2.7.6"
  }
 },
 "nbformat": 4,
 "nbformat_minor": 0
}
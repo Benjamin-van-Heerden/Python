{
 "cells": [
  {
   "cell_type": "code",
   "execution_count": 1,
   "metadata": {
    "collapsed": true
   },
   "outputs": [
    {
     "name": "stderr",
     "output_type": "stream",
     "text": [
      "Downloading...\n",
      "From: https://drive.google.com/uc?id=1xRU3xY5-tkiPGvlz5xBJ18_pHWSRzI4v\n",
      "To: C:\\Users\\benja\\Documents\\Development\\Python\\Tensorflow Developer\\Natural Language Processing\\Week 1 -  Sentiment in Text\\sarcasm.json\n",
      "\n",
      "  0%|          | 0.00/5.64M [00:00<?, ?B/s]\n",
      "  9%|9         | 524k/5.64M [00:00<00:09, 566kB/s]\n",
      " 19%|#8        | 1.05M/5.64M [00:01<00:04, 1.09MB/s]\n",
      " 37%|###7      | 2.10M/5.64M [00:01<00:01, 2.27MB/s]\n",
      " 65%|######5   | 3.67M/5.64M [00:01<00:00, 4.21MB/s]\n",
      " 84%|########3 | 4.72M/5.64M [00:01<00:00, 5.30MB/s]\n",
      "100%|##########| 5.64M/5.64M [00:01<00:00, 3.56MB/s]\n"
     ]
    }
   ],
   "source": [
    "# sarcasm.json\n",
    "# !gdown --id 1xRU3xY5-tkiPGvlz5xBJ18_pHWSRzI4v"
   ]
  },
  {
   "cell_type": "code",
   "execution_count": 1,
   "outputs": [],
   "source": [
    "import json\n",
    "\n",
    "import numpy as np\n",
    "\n",
    "with open(\"sarcasm.json\", \"r\") as f:\n",
    "    datastore = json.load(f)\n",
    "\n",
    "sentences = []\n",
    "labels = []\n",
    "urls = []\n",
    "\n",
    "for item in datastore:\n",
    "    sentences.append(item[\"headline\"])\n",
    "    labels.append(item[\"is_sarcastic\"])\n",
    "    urls.append(item[\"article_link\"])"
   ],
   "metadata": {
    "collapsed": false,
    "pycharm": {
     "name": "#%%\n"
    }
   }
  },
  {
   "cell_type": "code",
   "execution_count": 2,
   "outputs": [
    {
     "name": "stdout",
     "output_type": "stream",
     "text": [
      "[\"former versace store clerk sues over secret 'black code' for minority shoppers\", \"the 'roseanne' revival catches up to our thorny political mood, for better and worse\", \"mom starting to fear son's web series closest thing she will have to grandchild\"]\n",
      "[0, 0, 1]\n"
     ]
    }
   ],
   "source": [
    "print(sentences[:3])\n",
    "print(labels[:3])"
   ],
   "metadata": {
    "collapsed": false,
    "pycharm": {
     "name": "#%%\n"
    }
   }
  },
  {
   "cell_type": "code",
   "execution_count": 3,
   "outputs": [
    {
     "name": "stdout",
     "output_type": "stream",
     "text": [
      "[[  308 15115   679  3337  2298    48   382  2576 15116     6  2577  8434\n",
      "      0     0     0     0     0     0     0     0     0     0     0     0\n",
      "      0     0     0     0     0     0     0     0     0     0     0     0\n",
      "      0     0     0     0]\n",
      " [    4  8435  3338  2746    22     2   166  8436   416  3112     6   258\n",
      "      9  1002     0     0     0     0     0     0     0     0     0     0\n",
      "      0     0     0     0     0     0     0     0     0     0     0     0\n",
      "      0     0     0     0]]\n",
      "(26709, 40)\n"
     ]
    }
   ],
   "source": [
    "from tensorflow.keras.preprocessing.text import Tokenizer\n",
    "from tensorflow.keras.preprocessing.sequence import pad_sequences\n",
    "\n",
    "tokenizer = Tokenizer(oov_token=\"<OOV>\")\n",
    "tokenizer.fit_on_texts(sentences)\n",
    "word_index = tokenizer.word_index\n",
    "\n",
    "sequences = tokenizer.texts_to_sequences(sentences)\n",
    "padded = pad_sequences(sequences, padding=\"post\")\n",
    "\n",
    "print(padded[:2])\n",
    "print(padded.shape)"
   ],
   "metadata": {
    "collapsed": false,
    "pycharm": {
     "name": "#%%\n"
    }
   }
  },
  {
   "cell_type": "code",
   "execution_count": 11,
   "outputs": [
    {
     "name": "stdout",
     "output_type": "stream",
     "text": [
      "Model: \"sequential_2\"\n",
      "_________________________________________________________________\n",
      "Layer (type)                 Output Shape              Param #   \n",
      "=================================================================\n",
      "dense_12 (Dense)             (None, 40)                1640      \n",
      "_________________________________________________________________\n",
      "dense_13 (Dense)             (None, 128)               5248      \n",
      "_________________________________________________________________\n",
      "dropout_1 (Dropout)          (None, 128)               0         \n",
      "_________________________________________________________________\n",
      "dense_14 (Dense)             (None, 128)               16512     \n",
      "_________________________________________________________________\n",
      "dropout_2 (Dropout)          (None, 128)               0         \n",
      "_________________________________________________________________\n",
      "dense_15 (Dense)             (None, 128)               16512     \n",
      "_________________________________________________________________\n",
      "dropout_3 (Dropout)          (None, 128)               0         \n",
      "_________________________________________________________________\n",
      "dense_16 (Dense)             (None, 128)               16512     \n",
      "_________________________________________________________________\n",
      "dropout_4 (Dropout)          (None, 128)               0         \n",
      "_________________________________________________________________\n",
      "dense_17 (Dense)             (None, 1)                 129       \n",
      "=================================================================\n",
      "Total params: 56,553\n",
      "Trainable params: 56,553\n",
      "Non-trainable params: 0\n",
      "_________________________________________________________________\n"
     ]
    }
   ],
   "source": [
    "# neural net\n",
    "import tensorflow as tf\n",
    "\n",
    "model = tf.keras.Sequential([\n",
    "    tf.keras.layers.Dense(len(padded[0]), input_shape=padded[0].shape),\n",
    "    tf.keras.layers.Dense(128, activation=\"relu\"),\n",
    "    tf.keras.layers.Dropout(0.1),\n",
    "    tf.keras.layers.Dense(128, activation=\"relu\"),\n",
    "    tf.keras.layers.Dropout(0.1),\n",
    "    tf.keras.layers.Dense(128, activation=\"relu\"),\n",
    "    tf.keras.layers.Dropout(0.1),\n",
    "    tf.keras.layers.Dense(128, activation=\"relu\"),\n",
    "    tf.keras.layers.Dropout(0.1),\n",
    "    tf.keras.layers.Dense(1, activation=\"sigmoid\")\n",
    "])\n",
    "\n",
    "model.compile(optimizer=tf.keras.optimizers.RMSprop(learning_rate=0.0001), loss=\"binary_crossentropy\",\n",
    "              metrics=[\"accuracy\"])\n",
    "model.summary()"
   ],
   "metadata": {
    "collapsed": false,
    "pycharm": {
     "name": "#%%\n"
    }
   }
  },
  {
   "cell_type": "code",
   "execution_count": 12,
   "outputs": [],
   "source": [
    "from sklearn.model_selection import train_test_split\n",
    "import numpy as np\n",
    "\n",
    "X_train, X_test, y_train, y_test = train_test_split(padded, labels, test_size=0.33, random_state=42)\n",
    "\n",
    "y_train = np.array(y_train)\n",
    "y_test = np.array(y_test)"
   ],
   "metadata": {
    "collapsed": false,
    "pycharm": {
     "name": "#%%\n"
    }
   }
  },
  {
   "cell_type": "code",
   "execution_count": 13,
   "outputs": [
    {
     "name": "stdout",
     "output_type": "stream",
     "text": [
      "Epoch 1/100\n",
      "559/559 [==============================] - 2s 2ms/step - loss: 87.8108 - accuracy: 0.5030 - val_loss: 20.2428 - val_accuracy: 0.5281\n",
      "Epoch 2/100\n",
      "559/559 [==============================] - 1s 2ms/step - loss: 35.1802 - accuracy: 0.5195 - val_loss: 10.9008 - val_accuracy: 0.5312\n",
      "Epoch 3/100\n",
      "559/559 [==============================] - 1s 2ms/step - loss: 20.2163 - accuracy: 0.5143 - val_loss: 6.3369 - val_accuracy: 0.5042\n",
      "Epoch 4/100\n",
      "559/559 [==============================] - 1s 2ms/step - loss: 12.2287 - accuracy: 0.5093 - val_loss: 4.3622 - val_accuracy: 0.5208\n",
      "Epoch 5/100\n",
      "559/559 [==============================] - 1s 2ms/step - loss: 7.8909 - accuracy: 0.5093 - val_loss: 2.6110 - val_accuracy: 0.5104\n",
      "Epoch 6/100\n",
      "559/559 [==============================] - 1s 2ms/step - loss: 4.8008 - accuracy: 0.5051 - val_loss: 1.7617 - val_accuracy: 0.4844\n",
      "Epoch 7/100\n",
      "559/559 [==============================] - 1s 2ms/step - loss: 3.0103 - accuracy: 0.5122 - val_loss: 1.0609 - val_accuracy: 0.5188\n",
      "Epoch 8/100\n",
      "559/559 [==============================] - 1s 2ms/step - loss: 1.9505 - accuracy: 0.5084 - val_loss: 0.8423 - val_accuracy: 0.5167\n",
      "Epoch 9/100\n",
      "559/559 [==============================] - 1s 2ms/step - loss: 1.2393 - accuracy: 0.5203 - val_loss: 0.7165 - val_accuracy: 0.5542\n",
      "Epoch 10/100\n",
      "559/559 [==============================] - 1s 2ms/step - loss: 0.9271 - accuracy: 0.5290 - val_loss: 0.6896 - val_accuracy: 0.5500\n",
      "Epoch 11/100\n",
      "559/559 [==============================] - 1s 2ms/step - loss: 0.8164 - accuracy: 0.5415 - val_loss: 0.6878 - val_accuracy: 0.5562\n",
      "Epoch 12/100\n",
      "559/559 [==============================] - 1s 2ms/step - loss: 0.7679 - accuracy: 0.5557 - val_loss: 0.6877 - val_accuracy: 0.5573\n",
      "Epoch 13/100\n",
      "559/559 [==============================] - 1s 2ms/step - loss: 0.7514 - accuracy: 0.5565 - val_loss: 0.6872 - val_accuracy: 0.5594\n",
      "Epoch 14/100\n",
      "559/559 [==============================] - 1s 2ms/step - loss: 0.7330 - accuracy: 0.5570 - val_loss: 0.6862 - val_accuracy: 0.5562\n",
      "Epoch 15/100\n",
      "559/559 [==============================] - 1s 2ms/step - loss: 0.7226 - accuracy: 0.5612 - val_loss: 0.6857 - val_accuracy: 0.5521\n",
      "Epoch 16/100\n",
      "559/559 [==============================] - 1s 2ms/step - loss: 0.7262 - accuracy: 0.5655 - val_loss: 0.6863 - val_accuracy: 0.5531\n",
      "Epoch 17/100\n",
      "559/559 [==============================] - 1s 2ms/step - loss: 0.7183 - accuracy: 0.5626 - val_loss: 0.6854 - val_accuracy: 0.5510\n",
      "Epoch 18/100\n",
      "559/559 [==============================] - 1s 2ms/step - loss: 0.7077 - accuracy: 0.5641 - val_loss: 0.6847 - val_accuracy: 0.5500\n",
      "Epoch 19/100\n",
      "559/559 [==============================] - 1s 2ms/step - loss: 0.7174 - accuracy: 0.5668 - val_loss: 0.6839 - val_accuracy: 0.5562\n",
      "Epoch 20/100\n",
      "559/559 [==============================] - 1s 2ms/step - loss: 0.7100 - accuracy: 0.5668 - val_loss: 0.6848 - val_accuracy: 0.5531\n",
      "Epoch 21/100\n",
      "559/559 [==============================] - 1s 2ms/step - loss: 0.7037 - accuracy: 0.5659 - val_loss: 0.6838 - val_accuracy: 0.5583\n",
      "Epoch 22/100\n",
      "559/559 [==============================] - 1s 2ms/step - loss: 0.6994 - accuracy: 0.5682 - val_loss: 0.6842 - val_accuracy: 0.5500\n",
      "Epoch 23/100\n",
      "559/559 [==============================] - 1s 2ms/step - loss: 0.7023 - accuracy: 0.5627 - val_loss: 0.6836 - val_accuracy: 0.5510\n",
      "Epoch 24/100\n",
      "559/559 [==============================] - 1s 2ms/step - loss: 0.6946 - accuracy: 0.5729 - val_loss: 0.6836 - val_accuracy: 0.5594\n",
      "Epoch 25/100\n",
      "559/559 [==============================] - 1s 2ms/step - loss: 0.7046 - accuracy: 0.5710 - val_loss: 0.6842 - val_accuracy: 0.5552\n",
      "Epoch 26/100\n",
      "559/559 [==============================] - 1s 2ms/step - loss: 0.6984 - accuracy: 0.5730 - val_loss: 0.6824 - val_accuracy: 0.5552\n",
      "Epoch 27/100\n",
      "559/559 [==============================] - 1s 2ms/step - loss: 0.6928 - accuracy: 0.5730 - val_loss: 0.6825 - val_accuracy: 0.5688\n",
      "Epoch 28/100\n",
      "559/559 [==============================] - 1s 2ms/step - loss: 0.6948 - accuracy: 0.5741 - val_loss: 0.6825 - val_accuracy: 0.5760\n",
      "Epoch 29/100\n",
      "559/559 [==============================] - 1s 2ms/step - loss: 0.6977 - accuracy: 0.5732 - val_loss: 0.6832 - val_accuracy: 0.5510\n",
      "Epoch 30/100\n",
      "559/559 [==============================] - 1s 2ms/step - loss: 0.7011 - accuracy: 0.5731 - val_loss: 0.6828 - val_accuracy: 0.5656\n",
      "Epoch 31/100\n",
      "559/559 [==============================] - 1s 2ms/step - loss: 0.6965 - accuracy: 0.5734 - val_loss: 0.6808 - val_accuracy: 0.5615\n",
      "Epoch 32/100\n",
      "559/559 [==============================] - 1s 2ms/step - loss: 0.6983 - accuracy: 0.5769 - val_loss: 0.6814 - val_accuracy: 0.5708\n",
      "Epoch 33/100\n",
      "559/559 [==============================] - 1s 2ms/step - loss: 0.6960 - accuracy: 0.5775 - val_loss: 0.6819 - val_accuracy: 0.5875\n",
      "Epoch 34/100\n",
      "559/559 [==============================] - 1s 2ms/step - loss: 0.6953 - accuracy: 0.5732 - val_loss: 0.6811 - val_accuracy: 0.5656\n",
      "Epoch 35/100\n",
      "559/559 [==============================] - 1s 2ms/step - loss: 0.6993 - accuracy: 0.5746 - val_loss: 0.6815 - val_accuracy: 0.5604\n",
      "Epoch 36/100\n",
      "559/559 [==============================] - 1s 2ms/step - loss: 0.6936 - accuracy: 0.5783 - val_loss: 0.6835 - val_accuracy: 0.5562\n",
      "Epoch 37/100\n",
      "559/559 [==============================] - 1s 2ms/step - loss: 0.6925 - accuracy: 0.5804 - val_loss: 0.6828 - val_accuracy: 0.5573\n",
      "Epoch 38/100\n",
      "559/559 [==============================] - 1s 2ms/step - loss: 0.6950 - accuracy: 0.5771 - val_loss: 0.6814 - val_accuracy: 0.5677\n",
      "Epoch 39/100\n",
      "559/559 [==============================] - 1s 2ms/step - loss: 0.6927 - accuracy: 0.5755 - val_loss: 0.6814 - val_accuracy: 0.5573\n",
      "Epoch 40/100\n",
      "559/559 [==============================] - 1s 2ms/step - loss: 0.6949 - accuracy: 0.5811 - val_loss: 0.6848 - val_accuracy: 0.5573\n",
      "Epoch 41/100\n",
      "559/559 [==============================] - 1s 2ms/step - loss: 0.6954 - accuracy: 0.5790 - val_loss: 0.6825 - val_accuracy: 0.5854\n",
      "Epoch 42/100\n",
      "559/559 [==============================] - 1s 2ms/step - loss: 0.6945 - accuracy: 0.5735 - val_loss: 0.6821 - val_accuracy: 0.5792\n",
      "Epoch 43/100\n",
      "559/559 [==============================] - 1s 2ms/step - loss: 0.6919 - accuracy: 0.5788 - val_loss: 0.6843 - val_accuracy: 0.5635\n",
      "Epoch 44/100\n",
      "559/559 [==============================] - 1s 2ms/step - loss: 0.6881 - accuracy: 0.5829 - val_loss: 0.6814 - val_accuracy: 0.5677\n",
      "Epoch 45/100\n",
      "559/559 [==============================] - 1s 2ms/step - loss: 0.7003 - accuracy: 0.5799 - val_loss: 0.6853 - val_accuracy: 0.5740\n",
      "Epoch 46/100\n",
      "559/559 [==============================] - 1s 2ms/step - loss: 0.6927 - accuracy: 0.5808 - val_loss: 0.6815 - val_accuracy: 0.5708\n",
      "Epoch 47/100\n",
      "559/559 [==============================] - 1s 2ms/step - loss: 0.6926 - accuracy: 0.5837 - val_loss: 0.6892 - val_accuracy: 0.5573\n",
      "Epoch 48/100\n",
      "559/559 [==============================] - 1s 2ms/step - loss: 0.6940 - accuracy: 0.5816 - val_loss: 0.6846 - val_accuracy: 0.5667\n",
      "Epoch 49/100\n",
      "559/559 [==============================] - 1s 2ms/step - loss: 0.6881 - accuracy: 0.5848 - val_loss: 0.6831 - val_accuracy: 0.5594\n",
      "Epoch 50/100\n",
      "559/559 [==============================] - 1s 2ms/step - loss: 0.6902 - accuracy: 0.5764 - val_loss: 0.6827 - val_accuracy: 0.5677\n",
      "Epoch 51/100\n",
      "559/559 [==============================] - 1s 2ms/step - loss: 0.7027 - accuracy: 0.5814 - val_loss: 0.6810 - val_accuracy: 0.5646\n",
      "Epoch 52/100\n",
      "559/559 [==============================] - 1s 2ms/step - loss: 0.6939 - accuracy: 0.5816 - val_loss: 0.6883 - val_accuracy: 0.5635\n",
      "Epoch 53/100\n",
      "559/559 [==============================] - 1s 2ms/step - loss: 0.6891 - accuracy: 0.5848 - val_loss: 0.6793 - val_accuracy: 0.5750\n",
      "Epoch 54/100\n",
      "559/559 [==============================] - 1s 2ms/step - loss: 0.6976 - accuracy: 0.5858 - val_loss: 0.6792 - val_accuracy: 0.5719\n",
      "Epoch 55/100\n",
      "559/559 [==============================] - 1s 2ms/step - loss: 0.6933 - accuracy: 0.5865 - val_loss: 0.6795 - val_accuracy: 0.5698\n",
      "Epoch 56/100\n",
      "559/559 [==============================] - 1s 2ms/step - loss: 0.6879 - accuracy: 0.5809 - val_loss: 0.6788 - val_accuracy: 0.5677\n",
      "Epoch 57/100\n",
      "559/559 [==============================] - 1s 2ms/step - loss: 0.6892 - accuracy: 0.5880 - val_loss: 0.6902 - val_accuracy: 0.5635\n",
      "Epoch 58/100\n",
      "559/559 [==============================] - 1s 2ms/step - loss: 0.6924 - accuracy: 0.5848 - val_loss: 0.6781 - val_accuracy: 0.5688\n",
      "Epoch 59/100\n",
      "559/559 [==============================] - 1s 2ms/step - loss: 0.6842 - accuracy: 0.5834 - val_loss: 0.6794 - val_accuracy: 0.5656\n",
      "Epoch 60/100\n",
      "559/559 [==============================] - 1s 2ms/step - loss: 0.6910 - accuracy: 0.5782 - val_loss: 0.6799 - val_accuracy: 0.5698\n",
      "Epoch 61/100\n",
      "559/559 [==============================] - 1s 2ms/step - loss: 0.6910 - accuracy: 0.5876 - val_loss: 0.6807 - val_accuracy: 0.5677\n",
      "Epoch 62/100\n",
      "559/559 [==============================] - 1s 2ms/step - loss: 0.6881 - accuracy: 0.5846 - val_loss: 0.6775 - val_accuracy: 0.5740\n",
      "Epoch 63/100\n",
      "559/559 [==============================] - 1s 2ms/step - loss: 0.6940 - accuracy: 0.5851 - val_loss: 0.6836 - val_accuracy: 0.5594\n",
      "Epoch 64/100\n",
      "559/559 [==============================] - 1s 2ms/step - loss: 0.6910 - accuracy: 0.5851 - val_loss: 0.6799 - val_accuracy: 0.5792\n",
      "Epoch 65/100\n",
      "559/559 [==============================] - 1s 2ms/step - loss: 0.6946 - accuracy: 0.5862 - val_loss: 0.6788 - val_accuracy: 0.5677\n",
      "Epoch 66/100\n",
      "559/559 [==============================] - 1s 2ms/step - loss: 0.6883 - accuracy: 0.5887 - val_loss: 0.6820 - val_accuracy: 0.5594\n",
      "Epoch 67/100\n",
      "559/559 [==============================] - 1s 2ms/step - loss: 0.6937 - accuracy: 0.5826 - val_loss: 0.6774 - val_accuracy: 0.5719\n",
      "Epoch 68/100\n",
      "559/559 [==============================] - 1s 2ms/step - loss: 0.6848 - accuracy: 0.5857 - val_loss: 0.6791 - val_accuracy: 0.5625\n",
      "Epoch 69/100\n",
      "559/559 [==============================] - 1s 2ms/step - loss: 0.6903 - accuracy: 0.5878 - val_loss: 0.6797 - val_accuracy: 0.5656\n",
      "Epoch 70/100\n",
      "559/559 [==============================] - 1s 2ms/step - loss: 0.6835 - accuracy: 0.5879 - val_loss: 0.6794 - val_accuracy: 0.5646\n",
      "Epoch 71/100\n",
      "559/559 [==============================] - 1s 2ms/step - loss: 0.6960 - accuracy: 0.5891 - val_loss: 0.6792 - val_accuracy: 0.5625\n",
      "Epoch 72/100\n",
      "559/559 [==============================] - 1s 2ms/step - loss: 0.6954 - accuracy: 0.5875 - val_loss: 0.6782 - val_accuracy: 0.5688\n",
      "Epoch 73/100\n",
      "559/559 [==============================] - 1s 2ms/step - loss: 0.6963 - accuracy: 0.5882 - val_loss: 0.6794 - val_accuracy: 0.5667\n",
      "Epoch 74/100\n",
      "559/559 [==============================] - 1s 2ms/step - loss: 0.6857 - accuracy: 0.5892 - val_loss: 0.6818 - val_accuracy: 0.5688\n",
      "Epoch 75/100\n",
      "559/559 [==============================] - 1s 2ms/step - loss: 0.6865 - accuracy: 0.5885 - val_loss: 0.6779 - val_accuracy: 0.5760\n",
      "Epoch 76/100\n",
      "559/559 [==============================] - 1s 2ms/step - loss: 0.6953 - accuracy: 0.5906 - val_loss: 0.6807 - val_accuracy: 0.5594\n",
      "Epoch 77/100\n",
      "559/559 [==============================] - 1s 2ms/step - loss: 0.6923 - accuracy: 0.5930 - val_loss: 0.6812 - val_accuracy: 0.5656\n",
      "Epoch 78/100\n",
      "559/559 [==============================] - 1s 2ms/step - loss: 0.6936 - accuracy: 0.5864 - val_loss: 0.6796 - val_accuracy: 0.5625\n",
      "Epoch 79/100\n",
      "559/559 [==============================] - 1s 2ms/step - loss: 0.6850 - accuracy: 0.5871 - val_loss: 0.6813 - val_accuracy: 0.5833\n",
      "Epoch 80/100\n",
      "559/559 [==============================] - 1s 2ms/step - loss: 0.6888 - accuracy: 0.5879 - val_loss: 0.6809 - val_accuracy: 0.5802\n",
      "Epoch 81/100\n",
      "559/559 [==============================] - 1s 2ms/step - loss: 0.6889 - accuracy: 0.5950 - val_loss: 0.6795 - val_accuracy: 0.5677\n",
      "Epoch 82/100\n",
      "559/559 [==============================] - 1s 2ms/step - loss: 0.6909 - accuracy: 0.5870 - val_loss: 0.6793 - val_accuracy: 0.5760\n",
      "Epoch 83/100\n",
      "559/559 [==============================] - 1s 2ms/step - loss: 0.6901 - accuracy: 0.5874 - val_loss: 0.6799 - val_accuracy: 0.5708\n",
      "Epoch 84/100\n",
      "559/559 [==============================] - 1s 2ms/step - loss: 0.6864 - accuracy: 0.5950 - val_loss: 0.6802 - val_accuracy: 0.5802\n",
      "Epoch 85/100\n",
      "559/559 [==============================] - 1s 2ms/step - loss: 0.6890 - accuracy: 0.5894 - val_loss: 0.6793 - val_accuracy: 0.5698\n",
      "Epoch 86/100\n",
      "559/559 [==============================] - 1s 2ms/step - loss: 0.6954 - accuracy: 0.5889 - val_loss: 0.6822 - val_accuracy: 0.5688\n",
      "Epoch 87/100\n",
      "559/559 [==============================] - 1s 2ms/step - loss: 0.6969 - accuracy: 0.5978 - val_loss: 0.6789 - val_accuracy: 0.5615\n",
      "Epoch 88/100\n",
      "559/559 [==============================] - 1s 2ms/step - loss: 0.6870 - accuracy: 0.5891 - val_loss: 0.6803 - val_accuracy: 0.5677\n",
      "Epoch 89/100\n",
      "559/559 [==============================] - 1s 2ms/step - loss: 0.6894 - accuracy: 0.5879 - val_loss: 0.6807 - val_accuracy: 0.5688\n",
      "Epoch 90/100\n",
      "559/559 [==============================] - 1s 2ms/step - loss: 0.7006 - accuracy: 0.5927 - val_loss: 0.6796 - val_accuracy: 0.5688\n",
      "Epoch 91/100\n",
      "559/559 [==============================] - 1s 2ms/step - loss: 0.6876 - accuracy: 0.5979 - val_loss: 0.6809 - val_accuracy: 0.5646\n",
      "Epoch 92/100\n",
      "559/559 [==============================] - 1s 2ms/step - loss: 0.6834 - accuracy: 0.5889 - val_loss: 0.6806 - val_accuracy: 0.5646\n",
      "Epoch 93/100\n",
      "559/559 [==============================] - 1s 2ms/step - loss: 0.6976 - accuracy: 0.5898 - val_loss: 0.6848 - val_accuracy: 0.5594\n",
      "Epoch 94/100\n",
      "559/559 [==============================] - 1s 2ms/step - loss: 0.6866 - accuracy: 0.5916 - val_loss: 0.6821 - val_accuracy: 0.5688\n",
      "Epoch 95/100\n",
      "559/559 [==============================] - 1s 2ms/step - loss: 0.6871 - accuracy: 0.5951 - val_loss: 0.6843 - val_accuracy: 0.5771\n",
      "Epoch 96/100\n",
      "559/559 [==============================] - 1s 2ms/step - loss: 0.6985 - accuracy: 0.5881 - val_loss: 0.6850 - val_accuracy: 0.5719\n",
      "Epoch 97/100\n",
      "559/559 [==============================] - 1s 2ms/step - loss: 0.6967 - accuracy: 0.5917 - val_loss: 0.6825 - val_accuracy: 0.5656\n",
      "Epoch 98/100\n",
      "559/559 [==============================] - 1s 2ms/step - loss: 0.6898 - accuracy: 0.5942 - val_loss: 0.6845 - val_accuracy: 0.5656\n",
      "Epoch 99/100\n",
      "559/559 [==============================] - 1s 2ms/step - loss: 0.6924 - accuracy: 0.5968 - val_loss: 0.6835 - val_accuracy: 0.5594\n",
      "Epoch 100/100\n",
      "559/559 [==============================] - 1s 2ms/step - loss: 0.6924 - accuracy: 0.5917 - val_loss: 0.6799 - val_accuracy: 0.5698\n"
     ]
    }
   ],
   "source": [
    "history = model.fit(\n",
    "    X_train,\n",
    "    y_train,\n",
    "    epochs=100,\n",
    "    steps_per_epoch=len(X_train) // 32,\n",
    "    validation_data=(X_test, y_test),\n",
    "    validation_steps=30,\n",
    "    batch_size=32\n",
    ")"
   ],
   "metadata": {
    "collapsed": false,
    "pycharm": {
     "name": "#%%\n"
    }
   }
  },
  {
   "cell_type": "code",
   "execution_count": 14,
   "outputs": [
    {
     "data": {
      "text/plain": "[<matplotlib.lines.Line2D at 0x17da4639820>]"
     },
     "execution_count": 14,
     "metadata": {},
     "output_type": "execute_result"
    },
    {
     "data": {
      "text/plain": "<Figure size 432x288 with 1 Axes>",
      "image/png": "[encoded data removed]"
     },
     "metadata": {
      "needs_background": "light"
     },
     "output_type": "display_data"
    }
   ],
   "source": [
    "acc = history.history[\"accuracy\"]\n",
    "\n",
    "epochs = range(len(acc))\n",
    "\n",
    "import matplotlib.pyplot as plt\n",
    "\n",
    "plt.plot(epochs, acc)"
   ],
   "metadata": {
    "collapsed": false,
    "pycharm": {
     "name": "#%%\n"
    }
   }
  },
  {
   "cell_type": "code",
   "execution_count": null,
   "outputs": [],
   "source": [],
   "metadata": {
    "collapsed": false,
    "pycharm": {
     "name": "#%%\n"
    }
   }
  }
 ],
 "metadata": {
  "kernelspec": {
   "display_name": "Python 3",
   "language": "python",
   "name": "python3"
  },
  "language_info": {
   "codemirror_mode": {
    "name": "ipython",
    "version": 2
   },
   "file_extension": ".py",
   "mimetype": "text/x-python",
   "name": "python",
   "nbconvert_exporter": "python",
   "pygments_lexer": "ipython2",
   "version": "2.7.6"
  }
 },
 "nbformat": 4,
 "nbformat_minor": 0
}
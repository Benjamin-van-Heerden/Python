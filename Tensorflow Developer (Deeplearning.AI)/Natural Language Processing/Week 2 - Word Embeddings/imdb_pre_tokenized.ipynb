{
 "cells": [
  {
   "cell_type": "code",
   "execution_count": 2,
   "metadata": {
    "collapsed": true
   },
   "outputs": [],
   "source": [
    "import tensorflow as tf\n",
    "import tensorflow_datasets as tfds"
   ]
  },
  {
   "cell_type": "code",
   "execution_count": 3,
   "outputs": [
    {
     "name": "stderr",
     "output_type": "stream",
     "text": [
      "WARNING:absl:TFDS datasets with text encoding are deprecated and will be removed in a future version. Instead, you should use the plain text version and tokenize the text using `tensorflow_text` (See: https://www.tensorflow.org/tutorials/tensorflow_text/intro#tfdata_example)\n"
     ]
    },
    {
     "name": "stdout",
     "output_type": "stream",
     "text": [
      "\u001B[1mDownloading and preparing dataset Unknown size (download: Unknown size, generated: Unknown size, total: Unknown size) to C:\\Users\\benja\\tensorflow_datasets\\imdb_reviews\\subwords8k\\1.0.0...\u001B[0m\n"
     ]
    },
    {
     "data": {
      "text/plain": "Dl Completed...: 0 url [00:00, ? url/s]",
      "application/vnd.jupyter.widget-view+json": {
       "version_major": 2,
       "version_minor": 0,
       "model_id": "9c14bd12ec834f5691ed902c23bfb0e2"
      }
     },
     "metadata": {},
     "output_type": "display_data"
    },
    {
     "data": {
      "text/plain": "Dl Size...: 0 MiB [00:00, ? MiB/s]",
      "application/vnd.jupyter.widget-view+json": {
       "version_major": 2,
       "version_minor": 0,
       "model_id": "841f727234294a02a66b0e08d48ee37b"
      }
     },
     "metadata": {},
     "output_type": "display_data"
    },
    {
     "data": {
      "text/plain": "Generating splits...:   0%|          | 0/3 [00:00<?, ? splits/s]",
      "application/vnd.jupyter.widget-view+json": {
       "version_major": 2,
       "version_minor": 0,
       "model_id": "b5a93bc10fc14b7c9e08a25d26f7b7b8"
      }
     },
     "metadata": {},
     "output_type": "display_data"
    },
    {
     "data": {
      "text/plain": "Generating train examples...: 0 examples [00:00, ? examples/s]",
      "application/vnd.jupyter.widget-view+json": {
       "version_major": 2,
       "version_minor": 0,
       "model_id": "89f77e1edcd4413f98513e21772fe9b9"
      }
     },
     "metadata": {},
     "output_type": "display_data"
    },
    {
     "data": {
      "text/plain": "Shuffling imdb_reviews-train.tfrecord...:   0%|          | 0/25000 [00:00<?, ? examples/s]",
      "application/vnd.jupyter.widget-view+json": {
       "version_major": 2,
       "version_minor": 0,
       "model_id": "10994cc5761b4aca9f95cf9f8ea7ef69"
      }
     },
     "metadata": {},
     "output_type": "display_data"
    },
    {
     "data": {
      "text/plain": "Generating test examples...: 0 examples [00:00, ? examples/s]",
      "application/vnd.jupyter.widget-view+json": {
       "version_major": 2,
       "version_minor": 0,
       "model_id": "021b1cc06f1145558d29c3580d9d50c0"
      }
     },
     "metadata": {},
     "output_type": "display_data"
    },
    {
     "data": {
      "text/plain": "Shuffling imdb_reviews-test.tfrecord...:   0%|          | 0/25000 [00:00<?, ? examples/s]",
      "application/vnd.jupyter.widget-view+json": {
       "version_major": 2,
       "version_minor": 0,
       "model_id": "9870cb151d7a43148b47910082839377"
      }
     },
     "metadata": {},
     "output_type": "display_data"
    },
    {
     "data": {
      "text/plain": "Generating unsupervised examples...: 0 examples [00:00, ? examples/s]",
      "application/vnd.jupyter.widget-view+json": {
       "version_major": 2,
       "version_minor": 0,
       "model_id": "1f79360fd1184865b83a4793e56a1166"
      }
     },
     "metadata": {},
     "output_type": "display_data"
    },
    {
     "data": {
      "text/plain": "Shuffling imdb_reviews-unsupervised.tfrecord...:   0%|          | 0/50000 [00:00<?, ? examples/s]",
      "application/vnd.jupyter.widget-view+json": {
       "version_major": 2,
       "version_minor": 0,
       "model_id": "ec66e9912fc74ec589d196d938a89643"
      }
     },
     "metadata": {},
     "output_type": "display_data"
    },
    {
     "name": "stderr",
     "output_type": "stream",
     "text": [
      "WARNING:absl:Dataset is using deprecated text encoder API which will be removed soon. Please use the plain_text version of the dataset and migrate to `tensorflow_text`.\n"
     ]
    },
    {
     "name": "stdout",
     "output_type": "stream",
     "text": [
      "\u001B[1mDataset imdb_reviews downloaded and prepared to C:\\Users\\benja\\tensorflow_datasets\\imdb_reviews\\subwords8k\\1.0.0. Subsequent calls will reuse this data.\u001B[0m\n"
     ]
    }
   ],
   "source": [
    "imdb, info = tfds.load(\"imdb_reviews/subwords8k\", with_info=True, as_supervised=True)"
   ],
   "metadata": {
    "collapsed": false,
    "pycharm": {
     "name": "#%%\n"
    }
   }
  },
  {
   "cell_type": "code",
   "execution_count": 4,
   "outputs": [],
   "source": [
    "train_data, test_data = imdb[\"train\"], imdb[\"test\"]\n",
    "tokenizer = info.features[\"text\"].encoder"
   ],
   "metadata": {
    "collapsed": false,
    "pycharm": {
     "name": "#%%\n"
    }
   }
  },
  {
   "cell_type": "code",
   "execution_count": 5,
   "outputs": [
    {
     "data": {
      "text/plain": "['the_',\n ', ',\n '. ',\n 'a_',\n 'and_',\n 'of_',\n 'to_',\n 's_',\n 'is_',\n 'br',\n 'in_',\n 'I_',\n 'that_',\n 'this_',\n 'it_',\n ' /><',\n ' />',\n 'was_',\n 'The_',\n 'as_',\n 't_',\n 'with_',\n 'for_',\n '.<',\n 'on_',\n 'but_',\n 'movie_',\n ' (',\n 'are_',\n 'his_',\n 'have_',\n 'film_',\n 'not_',\n 'ing_',\n 'be_',\n 'ed_',\n 'you_',\n ' \"',\n 'it',\n 'd_',\n 'an_',\n 'he_',\n 'by_',\n 'at_',\n 'one_',\n 'who_',\n 'y_',\n 'from_',\n 'e_',\n 'or_',\n 'all_',\n 'like_',\n 'they_',\n '\" ',\n 'so_',\n 'just_',\n 'has_',\n ') ',\n 'her_',\n 'about_',\n 'out_',\n 'This_',\n 'some_',\n 'ly_',\n 'movie',\n 'film',\n 'very_',\n 'more_',\n 'It_',\n 'would_',\n 'what_',\n 'when_',\n 'which_',\n 'good_',\n 'if_',\n 'up_',\n 'only_',\n 'even_',\n 'their_',\n 'had_',\n 'really_',\n 'my_',\n 'can_',\n 'no_',\n 'were_',\n 'see_',\n 'she_',\n '? ',\n 'than_',\n '! ',\n 'there_',\n 'get_',\n 'been_',\n 'into_',\n ' - ',\n 'will_',\n 'much_',\n 'story_',\n 'because_',\n 'ing',\n 'time_',\n 'n_',\n 'we_',\n 'ed',\n 'me_',\n ': ',\n 'most_',\n 'other_',\n 'don',\n 'do_',\n 'm_',\n 'es_',\n 'how_',\n 'also_',\n 'make_',\n 'its_',\n 'could_',\n 'first_',\n 'any_',\n \"' \",\n 'people_',\n 'great_',\n 've_',\n 'ly',\n 'er_',\n 'made_',\n 'r_',\n 'But_',\n 'think_',\n \" '\",\n 'i_',\n 'bad_',\n 'A_',\n 'And_',\n 'It',\n 'on',\n '; ',\n 'him_',\n 'being_',\n 'never_',\n 'way_',\n 'that',\n 'many_',\n 'then_',\n 'where_',\n 'two_',\n 'In_',\n 'after_',\n 'too_',\n 'little_',\n 'you',\n '), ',\n 'well_',\n 'ng_',\n 'your_',\n 'If_',\n 'l_',\n '). ',\n 'does_',\n 'ever_',\n 'them_',\n 'did_',\n 'watch_',\n 'know_',\n 'seen_',\n 'time',\n 'er',\n 'character_',\n 'over_',\n 'characters_',\n 'movies_',\n 'man_',\n 'There_',\n 'love_',\n 'best_',\n 'still_',\n 'off_',\n 'such_',\n 'in',\n 'should_',\n 'the',\n 're_',\n 'He_',\n 'plot_',\n 'films_',\n 'go_',\n 'these_',\n 'acting_',\n 'doesn',\n 'es',\n 'show_',\n 'through_',\n 'better_',\n 'al_',\n 'something_',\n 'didn',\n 'back_',\n 'those_',\n 'us_',\n 'less_',\n '...',\n 'say_',\n 'is',\n 'one',\n 'makes_',\n 'can',\n 'and',\n 'all',\n 'ion_',\n 'find_',\n 'scene_',\n 'old_',\n 'real_',\n 'few_',\n 'going_',\n 'well',\n 'actually_',\n 'watching_',\n 'life_',\n 'me',\n '. <',\n 'o_',\n 'man',\n 'there',\n 'scenes_',\n 'same_',\n 'he',\n 'end_',\n 'this',\n '... ',\n 'k_',\n 'while_',\n 'thing_',\n 'of',\n 'look_',\n 'quite_',\n 'out',\n 'lot_',\n 'want_',\n 'why_',\n 'seems_',\n 'every_',\n 'll_',\n 'pretty_',\n 'got_',\n 'able_',\n 'nothing_',\n 'good',\n 'As_',\n 'story',\n ' & ',\n 'another_',\n 'take_',\n 'to',\n 'years_',\n 'between_',\n 'give_',\n 'am_',\n 'work_',\n 'isn',\n 'part_',\n 'before_',\n 'actors_',\n 'may_',\n 'gets_',\n 'young_',\n 'down_',\n 'around_',\n 'ng',\n 'thought_',\n 'though_',\n 'end',\n 'without_',\n 'What_',\n 'They_',\n 'things_',\n 'life',\n 'always_',\n 'must_',\n 'cast_',\n 'almost_',\n 'h_',\n '10',\n 'saw_',\n 'own_',\n 'here',\n 'bit_',\n 'come_',\n 'both_',\n 'might_',\n 'g_',\n 'whole_',\n 'new_',\n 'director_',\n 'them',\n 'horror_',\n 'ce',\n 'You_',\n 'least_',\n 'bad',\n 'big_',\n 'enough_',\n 'him',\n 'feel_',\n 'probably_',\n 'up',\n 'here_',\n 'making_',\n 'long_',\n 'her',\n 'st_',\n 'kind_',\n '--',\n 'original_',\n 'fact_',\n 'rather_',\n 'or',\n 'far_',\n 'nt_',\n 'played_',\n 'found_',\n 'last_',\n 'movies',\n 'When_',\n 'so',\n '\", ',\n 'comes_',\n 'action_',\n 'She_',\n 've',\n 'our_',\n 'anything_',\n 'funny_',\n 'ion',\n 'right_',\n 'way',\n 'trying_',\n 'now_',\n 'ous_',\n 'each_',\n 'done_',\n 'since_',\n 'ic_',\n 'point_',\n '\". ',\n 'wasn',\n 'interesting_',\n 'c_',\n 'worst_',\n 'te_',\n 'le_',\n 'ble_',\n 'ty_',\n 'looks_',\n 'show',\n 'put_',\n 'looking_',\n 'especially_',\n 'believe_',\n 'en_',\n 'goes_',\n 'over',\n 'ce_',\n 'p_',\n 'films',\n 'hard_',\n 'main_',\n 'be',\n 'having_',\n 'ry',\n 'TV_',\n 'worth_',\n 'One_',\n 'do',\n 'al',\n 're',\n 'again',\n 'series_',\n 'takes_',\n 'guy_',\n 'family_',\n 'seem_',\n 'plays_',\n 'role_',\n 'away_',\n 'world_',\n 'My_',\n 'character',\n ', \"',\n 'performance_',\n '2_',\n 'So_',\n 'watched_',\n 'John_',\n 'th_',\n 'plot',\n 'script_',\n 'For_',\n 'sure_',\n 'characters',\n 'set_',\n 'different_',\n 'minutes_',\n 'All_',\n 'American_',\n 'anyone_',\n 'Not_',\n 'music_',\n 'ry_',\n 'shows_',\n 'too',\n 'son_',\n 'en',\n 'day_',\n 'use_',\n 'someone_',\n 'for',\n 'woman_',\n 'yet_',\n '.\" ',\n 'during_',\n 'she',\n 'ro',\n '- ',\n 'times_',\n 'left_',\n 'used_',\n 'le',\n 'three_',\n 'play_',\n 'work',\n 'ness_',\n 'We_',\n 'girl_',\n 'comedy_',\n 'ment_',\n 'an',\n 'simply_',\n 'off',\n 'ies_',\n 'funny',\n 'ne',\n 'acting',\n 'That_',\n 'fun_',\n 'completely_',\n 'st',\n 'seeing_',\n 'us',\n 'te',\n 'special_',\n 'ation_',\n 'as',\n 'ive_',\n 'ful_',\n 'read_',\n 'reason_',\n 'co',\n 'need_',\n 'sa',\n 'true_',\n 'ted_',\n 'like',\n 'ck',\n 'place_',\n 'they',\n '10_',\n 'However',\n 'until_',\n 'rest_',\n 'sense_',\n 'ity_',\n 'everything_',\n 'people',\n 'nt',\n 'ending_',\n 'again_',\n 'ers_',\n 'given_',\n 'idea_',\n 'let_',\n 'nice_',\n 'help_',\n 'no',\n 'truly_',\n 'beautiful_',\n 'ter',\n 'ck_',\n 'version_',\n 'try_',\n 'came_',\n 'Even_',\n 'DVD_',\n 'se',\n 'mis',\n 'scene',\n 'job_',\n 'ting_',\n 'Me',\n 'At_',\n 'who',\n 'money_',\n 'ment',\n 'ch',\n 'recommend_',\n 'was',\n 'once_',\n 'getting_',\n 'tell_',\n 'de_',\n 'gives_',\n 'not',\n 'Lo',\n 'we',\n 'son',\n 'shot_',\n 'second_',\n 'After_',\n 'To_',\n 'high_',\n 'screen_',\n ' -- ',\n 'keep_',\n 'felt_',\n 'with',\n 'great',\n 'everyone_',\n 'although_',\n 'poor_',\n 'el',\n 'half_',\n 'playing_',\n 'couple_',\n 'now',\n 'ble',\n 'excellent_',\n 'enjoy_',\n 'couldn',\n 'x_',\n 'ne_',\n ',\" ',\n 'ie_',\n 'go',\n 'become_',\n 'less',\n 'himself_',\n 'supposed_',\n 'won',\n 'understand_',\n 'seen',\n 'ally_',\n 'THE_',\n 'se_',\n 'actor_',\n 'ts_',\n 'small_',\n 'line_',\n 'na',\n 'audience_',\n 'fan_',\n 'et',\n 'world',\n 'entire_',\n 'said_',\n 'at',\n '3_',\n 'scenes',\n 'rs_',\n 'full_',\n 'year_',\n 'men_',\n 'ke',\n 'doing_',\n 'went_',\n 'director',\n 'back',\n 'early_',\n 'Hollywood_',\n 'start_',\n 'liked_',\n 'against_',\n 'remember_',\n 'love',\n 'He',\n 'along_',\n 'ic',\n 'His_',\n 'wife_',\n 'effects_',\n 'together_',\n 'ch_',\n 'Ra',\n 'ty',\n 'maybe_',\n 'age',\n 'S_',\n 'While_',\n 'often_',\n 'sort_',\n 'definitely_',\n 'No',\n 'script',\n 'times',\n 'absolutely_',\n 'book_',\n 'day',\n 'human_',\n 'There',\n 'top_',\n 'ta',\n 'becomes_',\n 'piece_',\n 'waste_',\n 'seemed_',\n 'down',\n '5_',\n 'later_',\n 'rs',\n 'ja',\n 'certainly_',\n 'budget_',\n 'th',\n 'nce_',\n '200',\n '. (',\n 'age_',\n 'next_',\n 'ar',\n 'several_',\n 'ling_',\n 'short_',\n 'sh',\n 'fe',\n 'Of_',\n 'instead_',\n 'Man',\n 'T_',\n 'right',\n 'father_',\n 'actors',\n 'wanted_',\n 'cast',\n 'black_',\n 'Don',\n '1_',\n 'more',\n 'comedy',\n 'better',\n 'camera_',\n 'wonderful_',\n 'production_',\n 'inter',\n 'course',\n 'low_',\n 'else_',\n 'w_',\n 'ness',\n 'course_',\n 'based_',\n 'ti',\n 'Some_',\n 'know',\n 'house_',\n 'say',\n 'de',\n 'watch',\n 'ous',\n 'pro',\n 'tries_',\n 'ra',\n 'kids_',\n 'etc',\n ' \\x96 ',\n 'loved_',\n 'est_',\n 'fun',\n 'made',\n 'video_',\n 'un',\n 'totally_',\n 'Michael_',\n 'ho',\n 'mind_',\n 'No_',\n 'Be',\n 'ive',\n 'La',\n 'Fi',\n 'du',\n 'ers',\n 'Well',\n 'wants_',\n 'How_',\n 'series',\n 'performances_',\n 'written_',\n 'live_',\n 'New_',\n 'So',\n 'Ne',\n 'Na',\n 'night_',\n 'ge',\n 'gave_',\n 'home_',\n 'heart',\n 'women_',\n 'nu',\n 'ss_',\n 'hope_',\n 'ci',\n 'friends_',\n 'Se',\n 'years',\n 'sub',\n 'head_',\n 'Y_',\n 'Du',\n '. \"',\n 'turn_',\n 'red_',\n 'perfect_',\n 'already_',\n 'classic_',\n 'tri',\n 'ss',\n 'person_',\n 'star_',\n 'screen',\n 'style_',\n 'ur',\n 'starts_',\n 'under_',\n 'Then_',\n 'ke_',\n 'ine',\n 'ies',\n 'um',\n 'ie',\n 'face_',\n 'ir',\n 'enjoyed_',\n 'point',\n 'lines_',\n 'Mr',\n 'turns_',\n 'what',\n 'side_',\n 'sex_',\n 'Ha',\n 'final_',\n ').<',\n 'With_',\n 'care_',\n 'tion_',\n 'She',\n 'ation',\n 'Ar',\n 'problem_',\n 'ma',\n 'lost_',\n 'are',\n 'li',\n '4_',\n 'fully_',\n 'oo',\n 'sha',\n 'Just_',\n 'name_',\n 'ina',\n 'boy_',\n 'finally_',\n 'ol',\n '!<',\n 'Bo',\n 'though',\n 'about',\n 'hand',\n 'ton',\n 'lead_',\n 'school_',\n 'ns',\n 'ha',\n 'favorite_',\n 'stupid_',\n 'gi',\n 'original',\n 'mean_',\n 'To',\n 'took_',\n 'either_',\n 'ni',\n 'book',\n 'episode_',\n 'om',\n 'Su',\n 'D_',\n 'Mc',\n 'house',\n 'cannot_',\n 'stars_',\n 'behind_',\n 'see',\n 'other',\n 'Che',\n 'role',\n 'art',\n 'ever',\n 'Why_',\n 'father',\n 'case_',\n 'tic_',\n 'moments_',\n 'Co',\n 'works_',\n 'sound_',\n 'Ta',\n 'guess_',\n 'perhaps_',\n 'Vi',\n 'thing',\n 'fine_',\n 'fact',\n 'music',\n 'non',\n 'ful',\n 'action',\n 'ity',\n 'ct',\n 'ate_',\n 'type_',\n 'lack_',\n 'death_',\n 'art_',\n 'able',\n 'Ja',\n 'ge_',\n 'wouldn',\n 'am',\n 'tor',\n 'extremely_',\n 'pre',\n 'self',\n 'Mor',\n 'particularly_',\n 'bo',\n 'est',\n 'Ba',\n 'ya',\n 'play',\n 'Pa',\n 'ther',\n 'heard_',\n 'however',\n 'ver',\n 'dy_',\n 'Sa',\n 'ding_',\n 'led_',\n 'late_',\n 'feeling_',\n 'per',\n 'low',\n 'ably_',\n 'Un',\n 'On_',\n 'known_',\n 'kill_',\n 'fight_',\n 'beginning_',\n 'cat',\n 'bit',\n 'title_',\n 'vo',\n 'short',\n 'old',\n 'including_',\n 'Da',\n 'coming_',\n 'That',\n 'place',\n 'looked_',\n 'best',\n 'Lu',\n 'ent_',\n 'bla',\n 'quality_',\n 'except_',\n '...<',\n 'ff',\n 'decent_',\n 'much',\n 'De',\n 'Bu',\n 'ter_',\n 'attempt_',\n 'Bi',\n 'taking_',\n 'ig',\n 'Ti',\n 'whose_',\n 'dialogue_',\n 'zz',\n 'war_',\n 'ill',\n 'Te',\n 'war',\n 'Hu',\n 'James_',\n '..',\n 'under',\n 'ring_',\n 'pa',\n 'ot',\n 'expect_',\n 'Ga',\n 'itself_',\n 'line',\n 'lives_',\n 'let',\n 'Dr',\n 'mp',\n 'che',\n 'mean',\n 'called_',\n 'complete_',\n 'terrible_',\n 'boring_',\n 'others_',\n '\" (',\n 'aren',\n 'star',\n 'long',\n 'Li',\n 'mother_',\n 'si',\n 'highly_',\n 'ab',\n 'ex',\n 'os',\n 'nd',\n 'ten_',\n 'ten',\n 'run_',\n 'directed_',\n 'town_',\n 'friend_',\n 'David_',\n 'taken_',\n 'finds_',\n 'fans_',\n 'Mar',\n 'writing_',\n 'white_',\n 'u_',\n 'obviously_',\n 'mar',\n 'Ho',\n 'year',\n 'stop_',\n 'f_',\n 'leave_',\n 'king_',\n 'act_',\n 'mind',\n 'entertaining_',\n 'ish_',\n 'Ka',\n 'throughout_',\n 'viewer_',\n 'despite_',\n 'Robert_',\n 'somewhat_',\n 'hour_',\n 'car_',\n 'evil_',\n 'Although_',\n 'wrong_',\n 'Ro',\n 'dead_',\n 'body_',\n 'awful_',\n 'home',\n 'exactly_',\n 'bi',\n 'family',\n 'ts',\n 'usually_',\n 'told_',\n 'z_',\n 'oc',\n 'minutes',\n 'tra',\n 'some',\n 'actor',\n 'den',\n 'but',\n 'Sha',\n 'tu',\n 'strong_',\n ...]"
     },
     "execution_count": 5,
     "metadata": {},
     "output_type": "execute_result"
    }
   ],
   "source": [
    "tokenizer.subwords"
   ],
   "metadata": {
    "collapsed": false,
    "pycharm": {
     "name": "#%%\n"
    }
   }
  },
  {
   "cell_type": "code",
   "execution_count": 7,
   "outputs": [
    {
     "name": "stdout",
     "output_type": "stream",
     "text": [
      "Tokenized string is: [6307, 2327, 2934, 2, 48, 4249, 4429, 7, 2652, 8050]\n",
      "The original string is: Tensorflow, from basics to mastery\n"
     ]
    }
   ],
   "source": [
    "sample_string = \"Tensorflow, from basics to mastery\"\n",
    "\n",
    "tokenized_string = tokenizer.encode(sample_string)\n",
    "print(f\"Tokenized string is: {tokenized_string}\")\n",
    "\n",
    "original_string = tokenizer.decode(tokenized_string)\n",
    "print(f\"The original string is: {original_string}\")"
   ],
   "metadata": {
    "collapsed": false,
    "pycharm": {
     "name": "#%%\n"
    }
   }
  },
  {
   "cell_type": "code",
   "execution_count": 9,
   "outputs": [
    {
     "name": "stdout",
     "output_type": "stream",
     "text": [
      "6307 --> Ten\n",
      "2327 --> sor\n",
      "2934 --> flow\n",
      "2 --> , \n",
      "48 --> from \n",
      "4249 --> basi\n",
      "4429 --> cs \n",
      "7 --> to \n",
      "2652 --> master\n",
      "8050 --> y\n"
     ]
    }
   ],
   "source": [
    "for ts in tokenized_string:\n",
    "    print(f\"{ts} --> {tokenizer.decode([ts])}\")"
   ],
   "metadata": {
    "collapsed": false,
    "pycharm": {
     "name": "#%%\n"
    }
   }
  },
  {
   "cell_type": "code",
   "execution_count": 21,
   "outputs": [],
   "source": [
    "BUFFER_SIZE = 10000\n",
    "BATCH_SIZE = 64\n",
    "\n",
    "train_dataset = train_data.shuffle(BUFFER_SIZE)\n",
    "train_dataset = train_dataset.padded_batch(BATCH_SIZE, tf.compat.v1.data.get_output_shapes(train_dataset))\n",
    "test_dataset = test_data.padded_batch(BATCH_SIZE, tf.compat.v1.data.get_output_shapes(test_data))"
   ],
   "metadata": {
    "collapsed": false,
    "pycharm": {
     "name": "#%%\n"
    }
   }
  },
  {
   "cell_type": "code",
   "execution_count": 22,
   "outputs": [
    {
     "name": "stdout",
     "output_type": "stream",
     "text": [
      "Model: \"sequential_4\"\n",
      "_________________________________________________________________\n",
      "Layer (type)                 Output Shape              Param #   \n",
      "=================================================================\n",
      "embedding_4 (Embedding)      (None, None, 64)          523840    \n",
      "_________________________________________________________________\n",
      "global_average_pooling1d_4 ( (None, 64)                0         \n",
      "_________________________________________________________________\n",
      "dense_8 (Dense)              (None, 128)               8320      \n",
      "_________________________________________________________________\n",
      "dropout_3 (Dropout)          (None, 128)               0         \n",
      "_________________________________________________________________\n",
      "dense_9 (Dense)              (None, 1)                 129       \n",
      "=================================================================\n",
      "Total params: 532,289\n",
      "Trainable params: 532,289\n",
      "Non-trainable params: 0\n",
      "_________________________________________________________________\n"
     ]
    }
   ],
   "source": [
    "embedding_dim = 64\n",
    "model = tf.keras.Sequential([\n",
    "    tf.keras.layers.Embedding(tokenizer.vocab_size, embedding_dim),\n",
    "    tf.keras.layers.GlobalAveragePooling1D(),\n",
    "    tf.keras.layers.Dense(128, activation='relu'),\n",
    "    tf.keras.layers.Dropout(0.2),\n",
    "    tf.keras.layers.Dense(1, activation='sigmoid')\n",
    "])\n",
    "\n",
    "model.summary()"
   ],
   "metadata": {
    "collapsed": false,
    "pycharm": {
     "name": "#%%\n"
    }
   }
  },
  {
   "cell_type": "code",
   "execution_count": 23,
   "outputs": [
    {
     "name": "stdout",
     "output_type": "stream",
     "text": [
      "Epoch 1/10\n",
      "391/391 [==============================] - 11s 26ms/step - loss: 0.6207 - accuracy: 0.6475 - val_loss: 0.4528 - val_accuracy: 0.8297\n",
      "Epoch 2/10\n",
      "391/391 [==============================] - 11s 28ms/step - loss: 0.3437 - accuracy: 0.8692 - val_loss: 0.3275 - val_accuracy: 0.8727\n",
      "Epoch 3/10\n",
      "391/391 [==============================] - 10s 27ms/step - loss: 0.2575 - accuracy: 0.9018 - val_loss: 0.3037 - val_accuracy: 0.8800\n",
      "Epoch 4/10\n",
      "391/391 [==============================] - 11s 28ms/step - loss: 0.2159 - accuracy: 0.9206 - val_loss: 0.3016 - val_accuracy: 0.8828\n",
      "Epoch 5/10\n",
      "391/391 [==============================] - 11s 27ms/step - loss: 0.1876 - accuracy: 0.9322 - val_loss: 0.3487 - val_accuracy: 0.8600\n",
      "Epoch 6/10\n",
      "391/391 [==============================] - 11s 29ms/step - loss: 0.1718 - accuracy: 0.9380 - val_loss: 0.3283 - val_accuracy: 0.8728\n",
      "Epoch 7/10\n",
      "391/391 [==============================] - 11s 27ms/step - loss: 0.1508 - accuracy: 0.9482 - val_loss: 0.3640 - val_accuracy: 0.8670\n",
      "Epoch 8/10\n",
      "391/391 [==============================] - 11s 27ms/step - loss: 0.1412 - accuracy: 0.9515 - val_loss: 0.3579 - val_accuracy: 0.8711\n",
      "Reached desired accuracy. Stopping training\n"
     ]
    }
   ],
   "source": [
    "class StopTrain(tf.keras.callbacks.Callback):\n",
    "    def on_epoch_end(self, epoch, logs=None):\n",
    "        if logs.get(\"accuracy\") >= 0.94 and logs.get(\"val_accuracy\") > 0.87:\n",
    "            print(\"Reached desired accuracy. Stopping training\")\n",
    "            self.model.stop_training = True\n",
    "\n",
    "callbacks = StopTrain()\n",
    "\n",
    "num_epochs = 10\n",
    "\n",
    "model.compile(loss='binary_crossentropy',optimizer='adam',metrics=['accuracy'])\n",
    "\n",
    "history = model.fit(train_dataset, epochs=num_epochs, validation_data=test_dataset, callbacks=[callbacks])"
   ],
   "metadata": {
    "collapsed": false,
    "pycharm": {
     "name": "#%%\n"
    }
   }
  },
  {
   "cell_type": "code",
   "execution_count": 24,
   "outputs": [
    {
     "data": {
      "text/plain": "<Figure size 432x288 with 1 Axes>",
      "image/png": "[encoded data removed]"
     },
     "metadata": {
      "needs_background": "light"
     },
     "output_type": "display_data"
    },
    {
     "data": {
      "text/plain": "<Figure size 432x288 with 1 Axes>",
      "image/png": "[encoded data removed]"
     },
     "metadata": {
      "needs_background": "light"
     },
     "output_type": "display_data"
    }
   ],
   "source": [
    "import matplotlib.pyplot as plt\n",
    "\n",
    "\n",
    "def plot_graphs(history, string):\n",
    "    plt.plot(history.history[string])\n",
    "    plt.plot(history.history['val_'+string])\n",
    "    plt.xlabel(\"Epochs\")\n",
    "    plt.ylabel(string)\n",
    "    plt.legend([string, 'val_'+string])\n",
    "    plt.show()\n",
    "\n",
    "plot_graphs(history, \"accuracy\")\n",
    "plot_graphs(history, \"loss\")"
   ],
   "metadata": {
    "collapsed": false,
    "pycharm": {
     "name": "#%%\n"
    }
   }
  },
  {
   "cell_type": "code",
   "execution_count": 26,
   "outputs": [
    {
     "name": "stdout",
     "output_type": "stream",
     "text": [
      "(8185, 64)\n"
     ]
    }
   ],
   "source": [
    "e = model.layers[0]\n",
    "weights = e.get_weights()[0]\n",
    "print(weights.shape) # shape: (vocab_size, embedding_dim)\n",
    "\n",
    "import io\n",
    "\n",
    "out_v = io.open('vecs_imdb.tsv', 'w', encoding='utf-8')\n",
    "out_m = io.open('meta_imdb.tsv', 'w', encoding='utf-8')\n",
    "for word_num in range(1, tokenizer.vocab_size):\n",
    "    word = tokenizer.decode([word_num])\n",
    "    embeddings = weights[word_num]\n",
    "    out_m.write(word + \"\\n\")\n",
    "    out_v.write('\\t'.join([str(x) for x in embeddings]) + \"\\n\")\n",
    "out_v.close()\n",
    "out_m.close()"
   ],
   "metadata": {
    "collapsed": false,
    "pycharm": {
     "name": "#%%\n"
    }
   }
  },
  {
   "cell_type": "code",
   "execution_count": 27,
   "outputs": [
    {
     "data": {
      "text/plain": "tensorflow.python.data.ops.dataset_ops.PrefetchDataset"
     },
     "execution_count": 27,
     "metadata": {},
     "output_type": "execute_result"
    }
   ],
   "source": [
    "type(train_data)"
   ],
   "metadata": {
    "collapsed": false,
    "pycharm": {
     "name": "#%%\n"
    }
   }
  },
  {
   "cell_type": "code",
   "execution_count": 29,
   "outputs": [
    {
     "data": {
      "text/plain": "tfds.core.DatasetInfo(\n    name='imdb_reviews',\n    full_name='imdb_reviews/subwords8k/1.0.0',\n    description=\"\"\"\n    Large Movie Review Dataset.\n    This is a dataset for binary sentiment classification containing substantially more data than previous benchmark datasets. We provide a set of 25,000 highly polar movie reviews for training, and 25,000 for testing. There is additional unlabeled data for use as well.\n    \"\"\",\n    config_description=\"\"\"\n    Uses `tfds.deprecated.text.SubwordTextEncoder` with 8k vocab size\n    \"\"\",\n    homepage='http://ai.stanford.edu/~amaas/data/sentiment/',\n    data_path='C:\\\\Users\\\\benja\\\\tensorflow_datasets\\\\imdb_reviews\\\\subwords8k\\\\1.0.0',\n    download_size=80.23 MiB,\n    dataset_size=54.72 MiB,\n    features=FeaturesDict({\n        'label': ClassLabel(shape=(), dtype=tf.int64, num_classes=2),\n        'text': Text(shape=(None,), dtype=tf.int64, encoder=<SubwordTextEncoder vocab_size=8185>),\n    }),\n    supervised_keys=('text', 'label'),\n    disable_shuffling=False,\n    splits={\n        'test': <SplitInfo num_examples=25000, num_shards=1>,\n        'train': <SplitInfo num_examples=25000, num_shards=1>,\n        'unsupervised': <SplitInfo num_examples=50000, num_shards=1>,\n    },\n    citation=\"\"\"@InProceedings{maas-EtAl:2011:ACL-HLT2011,\n      author    = {Maas, Andrew L.  and  Daly, Raymond E.  and  Pham, Peter T.  and  Huang, Dan  and  Ng, Andrew Y.  and  Potts, Christopher},\n      title     = {Learning Word Vectors for Sentiment Analysis},\n      booktitle = {Proceedings of the 49th Annual Meeting of the Association for Computational Linguistics: Human Language Technologies},\n      month     = {June},\n      year      = {2011},\n      address   = {Portland, Oregon, USA},\n      publisher = {Association for Computational Linguistics},\n      pages     = {142--150},\n      url       = {http://www.aclweb.org/anthology/P11-1015}\n    }\"\"\",\n)"
     },
     "execution_count": 29,
     "metadata": {},
     "output_type": "execute_result"
    }
   ],
   "source": [
    "info"
   ],
   "metadata": {
    "collapsed": false,
    "pycharm": {
     "name": "#%%\n"
    }
   }
  },
  {
   "cell_type": "code",
   "execution_count": null,
   "outputs": [],
   "source": [],
   "metadata": {
    "collapsed": false,
    "pycharm": {
     "name": "#%%\n"
    }
   }
  }
 ],
 "metadata": {
  "kernelspec": {
   "display_name": "Python 3",
   "language": "python",
   "name": "python3"
  },
  "language_info": {
   "codemirror_mode": {
    "name": "ipython",
    "version": 2
   },
   "file_extension": ".py",
   "mimetype": "text/x-python",
   "name": "python",
   "nbconvert_exporter": "python",
   "pygments_lexer": "ipython2",
   "version": "2.7.6"
  }
 },
 "nbformat": 4,
 "nbformat_minor": 0
}
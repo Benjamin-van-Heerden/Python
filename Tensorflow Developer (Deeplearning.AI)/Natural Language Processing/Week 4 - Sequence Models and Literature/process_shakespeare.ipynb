{
 "cells": [
  {
   "cell_type": "code",
   "execution_count": 96,
   "metadata": {
    "collapsed": true,
    "pycharm": {
     "name": "#%%\n"
    }
   },
   "outputs": [],
   "source": [
    "import re\n",
    "\n",
    "output = []\n",
    "with open(\"./macbeth.txt\", \"r\") as f:\n",
    "    lines = f.readlines()\n",
    "    for l in lines:\n",
    "        l_clean = l.strip().replace(\"\\t\", \"\")\n",
    "        l_clean = re.sub(r\"^[A-Z ]*\\.\\s\", \"*#\", l_clean)\n",
    "        l_clean = re.sub(\"\\s+\", \" \", l_clean)\n",
    "        if l_clean == \"\":\n",
    "            continue\n",
    "        if l_clean.split(\" \")[0] in [\"SCENE\", \"ACT\", \"EPILOGUE\"]:\n",
    "            continue\n",
    "        output.append(l_clean + \" \")\n",
    "\n",
    "conversations = re.split(r\"\\*\", \"\".join(output))\n",
    "final_list = []\n",
    "for c in conversations:\n",
    "    if c.startswith(\"#\"):\n",
    "        final_list.append(re.sub(r\"#\", \"\", c))\n",
    "\n",
    "final_only_conversations = \"\\n\".join(final_list)\n",
    "\n",
    "with open(\"macbeth_clean.txt\", \"w\") as f:\n",
    "    f.write(final_only_conversations)"
   ]
  },
  {
   "cell_type": "code",
   "execution_count": null,
   "outputs": [],
   "source": [],
   "metadata": {
    "collapsed": false,
    "pycharm": {
     "name": "#%%\n"
    }
   }
  }
 ],
 "metadata": {
  "kernelspec": {
   "display_name": "Python 3",
   "language": "python",
   "name": "python3"
  },
  "language_info": {
   "codemirror_mode": {
    "name": "ipython",
    "version": 2
   },
   "file_extension": ".py",
   "mimetype": "text/x-python",
   "name": "python",
   "nbconvert_exporter": "python",
   "pygments_lexer": "ipython2",
   "version": "2.7.6"
  }
 },
 "nbformat": 4,
 "nbformat_minor": 0
}
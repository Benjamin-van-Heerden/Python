{
 "cells": [
  {
   "cell_type": "code",
   "execution_count": 3,
   "metadata": {
    "collapsed": true
   },
   "outputs": [],
   "source": [
    "import tensorflow as tf\n",
    "from tensorflow.keras.preprocessing.text import Tokenizer\n",
    "from tensorflow.keras.preprocessing.sequence import pad_sequences\n",
    "import numpy as np"
   ]
  },
  {
   "cell_type": "code",
   "execution_count": 45,
   "outputs": [
    {
     "data": {
      "text/plain": "2690"
     },
     "execution_count": 45,
     "metadata": {},
     "output_type": "execute_result"
    }
   ],
   "source": [
    "tokenizer = Tokenizer()\n",
    "data = \"In the town of Athy one Jeremy Lanigan \\n Battered away til he hadnt a pound. \\nHis father died and made him a man again \\n Left him a farm and ten acres of ground. \\nHe gave a grand party for friends and relations \\nWho didnt forget him when come to the wall, \\nAnd if youll but listen Ill make your eyes glisten \\nOf the rows and the ructions of Lanigans Ball. \\nMyself to be sure got free invitation, \\nFor all the nice girls and boys I might ask, \\nAnd just in a minute both friends and relations \\nWere dancing round merry as bees round a cask. \\nJudy ODaly, that nice little milliner, \\nShe tipped me a wink for to give her a call, \\nAnd I soon arrived with Peggy McGilligan \\nJust in time for Lanigans Ball. \\nThere were lashings of punch and wine for the ladies, \\nPotatoes and cakes; there was bacon and tea, \\nThere were the Nolans, Dolans, OGradys \\nCourting the girls and dancing away. \\nSongs they went round as plenty as water, \\nThe harp that once sounded in Taras old hall,\\nSweet Nelly Gray and The Rat Catchers Daughter,\\nAll singing together at Lanigans Ball. \\nThey were doing all kinds of nonsensical polkas \\nAll round the room in a whirligig. \\nJulia and I, we banished their nonsense \\nAnd tipped them the twist of a reel and a jig. \\nAch mavrone, how the girls got all mad at me \\nDanced til youd think the ceiling would fall. \\nFor I spent three weeks at Brooks Academy \\nLearning new steps for Lanigans Ball. \\nThree long weeks I spent up in Dublin, \\nThree long weeks to learn nothing at all,\\n Three long weeks I spent up in Dublin, \\nLearning new steps for Lanigans Ball. \\nShe stepped out and I stepped in again, \\nI stepped out and she stepped in again, \\nShe stepped out and I stepped in again, \\nLearning new steps for Lanigans Ball. \\nBoys were all merry and the girls they were hearty \\nAnd danced all around in couples and groups, \\nTil an accident happened, young Terrance McCarthy \\nPut his right leg through miss Finnertys hoops. \\nPoor creature fainted and cried Meelia murther, \\nCalled for her brothers and gathered them all. \\nCarmody swore that hed go no further \\nTil he had satisfaction at Lanigans Ball. \\nIn the midst of the row miss Kerrigan fainted, \\nHer cheeks at the same time as red as a rose. \\nSome of the lads declared she was painted, \\nShe took a small drop too much, I suppose. \\nHer sweetheart, Ned Morgan, so powerful and able, \\nWhen he saw his fair colleen stretched out by the wall, \\nTore the left leg from under the table \\nAnd smashed all the Chaneys at Lanigans Ball. \\nBoys, oh boys, twas then there were runctions. \\nMyself got a lick from big Phelim McHugh. \\nI soon replied to his introduction \\nAnd kicked up a terrible hullabaloo. \\nOld Casey, the piper, was near being strangled. \\nThey squeezed up his pipes, bellows, chanters and all. \\nThe girls, in their ribbons, they got all entangled \\nAnd that put an end to Lanigans Ball.\"\n",
    "\n",
    "# def read_shakespeare():\n",
    "#     with open(\"./macbeth_clean.txt\", \"r\") as f:\n",
    "#         mb = \"\".join(f.readlines())\n",
    "#     return mb\n",
    "#\n",
    "# data = read_shakespeare()\n",
    "\n",
    "data = open(\"./poetry.txt\").read()\n",
    "\n",
    "corpus = data.lower().split(\"\\n\")\n",
    "\n",
    "tokenizer.fit_on_texts(corpus)\n",
    "total_words = len(tokenizer.word_index) + 1  # + 1 for OOV\n",
    "total_words"
   ],
   "metadata": {
    "collapsed": false,
    "pycharm": {
     "name": "#%%\n"
    }
   }
  },
  {
   "cell_type": "code",
   "execution_count": 46,
   "outputs": [
    {
     "data": {
      "text/plain": "[[51, 12],\n [51, 12, 96],\n [51, 12, 96, 1217],\n [51, 12, 96, 1217, 48],\n [51, 12, 96, 1217, 48, 2],\n [51, 12, 96, 1217, 48, 2, 69],\n [2, 11],\n [2, 11, 15],\n [2, 11, 15, 31],\n [2, 11, 15, 31, 361]]"
     },
     "execution_count": 46,
     "metadata": {},
     "output_type": "execute_result"
    }
   ],
   "source": [
    "input_sequences = []\n",
    "for line in corpus:\n",
    "    token_list = tokenizer.texts_to_sequences([line])[0]\n",
    "    for i in range(1, len(token_list)):\n",
    "        n_gram_sequences = token_list[:i + 1]\n",
    "        input_sequences.append(n_gram_sequences)\n",
    "\n",
    "input_sequences[:10]"
   ],
   "metadata": {
    "collapsed": false,
    "pycharm": {
     "name": "#%%\n"
    }
   }
  },
  {
   "cell_type": "code",
   "execution_count": 47,
   "outputs": [
    {
     "data": {
      "text/plain": "16"
     },
     "execution_count": 47,
     "metadata": {},
     "output_type": "execute_result"
    }
   ],
   "source": [
    "max_sequence_length = len(max(input_sequences, key=len))\n",
    "max_sequence_length"
   ],
   "metadata": {
    "collapsed": false,
    "pycharm": {
     "name": "#%%\n"
    }
   }
  },
  {
   "cell_type": "code",
   "execution_count": 48,
   "outputs": [],
   "source": [
    "# pad the sequences so that they all have the same length\n",
    "\n",
    "input_sequences = np.array(pad_sequences(input_sequences, maxlen=max_sequence_length, padding=\"pre\"))\n",
    "\n",
    "# now everything up to the very last input is our \"x\" and the last is our label \"y\""
   ],
   "metadata": {
    "collapsed": false,
    "pycharm": {
     "name": "#%%\n"
    }
   }
  },
  {
   "cell_type": "code",
   "execution_count": 49,
   "outputs": [],
   "source": [
    "X = input_sequences[:, :-1]\n",
    "y = input_sequences[:, -1]\n",
    "# we need to one hot encode our labels since this really is a classification problem\n",
    "y = tf.keras.utils.to_categorical(y, num_classes=total_words)"
   ],
   "metadata": {
    "collapsed": false,
    "pycharm": {
     "name": "#%%\n"
    }
   }
  },
  {
   "cell_type": "code",
   "execution_count": 50,
   "outputs": [],
   "source": [
    "# print(tokenizer.word_index['in'])\n",
    "# print(tokenizer.word_index['the'])\n",
    "# print(tokenizer.word_index['town'])\n",
    "# print(tokenizer.word_index['of'])\n",
    "# print(tokenizer.word_index['athy'])\n",
    "# print(tokenizer.word_index['one'])\n",
    "# print(tokenizer.word_index['jeremy'])\n",
    "# print(tokenizer.word_index['lanigan'])"
   ],
   "metadata": {
    "collapsed": false,
    "pycharm": {
     "name": "#%%\n"
    }
   }
  },
  {
   "cell_type": "code",
   "execution_count": 51,
   "outputs": [
    {
     "name": "stdout",
     "output_type": "stream",
     "text": [
      "Model: \"sequential_4\"\n",
      "_________________________________________________________________\n",
      "Layer (type)                 Output Shape              Param #   \n",
      "=================================================================\n",
      "embedding_4 (Embedding)      (None, 15, 100)           269000    \n",
      "_________________________________________________________________\n",
      "bidirectional_4 (Bidirection (None, 300)               301200    \n",
      "_________________________________________________________________\n",
      "dense_8 (Dense)              (None, 2690)              809690    \n",
      "=================================================================\n",
      "Total params: 1,379,890\n",
      "Trainable params: 1,379,890\n",
      "Non-trainable params: 0\n",
      "_________________________________________________________________\n"
     ]
    }
   ],
   "source": [
    "model = tf.keras.Sequential([\n",
    "    tf.keras.layers.Embedding(total_words, 100, input_length=max_sequence_length-1),\n",
    "    tf.keras.layers.Bidirectional(tf.keras.layers.LSTM(150)),\n",
    "    tf.keras.layers.Dense(total_words, activation=\"softmax\")\n",
    "])\n",
    "\n",
    "model.compile(loss=\"categorical_crossentropy\", optimizer=tf.keras.optimizers.Adam(learning_rate=0.01), metrics=[\"accuracy\"])\n",
    "model.summary()"
   ],
   "metadata": {
    "collapsed": false,
    "pycharm": {
     "name": "#%%\n"
    }
   }
  },
  {
   "cell_type": "code",
   "execution_count": 52,
   "outputs": [
    {
     "name": "stdout",
     "output_type": "stream",
     "text": [
      "Epoch 1/100\n",
      "377/377 [==============================] - 16s 38ms/step - loss: 6.6430 - accuracy: 0.0725\n",
      "Epoch 2/100\n",
      "377/377 [==============================] - 13s 36ms/step - loss: 5.6866 - accuracy: 0.1172\n",
      "Epoch 3/100\n",
      "377/377 [==============================] - 17s 44ms/step - loss: 4.7867 - accuracy: 0.1713\n",
      "Epoch 4/100\n",
      "377/377 [==============================] - 17s 44ms/step - loss: 3.8462 - accuracy: 0.2456\n",
      "Epoch 5/100\n",
      "377/377 [==============================] - 17s 45ms/step - loss: 3.0382 - accuracy: 0.3502\n",
      "Epoch 6/100\n",
      "377/377 [==============================] - 17s 44ms/step - loss: 2.3376 - accuracy: 0.4654\n",
      "Epoch 7/100\n",
      "377/377 [==============================] - 18s 47ms/step - loss: 1.8707 - accuracy: 0.5669\n",
      "Epoch 8/100\n",
      "377/377 [==============================] - 17s 45ms/step - loss: 1.5216 - accuracy: 0.6409\n",
      "Epoch 9/100\n",
      "377/377 [==============================] - 16s 42ms/step - loss: 1.2955 - accuracy: 0.6884\n",
      "Epoch 10/100\n",
      "377/377 [==============================] - 16s 43ms/step - loss: 1.1440 - accuracy: 0.7229\n",
      "Epoch 11/100\n",
      "377/377 [==============================] - 17s 44ms/step - loss: 1.0580 - accuracy: 0.7451\n",
      "Epoch 12/100\n",
      "377/377 [==============================] - 16s 44ms/step - loss: 1.0305 - accuracy: 0.7490\n",
      "Epoch 13/100\n",
      "377/377 [==============================] - 16s 44ms/step - loss: 1.0393 - accuracy: 0.7402\n",
      "Epoch 14/100\n",
      "377/377 [==============================] - 17s 44ms/step - loss: 1.1174 - accuracy: 0.7153\n",
      "Epoch 15/100\n",
      "377/377 [==============================] - 17s 44ms/step - loss: 1.1422 - accuracy: 0.7067\n",
      "Epoch 16/100\n",
      "377/377 [==============================] - 17s 45ms/step - loss: 1.0675 - accuracy: 0.7250\n",
      "Epoch 17/100\n",
      "377/377 [==============================] - 16s 43ms/step - loss: 0.9397 - accuracy: 0.7573\n",
      "Epoch 18/100\n",
      "377/377 [==============================] - 17s 44ms/step - loss: 0.8589 - accuracy: 0.7840\n",
      "Epoch 19/100\n",
      "377/377 [==============================] - 17s 44ms/step - loss: 0.8375 - accuracy: 0.7910\n",
      "Epoch 20/100\n",
      "377/377 [==============================] - 17s 46ms/step - loss: 0.8107 - accuracy: 0.7943\n",
      "Epoch 21/100\n",
      "377/377 [==============================] - 18s 48ms/step - loss: 0.8910 - accuracy: 0.7722\n",
      "Epoch 22/100\n",
      "377/377 [==============================] - 18s 47ms/step - loss: 1.1456 - accuracy: 0.6996\n",
      "Epoch 23/100\n",
      "377/377 [==============================] - 18s 47ms/step - loss: 1.2566 - accuracy: 0.6750\n",
      "Epoch 24/100\n",
      "377/377 [==============================] - 18s 47ms/step - loss: 1.1191 - accuracy: 0.7059\n",
      "Epoch 25/100\n",
      "377/377 [==============================] - 18s 47ms/step - loss: 0.9622 - accuracy: 0.7491\n",
      "Epoch 26/100\n",
      "377/377 [==============================] - 19s 51ms/step - loss: 0.8933 - accuracy: 0.7707\n",
      "Epoch 27/100\n",
      "377/377 [==============================] - 20s 53ms/step - loss: 0.8368 - accuracy: 0.7842\n",
      "Epoch 28/100\n",
      "377/377 [==============================] - 20s 53ms/step - loss: 0.8331 - accuracy: 0.7852\n",
      "Epoch 29/100\n",
      "377/377 [==============================] - 19s 52ms/step - loss: 0.8331 - accuracy: 0.7821\n",
      "Epoch 30/100\n",
      "377/377 [==============================] - 19s 51ms/step - loss: 0.8778 - accuracy: 0.7702\n",
      "Epoch 31/100\n",
      "377/377 [==============================] - 19s 50ms/step - loss: 0.9250 - accuracy: 0.7536\n",
      "Epoch 32/100\n",
      "377/377 [==============================] - 19s 50ms/step - loss: 0.9711 - accuracy: 0.7418\n",
      "Epoch 33/100\n",
      "377/377 [==============================] - 19s 50ms/step - loss: 1.0081 - accuracy: 0.7342\n",
      "Epoch 34/100\n",
      "377/377 [==============================] - 19s 50ms/step - loss: 0.9749 - accuracy: 0.7418\n",
      "Epoch 35/100\n",
      "377/377 [==============================] - 19s 50ms/step - loss: 0.8904 - accuracy: 0.7651\n",
      "Epoch 36/100\n",
      "377/377 [==============================] - 19s 50ms/step - loss: 0.8051 - accuracy: 0.7865\n",
      "Epoch 37/100\n",
      "377/377 [==============================] - 19s 50ms/step - loss: 0.7863 - accuracy: 0.7927\n",
      "Epoch 38/100\n",
      "377/377 [==============================] - 19s 50ms/step - loss: 0.7984 - accuracy: 0.7891\n",
      "Epoch 39/100\n",
      "377/377 [==============================] - 19s 50ms/step - loss: 0.9021 - accuracy: 0.7657\n",
      "Epoch 40/100\n",
      "377/377 [==============================] - 19s 50ms/step - loss: 0.9963 - accuracy: 0.7390\n",
      "Epoch 41/100\n",
      "377/377 [==============================] - 19s 50ms/step - loss: 1.0013 - accuracy: 0.7353\n",
      "Epoch 42/100\n",
      "377/377 [==============================] - 19s 50ms/step - loss: 0.9491 - accuracy: 0.7450\n",
      "Epoch 43/100\n",
      "377/377 [==============================] - 19s 51ms/step - loss: 0.9016 - accuracy: 0.7585\n",
      "Epoch 44/100\n",
      "377/377 [==============================] - 19s 50ms/step - loss: 0.8434 - accuracy: 0.7736\n",
      "Epoch 45/100\n",
      "377/377 [==============================] - 19s 50ms/step - loss: 0.8102 - accuracy: 0.7848\n",
      "Epoch 46/100\n",
      "377/377 [==============================] - 19s 50ms/step - loss: 0.8223 - accuracy: 0.7824\n",
      "Epoch 47/100\n",
      "377/377 [==============================] - 19s 50ms/step - loss: 0.8479 - accuracy: 0.7719\n",
      "Epoch 48/100\n",
      "377/377 [==============================] - 19s 50ms/step - loss: 0.9001 - accuracy: 0.7591\n",
      "Epoch 49/100\n",
      "377/377 [==============================] - 19s 50ms/step - loss: 0.8870 - accuracy: 0.7626\n",
      "Epoch 50/100\n",
      "377/377 [==============================] - 19s 50ms/step - loss: 0.8261 - accuracy: 0.7794\n",
      "Epoch 51/100\n",
      "377/377 [==============================] - 19s 49ms/step - loss: 0.7961 - accuracy: 0.7857\n",
      "Epoch 52/100\n",
      "377/377 [==============================] - 19s 50ms/step - loss: 0.8048 - accuracy: 0.7850\n",
      "Epoch 53/100\n",
      "377/377 [==============================] - 19s 50ms/step - loss: 0.8461 - accuracy: 0.7757\n",
      "Epoch 54/100\n",
      "377/377 [==============================] - 19s 50ms/step - loss: 0.8884 - accuracy: 0.7677\n",
      "Epoch 55/100\n",
      "377/377 [==============================] - 19s 50ms/step - loss: 0.9186 - accuracy: 0.7589\n",
      "Epoch 56/100\n",
      "377/377 [==============================] - 19s 49ms/step - loss: 0.8832 - accuracy: 0.7652\n",
      "Epoch 57/100\n",
      "377/377 [==============================] - 19s 50ms/step - loss: 0.8790 - accuracy: 0.7686\n",
      "Epoch 58/100\n",
      "377/377 [==============================] - 19s 49ms/step - loss: 0.8718 - accuracy: 0.7674\n",
      "Epoch 59/100\n",
      "377/377 [==============================] - 19s 49ms/step - loss: 0.8285 - accuracy: 0.7776\n",
      "Epoch 60/100\n",
      "377/377 [==============================] - 19s 49ms/step - loss: 0.8258 - accuracy: 0.7838\n",
      "Epoch 61/100\n",
      "377/377 [==============================] - 19s 49ms/step - loss: 0.8682 - accuracy: 0.7722\n",
      "Epoch 62/100\n",
      "377/377 [==============================] - 18s 49ms/step - loss: 0.8474 - accuracy: 0.7800\n",
      "Epoch 63/100\n",
      "377/377 [==============================] - 18s 49ms/step - loss: 0.8560 - accuracy: 0.7736\n",
      "Epoch 64/100\n",
      "377/377 [==============================] - 18s 49ms/step - loss: 0.8486 - accuracy: 0.7805\n",
      "Epoch 65/100\n",
      "377/377 [==============================] - 19s 49ms/step - loss: 0.8785 - accuracy: 0.7672\n",
      "Epoch 66/100\n",
      "377/377 [==============================] - 19s 49ms/step - loss: 0.8960 - accuracy: 0.7641\n",
      "Epoch 67/100\n",
      "377/377 [==============================] - 19s 49ms/step - loss: 0.9366 - accuracy: 0.7519\n",
      "Epoch 68/100\n",
      "377/377 [==============================] - 19s 50ms/step - loss: 0.9461 - accuracy: 0.7521\n",
      "Epoch 69/100\n",
      "377/377 [==============================] - 19s 49ms/step - loss: 0.9291 - accuracy: 0.7598\n",
      "Epoch 70/100\n",
      "377/377 [==============================] - 19s 50ms/step - loss: 0.8386 - accuracy: 0.7802\n",
      "Epoch 71/100\n",
      "377/377 [==============================] - 19s 50ms/step - loss: 0.7964 - accuracy: 0.7887\n",
      "Epoch 72/100\n",
      "377/377 [==============================] - 19s 49ms/step - loss: 0.7727 - accuracy: 0.7958\n",
      "Epoch 73/100\n",
      "377/377 [==============================] - 19s 49ms/step - loss: 0.7849 - accuracy: 0.7926\n",
      "Epoch 74/100\n",
      "377/377 [==============================] - 18s 49ms/step - loss: 0.7938 - accuracy: 0.7900\n",
      "Epoch 75/100\n",
      "377/377 [==============================] - 18s 49ms/step - loss: 0.8290 - accuracy: 0.7785\n",
      "Epoch 76/100\n",
      "377/377 [==============================] - 18s 47ms/step - loss: 0.9128 - accuracy: 0.7608\n",
      "Epoch 77/100\n",
      "377/377 [==============================] - 18s 47ms/step - loss: 0.9405 - accuracy: 0.7521\n",
      "Epoch 78/100\n",
      "377/377 [==============================] - 18s 47ms/step - loss: 0.9174 - accuracy: 0.7594\n",
      "Epoch 79/100\n",
      "377/377 [==============================] - 18s 47ms/step - loss: 0.8762 - accuracy: 0.7685\n",
      "Epoch 80/100\n",
      "377/377 [==============================] - 18s 47ms/step - loss: 0.8398 - accuracy: 0.7770\n",
      "Epoch 81/100\n",
      "377/377 [==============================] - 18s 47ms/step - loss: 0.7995 - accuracy: 0.7859\n",
      "Epoch 82/100\n",
      "377/377 [==============================] - 18s 47ms/step - loss: 0.7622 - accuracy: 0.7975\n",
      "Epoch 83/100\n",
      "377/377 [==============================] - 18s 47ms/step - loss: 0.7608 - accuracy: 0.7973\n",
      "Epoch 84/100\n",
      "377/377 [==============================] - 18s 47ms/step - loss: 0.7819 - accuracy: 0.7931\n",
      "Epoch 85/100\n",
      "377/377 [==============================] - 18s 47ms/step - loss: 0.7814 - accuracy: 0.7918\n",
      "Epoch 86/100\n",
      "377/377 [==============================] - 18s 47ms/step - loss: 0.8104 - accuracy: 0.7842\n",
      "Epoch 87/100\n",
      "377/377 [==============================] - 18s 47ms/step - loss: 0.8396 - accuracy: 0.7789\n",
      "Epoch 88/100\n",
      "377/377 [==============================] - 18s 48ms/step - loss: 0.8539 - accuracy: 0.7706\n",
      "Epoch 89/100\n",
      "377/377 [==============================] - 18s 47ms/step - loss: 0.8739 - accuracy: 0.7711\n",
      "Epoch 90/100\n",
      "377/377 [==============================] - 18s 47ms/step - loss: 0.8526 - accuracy: 0.7745\n",
      "Epoch 91/100\n",
      "377/377 [==============================] - 18s 47ms/step - loss: 0.8311 - accuracy: 0.7755\n",
      "Epoch 92/100\n",
      "377/377 [==============================] - 18s 47ms/step - loss: 0.8200 - accuracy: 0.7829\n",
      "Epoch 93/100\n",
      "377/377 [==============================] - 18s 48ms/step - loss: 0.8177 - accuracy: 0.7809\n",
      "Epoch 94/100\n",
      "377/377 [==============================] - 18s 48ms/step - loss: 0.7676 - accuracy: 0.7948\n",
      "Epoch 95/100\n",
      "377/377 [==============================] - 19s 50ms/step - loss: 0.7355 - accuracy: 0.8015\n",
      "Epoch 96/100\n",
      "377/377 [==============================] - 19s 50ms/step - loss: 0.7447 - accuracy: 0.7991\n",
      "Epoch 97/100\n",
      "377/377 [==============================] - 16s 43ms/step - loss: 0.7909 - accuracy: 0.7966\n",
      "Epoch 98/100\n",
      "377/377 [==============================] - 15s 40ms/step - loss: 0.7450 - accuracy: 0.8015\n",
      "Epoch 99/100\n",
      "377/377 [==============================] - 15s 41ms/step - loss: 0.7657 - accuracy: 0.7967\n",
      "Epoch 100/100\n",
      "377/377 [==============================] - 15s 40ms/step - loss: 0.7818 - accuracy: 0.7910\n"
     ]
    }
   ],
   "source": [
    "history = model.fit(X, y, epochs=100)"
   ],
   "metadata": {
    "collapsed": false,
    "pycharm": {
     "name": "#%%\n"
    }
   }
  },
  {
   "cell_type": "code",
   "execution_count": 27,
   "outputs": [],
   "source": [
    "# model.save(\"shakespeare_macbeth.h5\")"
   ],
   "metadata": {
    "collapsed": false,
    "pycharm": {
     "name": "#%%\n"
    }
   }
  },
  {
   "cell_type": "code",
   "execution_count": 39,
   "outputs": [],
   "source": [
    "import matplotlib.pyplot as plt\n",
    "\n",
    "\n",
    "def plot_graphs(history, string):\n",
    "    plt.plot(history.history[string])\n",
    "    plt.xlabel(\"Epochs\")\n",
    "    plt.ylabel(string)\n",
    "    plt.show()"
   ],
   "metadata": {
    "collapsed": false,
    "pycharm": {
     "name": "#%%\n"
    }
   }
  },
  {
   "cell_type": "code",
   "execution_count": 40,
   "outputs": [
    {
     "data": {
      "text/plain": "<Figure size 432x288 with 1 Axes>",
      "image/png": "[encoded data removed]"
     },
     "metadata": {
      "needs_background": "light"
     },
     "output_type": "display_data"
    }
   ],
   "source": [
    "plot_graphs(history, 'accuracy')"
   ],
   "metadata": {
    "collapsed": false,
    "pycharm": {
     "name": "#%%\n"
    }
   }
  },
  {
   "cell_type": "code",
   "execution_count": 41,
   "outputs": [
    {
     "name": "stdout",
     "output_type": "stream",
     "text": [
      "laurence went to dublin doing all they as red water water long a hoops youd think the wall wall might might reel and taras old hall youd youd think the wall ask youd think mad got a pound pound call call old ask jig call kerrigan long weeks at ground ground ground couples and\n"
     ]
    }
   ],
   "source": [
    "seed_text = \"laurence went to dublin\"\n",
    "next_words = 50\n",
    "\n",
    "for _ in range(next_words):\n",
    "    token_list = tokenizer.texts_to_sequences([seed_text])[0]\n",
    "    token_list = pad_sequences([token_list], maxlen=max_sequence_length-1, padding='pre')\n",
    "    predicted = model.predict_classes(token_list, verbose=0)\n",
    "    output_word = \"\"\n",
    "    for word, index in tokenizer.word_index.items():\n",
    "        if index == predicted:\n",
    "            output_word = word\n",
    "            break\n",
    "    seed_text += \" \" + output_word\n",
    "print(seed_text)"
   ],
   "metadata": {
    "collapsed": false,
    "pycharm": {
     "name": "#%%\n"
    }
   }
  },
  {
   "cell_type": "code",
   "execution_count": null,
   "outputs": [],
   "source": [
    "# the output is strange, but remember that the corpus here is a single song - gibberish is to be expected."
   ],
   "metadata": {
    "collapsed": false,
    "pycharm": {
     "name": "#%%\n"
    }
   }
  }
 ],
 "metadata": {
  "kernelspec": {
   "display_name": "Python 3",
   "language": "python",
   "name": "python3"
  },
  "language_info": {
   "codemirror_mode": {
    "name": "ipython",
    "version": 2
   },
   "file_extension": ".py",
   "mimetype": "text/x-python",
   "name": "python",
   "nbconvert_exporter": "python",
   "pygments_lexer": "ipython2",
   "version": "2.7.6"
  }
 },
 "nbformat": 4,
 "nbformat_minor": 0
}